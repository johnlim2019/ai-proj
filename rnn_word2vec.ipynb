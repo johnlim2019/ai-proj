{
 "cells": [
  {
   "cell_type": "code",
   "execution_count": 20,
   "metadata": {},
   "outputs": [],
   "source": [
    "import pandas as pd\n",
    "from gensim.models import KeyedVectors, Word2Vec\n",
    "import torch\n",
    "from torch.nn.utils.rnn import pad_sequence\n",
    "from torch.utils.data import TensorDataset, random_split\n",
    "import pickle\n",
    "import matplotlib.pyplot as plt"
   ]
  },
  {
   "cell_type": "code",
   "execution_count": 21,
   "metadata": {},
   "outputs": [
    {
     "name": "stdout",
     "output_type": "stream",
     "text": [
      "text: 23187010\n",
      "(72100, 3)\n"
     ]
    }
   ],
   "source": [
    "df_text = pd.read_pickle('./data/clean_title_text.pkl')\n",
    "model_text = Word2Vec( df_text[\"tokens\"],vector_size=100)\n",
    "print(\"text: {0}\".format(model_text.corpus_total_words))\n",
    "model_text.wv.save_word2vec_format(\"./data/model_text\")\n",
    "print(df_text.shape)"
   ]
  },
  {
   "cell_type": "code",
   "execution_count": 22,
   "metadata": {},
   "outputs": [],
   "source": [
    "merged_keyed_vectors = KeyedVectors.load_word2vec_format(\"./data/model_text\")"
   ]
  },
  {
   "cell_type": "code",
   "execution_count": 23,
   "metadata": {},
   "outputs": [
    {
     "name": "stdout",
     "output_type": "stream",
     "text": [
      "2\n",
      "243.0\n",
      "12434\n",
      "812.0\n"
     ]
    },
    {
     "data": {
      "text/plain": [
       "(array([1.5808e+04, 2.1656e+04, 1.4808e+04, 7.5390e+03, 4.5840e+03,\n",
       "        3.0570e+03, 1.7490e+03, 9.1400e+02, 4.6500e+02, 3.4300e+02,\n",
       "        1.9400e+02, 1.9600e+02, 1.1500e+02, 8.5000e+01, 8.5000e+01,\n",
       "        7.2000e+01, 4.5000e+01, 5.0000e+01, 4.5000e+01, 4.6000e+01,\n",
       "        2.9000e+01, 2.3000e+01, 1.6000e+01, 2.1000e+01, 2.7000e+01,\n",
       "        1.3000e+01, 1.5000e+01, 5.0000e+00, 7.0000e+00, 1.1000e+01,\n",
       "        7.0000e+00, 5.0000e+00, 1.0000e+00, 1.0000e+01, 3.0000e+00,\n",
       "        6.0000e+00, 7.0000e+00, 3.0000e+00, 4.0000e+00, 4.0000e+00,\n",
       "        3.0000e+00, 3.0000e+00, 1.0000e+00, 2.0000e+00, 0.0000e+00,\n",
       "        3.0000e+00, 0.0000e+00, 1.0000e+00, 0.0000e+00, 1.0000e+00,\n",
       "        0.0000e+00, 0.0000e+00, 0.0000e+00, 1.0000e+00, 1.0000e+00,\n",
       "        0.0000e+00, 0.0000e+00, 0.0000e+00, 0.0000e+00, 0.0000e+00,\n",
       "        0.0000e+00, 1.0000e+00, 0.0000e+00, 0.0000e+00, 0.0000e+00,\n",
       "        2.0000e+00, 0.0000e+00, 0.0000e+00, 0.0000e+00, 0.0000e+00,\n",
       "        0.0000e+00, 0.0000e+00, 0.0000e+00, 3.0000e+00, 1.0000e+00,\n",
       "        0.0000e+00, 0.0000e+00, 0.0000e+00, 0.0000e+00, 0.0000e+00,\n",
       "        0.0000e+00, 0.0000e+00, 0.0000e+00, 2.0000e+00, 0.0000e+00,\n",
       "        0.0000e+00, 1.0000e+00, 0.0000e+00, 0.0000e+00, 0.0000e+00,\n",
       "        0.0000e+00, 0.0000e+00, 0.0000e+00, 0.0000e+00, 0.0000e+00,\n",
       "        0.0000e+00, 0.0000e+00, 0.0000e+00, 0.0000e+00, 1.0000e+00]),\n",
       " array([2.000000e+00, 1.263200e+02, 2.506400e+02, 3.749600e+02,\n",
       "        4.992800e+02, 6.236000e+02, 7.479200e+02, 8.722400e+02,\n",
       "        9.965600e+02, 1.120880e+03, 1.245200e+03, 1.369520e+03,\n",
       "        1.493840e+03, 1.618160e+03, 1.742480e+03, 1.866800e+03,\n",
       "        1.991120e+03, 2.115440e+03, 2.239760e+03, 2.364080e+03,\n",
       "        2.488400e+03, 2.612720e+03, 2.737040e+03, 2.861360e+03,\n",
       "        2.985680e+03, 3.110000e+03, 3.234320e+03, 3.358640e+03,\n",
       "        3.482960e+03, 3.607280e+03, 3.731600e+03, 3.855920e+03,\n",
       "        3.980240e+03, 4.104560e+03, 4.228880e+03, 4.353200e+03,\n",
       "        4.477520e+03, 4.601840e+03, 4.726160e+03, 4.850480e+03,\n",
       "        4.974800e+03, 5.099120e+03, 5.223440e+03, 5.347760e+03,\n",
       "        5.472080e+03, 5.596400e+03, 5.720720e+03, 5.845040e+03,\n",
       "        5.969360e+03, 6.093680e+03, 6.218000e+03, 6.342320e+03,\n",
       "        6.466640e+03, 6.590960e+03, 6.715280e+03, 6.839600e+03,\n",
       "        6.963920e+03, 7.088240e+03, 7.212560e+03, 7.336880e+03,\n",
       "        7.461200e+03, 7.585520e+03, 7.709840e+03, 7.834160e+03,\n",
       "        7.958480e+03, 8.082800e+03, 8.207120e+03, 8.331440e+03,\n",
       "        8.455760e+03, 8.580080e+03, 8.704400e+03, 8.828720e+03,\n",
       "        8.953040e+03, 9.077360e+03, 9.201680e+03, 9.326000e+03,\n",
       "        9.450320e+03, 9.574640e+03, 9.698960e+03, 9.823280e+03,\n",
       "        9.947600e+03, 1.007192e+04, 1.019624e+04, 1.032056e+04,\n",
       "        1.044488e+04, 1.056920e+04, 1.069352e+04, 1.081784e+04,\n",
       "        1.094216e+04, 1.106648e+04, 1.119080e+04, 1.131512e+04,\n",
       "        1.143944e+04, 1.156376e+04, 1.168808e+04, 1.181240e+04,\n",
       "        1.193672e+04, 1.206104e+04, 1.218536e+04, 1.230968e+04,\n",
       "        1.243400e+04]),\n",
       " <BarContainer object of 100 artists>)"
      ]
     },
     "execution_count": 23,
     "metadata": {},
     "output_type": "execute_result"
    },
    {
     "data": {
      "image/png": "[encoded data removed]",
      "text/plain": [
       "<Figure size 640x480 with 1 Axes>"
      ]
     },
     "metadata": {},
     "output_type": "display_data"
    }
   ],
   "source": [
    "lengths = df_text['tokens'].apply(lambda x: len(x))\n",
    "\n",
    "# Calculate the median length\n",
    "median_length = lengths.median()\n",
    "max_length = lengths.max()\n",
    "min_length = lengths.min()\n",
    "\n",
    "truncate_length = int(lengths.quantile(0.95))\n",
    "\n",
    "print(min_length)\n",
    "print(median_length)\n",
    "print(max_length)\n",
    "print(lengths.quantile(0.95))\n",
    "\n",
    "\n",
    "plt.hist(lengths,bins=100)\n"
   ]
  },
  {
   "cell_type": "code",
   "execution_count": 24,
   "metadata": {},
   "outputs": [
    {
     "name": "stdout",
     "output_type": "stream",
     "text": [
      "72100\n",
      "torch.Size([72100, 813, 100])\n",
      "torch.Size([72100])\n"
     ]
    }
   ],
   "source": [
    "# test with smaller amount of data\n",
    "FRACTION = 1\n",
    "size = int(df_text.shape[0] * FRACTION)\n",
    "print(size)\n",
    "\n",
    "\n",
    "# make tensors\n",
    "def text_to_tensor(text_list, merged_keyed_vectors,truncate_length):\n",
    "    vectors = [merged_keyed_vectors[word] for word in text_list[:truncate_length+1] if word in merged_keyed_vectors]\n",
    "    return torch.tensor(vectors)\n",
    "\n",
    "\n",
    "def stack_tensor(df: pd.DataFrame, col_name, word_model,truncate_length):\n",
    "    tensor_ls = []\n",
    "    label_ls = []\n",
    "    for row in df.itertuples(index=False):\n",
    "        # print(row[df.columns.get_loc('class')])\n",
    "        # print(row[df.columns.get_loc(col_name)])\n",
    "        label_ls.append(row[df.columns.get_loc(\"class\")])\n",
    "        tensor_ls.append(text_to_tensor(row[df.columns.get_loc(col_name)], word_model, truncate_length=truncate_length))\n",
    "    padded_ls = pad_sequence(tensor_ls, batch_first=True)\n",
    "    return torch.tensor(label_ls), torch.stack(tuple(padded_ls))\n",
    "\n",
    "\n",
    "text_labels_tensor, text_tensor = stack_tensor(\n",
    "    df_text.iloc[:size, :], \n",
    "    col_name=\"tokens\", \n",
    "    word_model=merged_keyed_vectors,\n",
    "    truncate_length=truncate_length\n",
    ")\n",
    "print(text_tensor.size())\n",
    "print(text_labels_tensor.size())\n",
    "text_dataset = TensorDataset(text_tensor, text_labels_tensor)"
   ]
  },
  {
   "cell_type": "code",
   "execution_count": 25,
   "metadata": {},
   "outputs": [
    {
     "name": "stdout",
     "output_type": "stream",
     "text": [
      "total_size 72100\n",
      "train_size 57680\n",
      "test_size 14420\n"
     ]
    }
   ],
   "source": [
    "def split(tensor_dataset, test_split=0.2):\n",
    "    test_size = int(len(tensor_dataset) * test_split)\n",
    "    train_size = int(len(tensor_dataset) - test_size)\n",
    "    train_data, test_data = random_split(tensor_dataset, [train_size, test_size])\n",
    "    print(f'total_size {len(tensor_dataset)}')\n",
    "    print(f'train_size {len(train_data)}')\n",
    "    print(f'test_size {len(test_data)}')\n",
    "    return train_data, test_data\n",
    "\n",
    "train_text_tensor, test_text_tensor = split(text_dataset,0.2)\n",
    "\n",
    "# with open(\"./data/train_merged\",\"wb\") as f:\n",
    "#     pickle.dump(train_text_tensor,f)\n",
    "# with open(\"./data/test_merged\",\"wb\") as f:\n",
    "#     pickle.dump(test_text_tensor,f)\n"
   ]
  },
  {
   "cell_type": "code",
   "execution_count": 26,
   "metadata": {},
   "outputs": [
    {
     "name": "stdout",
     "output_type": "stream",
     "text": [
      "shape: torch.Size([32, 813, 100])\n",
      "32\n"
     ]
    }
   ],
   "source": [
    "import torch\n",
    "import pickle\n",
    "from torch import nn\n",
    "from torch.utils.data import DataLoader\n",
    "\n",
    "batch_size=32\n",
    "train_text_data = DataLoader(train_text_tensor, batch_size=batch_size, shuffle=True)\n",
    "test_text_data = DataLoader(test_text_tensor, batch_size=batch_size, shuffle=True)\n",
    "\n",
    "# check batch dimension\n",
    "batch_size = train_text_data.batch_size\n",
    "for data, label in train_text_data:\n",
    "    print(\"shape: {0}\".format(data.size()))\n",
    "    break\n",
    "sequence_length = data.size()[1]\n",
    "print(batch_size)"
   ]
  },
  {
   "cell_type": "code",
   "execution_count": 27,
   "metadata": {},
   "outputs": [],
   "source": [
    "gpu = torch.device(\"mps\")\n",
    "class RNNClassifier(nn.Module):\n",
    "    def __init__(\n",
    "        self, hidden_size, input_size, num_layers, num_classes, dropout, activation_fn\n",
    "    ):\n",
    "        super(RNNClassifier, self).__init__()\n",
    "        self.gru = nn.GRU(input_size, hidden_size, num_layers, batch_first=True)\n",
    "        self.fc = nn.Linear(hidden_size * sequence_length, num_classes)\n",
    "        self.dropout = nn.Dropout(dropout)\n",
    "        self.nonlinearity = activation_fn\n",
    "\n",
    "    def forward(self, x):\n",
    "        # Initialize hidden state with random values.\n",
    "        h0 = torch.randn(self.gru.num_layers, x.size(0), self.gru.hidden_size).to(gpu)\n",
    "\n",
    "        out, _ = self.gru(x, h0)\n",
    "        out = out.reshape(out.shape[0], -1)\n",
    "        out = self.fc(out)\n",
    "        out = self.dropout(out)\n",
    "        out = self.nonlinearity(out)\n",
    "        out_distribution = nn.functional.log_softmax(out, dim=-1)\n",
    "        return out_distribution\n",
    "\n",
    "\n",
    "def train(\n",
    "    train_dataloader, test_dataloader, loss_criterion, num_epochs, model, optimizer\n",
    "):\n",
    "    # A counter for the number of gradient updates we've performed.\n",
    "    num_iter = 0\n",
    "\n",
    "    # Iterate `num_epochs` times.\n",
    "    for epoch in range(num_epochs):\n",
    "        print(\"Starting epoch {}\".format(epoch + 1))\n",
    "        # Iterate over the train_dataloader, unpacking the images and labels\n",
    "        for data, labels in train_dataloader:\n",
    "            # If we're using the GPU, move reshaped_images and labels to the GPU.\n",
    "            if gpu:\n",
    "                data = data.to(gpu)\n",
    "                labels = labels.to(gpu)\n",
    "\n",
    "            # Run the forward pass through the model to get predicted log distribution.\n",
    "            predicted = model(data)\n",
    "\n",
    "            # Calculate the loss\n",
    "            batch_loss = loss_criterion(predicted, labels)\n",
    "\n",
    "            # Clear the gradients as we prepare to backprop.\n",
    "            optimizer.zero_grad()\n",
    "\n",
    "            # Backprop (backward pass), which calculates gradients.\n",
    "            batch_loss.backward()\n",
    "\n",
    "            # Take a gradient step to update parameters.\n",
    "            optimizer.step()\n",
    "\n",
    "            # Increment gradient update counter.\n",
    "            num_iter += 1\n",
    "\n",
    "            # Calculate test set loss and accuracy every 100 gradient updates\n",
    "            # It's standard to have this as a separate evaluate function, but\n",
    "            # we'll place it inline for didactic purposes.\n",
    "            if num_iter % 1000 == 0:\n",
    "                # Set model to eval mode, which turns off dropout.\n",
    "                model.eval()\n",
    "                # Counters for the num of examples we get right / total num of examples.\n",
    "                num_correct = 0\n",
    "                total_examples = 0\n",
    "                total_test_loss = 0\n",
    "\n",
    "                with torch.no_grad():\n",
    "                    # Iterate over the test dataloader\n",
    "                    for test_data, test_labels in test_dataloader:\n",
    "\n",
    "                        # If we're using the GPU, move tensors to the GPU.\n",
    "                        if gpu:\n",
    "                            test_data = test_data.to(gpu)\n",
    "                            test_labels = test_labels.to(gpu)\n",
    "\n",
    "                        # Run the forward pass to get predicted distribution.\n",
    "                        predicted = model(test_data)\n",
    "\n",
    "                        # Calculate loss for this test batch. This is averaged, so multiply\n",
    "                        # by the number of examples in batch to get a total.\n",
    "                        total_test_loss += loss_criterion(\n",
    "                            predicted, test_labels\n",
    "                        ).data * test_labels.size(0)\n",
    "\n",
    "                        # Get predicted labels (argmax)\n",
    "                        _, predicted_labels = torch.max(predicted.data, 1)\n",
    "\n",
    "                        # Count the number of examples in this batch\n",
    "                        total_examples += test_labels.size(0)\n",
    "\n",
    "                        # Count the total number of correctly predicted labels.\n",
    "                        # predicted == labels generates a ByteTensor in indices where\n",
    "                        # predicted and labels match, so we can sum to get the num correct.\n",
    "                        num_correct += torch.sum(predicted_labels == test_labels.data)\n",
    "                accuracy = 100 * num_correct / total_examples\n",
    "                average_test_loss = total_test_loss / total_examples\n",
    "                print(\n",
    "                    \"Iteration {}. Test Loss {}. Test Accuracy {}.\".format(\n",
    "                        num_iter, average_test_loss, accuracy\n",
    "                    )\n",
    "                )\n",
    "                # Set the model back to train mode, which activates dropout again.\n",
    "                model.train()\n",
    "    return model"
   ]
  },
  {
   "cell_type": "code",
   "execution_count": 28,
   "metadata": {},
   "outputs": [
    {
     "data": {
      "text/plain": [
       "RNNClassifier(\n",
       "  (gru): GRU(100, 128, batch_first=True)\n",
       "  (fc): Linear(in_features=104064, out_features=2, bias=True)\n",
       "  (dropout): Dropout(p=0.5, inplace=False)\n",
       "  (nonlinearity): ReLU()\n",
       ")"
      ]
     },
     "execution_count": 28,
     "metadata": {},
     "output_type": "execute_result"
    }
   ],
   "source": [
    "activation_fn = nn.ReLU()\n",
    "model = RNNClassifier(\n",
    "    hidden_size=128, input_size=100, num_layers=1, num_classes=2, dropout=0.5, activation_fn=activation_fn\n",
    ")\n",
    "loss_criterion = nn.NLLLoss()\n",
    "optimiser = torch.optim.Adam(model.parameters(),lr=0.0001)\n",
    "model.to(gpu)"
   ]
  },
  {
   "cell_type": "code",
   "execution_count": 29,
   "metadata": {},
   "outputs": [
    {
     "name": "stdout",
     "output_type": "stream",
     "text": [
      "batch size:32\n",
      "Starting epoch 1\n"
     ]
    },
    {
     "name": "stdout",
     "output_type": "stream",
     "text": [
      "Iteration 1000. Test Loss 0.45920586585998535. Test Accuracy 92.45492553710938.\n",
      "Starting epoch 2\n",
      "Iteration 2000. Test Loss 0.4278078079223633. Test Accuracy 94.02912902832031.\n",
      "Iteration 3000. Test Loss 0.4349280595779419. Test Accuracy 94.09847259521484.\n",
      "Starting epoch 3\n",
      "Iteration 4000. Test Loss 0.41848501563072205. Test Accuracy 94.9930648803711.\n",
      "Iteration 5000. Test Loss 0.4141189157962799. Test Accuracy 94.81969451904297.\n",
      "Starting epoch 4\n",
      "Iteration 6000. Test Loss 0.4041016101837158. Test Accuracy 95.53398132324219.\n",
      "Iteration 7000. Test Loss 0.1282380223274231. Test Accuracy 95.59639739990234.\n",
      "Starting epoch 5\n",
      "Iteration 8000. Test Loss 0.11466962099075317. Test Accuracy 95.77669525146484.\n",
      "Iteration 9000. Test Loss 0.11623404175043106. Test Accuracy 95.8460464477539.\n",
      "Starting epoch 6\n",
      "Iteration 10000. Test Loss 0.10595009475946426. Test Accuracy 95.99861145019531.\n",
      "Starting epoch 7\n",
      "Iteration 11000. Test Loss 0.10443523526191711. Test Accuracy 95.92926788330078.\n",
      "Iteration 12000. Test Loss 0.10569700598716736. Test Accuracy 96.02635192871094.\n",
      "Starting epoch 8\n",
      "Iteration 13000. Test Loss 0.10071760416030884. Test Accuracy 95.92926788330078.\n",
      "Iteration 14000. Test Loss 0.09553711861371994. Test Accuracy 96.44937896728516.\n",
      "Starting epoch 9\n",
      "Iteration 15000. Test Loss 0.0916677936911583. Test Accuracy 96.60887908935547.\n",
      "Iteration 16000. Test Loss 0.0868038460612297. Test Accuracy 96.8238525390625.\n",
      "Starting epoch 10\n",
      "Iteration 17000. Test Loss 0.09141634404659271. Test Accuracy 96.58807373046875.\n",
      "Iteration 18000. Test Loss 0.08691833168268204. Test Accuracy 96.76837921142578.\n"
     ]
    }
   ],
   "source": [
    "num_epochs = 10\n",
    "print(f\"batch size:{batch_size}\")\n",
    "model = train(\n",
    "    train_text_data, \n",
    "    test_text_data, \n",
    "    loss_criterion, \n",
    "    num_epochs, \n",
    "    model, \n",
    "    optimiser\n",
    ")\n",
    "with open(\"./data/model\",\"wb\") as f:\n",
    "    torch.save(model,f)"
   ]
  },
  {
   "cell_type": "code",
   "execution_count": null,
   "metadata": {},
   "outputs": [],
   "source": []
  }
 ],
 "metadata": {
  "kernelspec": {
   "display_name": "ai-course",
   "language": "python",
   "name": "python3"
  },
  "language_info": {
   "codemirror_mode": {
    "name": "ipython",
    "version": 3
   },
   "file_extension": ".py",
   "mimetype": "text/x-python",
   "name": "python",
   "nbconvert_exporter": "python",
   "pygments_lexer": "ipython3",
   "version": "3.10.12"
  }
 },
 "nbformat": 4,
 "nbformat_minor": 2
}
