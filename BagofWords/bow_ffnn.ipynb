{
  "cells": [
    {
      "cell_type": "code",
      "execution_count": 1,
      "metadata": {
        "id": "-3jKlX9Im_QT",
        "colab": {
          "base_uri": "https://localhost:8080/"
        },
        "outputId": "de64ba8a-e2c4-406a-b1a0-53216a27ffb2"
      },
      "outputs": [
        {
          "output_type": "stream",
          "name": "stderr",
          "text": [
            "[nltk_data] Downloading package stopwords to /root/nltk_data...\n",
            "[nltk_data]   Package stopwords is already up-to-date!\n",
            "[nltk_data] Downloading package wordnet to /root/nltk_data...\n",
            "[nltk_data]   Package wordnet is already up-to-date!\n",
            "[nltk_data] Downloading package punkt to /root/nltk_data...\n",
            "[nltk_data]   Package punkt is already up-to-date!\n"
          ]
        },
        {
          "output_type": "execute_result",
          "data": {
            "text/plain": [
              "True"
            ]
          },
          "metadata": {},
          "execution_count": 1
        }
      ],
      "source": [
        "import numpy as np\n",
        "import pandas as pd\n",
        "import torch\n",
        "import re\n",
        "import nltk\n",
        "from sklearn.pipeline import Pipeline, FeatureUnion\n",
        "from sklearn.feature_extraction.text import CountVectorizer\n",
        "from sklearn.svm import LinearSVC\n",
        "from sklearn.naive_bayes import MultinomialNB\n",
        "from sklearn.feature_extraction.text import TfidfTransformer\n",
        "from sklearn.feature_extraction.text import TfidfVectorizer\n",
        "from sklearn.multiclass import OneVsRestClassifier\n",
        "from sklearn.preprocessing import FunctionTransformer\n",
        "from sklearn.model_selection import train_test_split\n",
        "from nltk.stem import PorterStemmer\n",
        "from nltk.corpus import stopwords\n",
        "from nltk.corpus import wordnet as wn\n",
        "import tensorflow\n",
        "nltk.download('stopwords')\n",
        "nltk.download('wordnet')\n",
        "nltk.download('punkt')"
      ]
    },
    {
      "cell_type": "code",
      "execution_count": 2,
      "metadata": {
        "colab": {
          "base_uri": "https://localhost:8080/"
        },
        "id": "MWrd8r662UJJ",
        "outputId": "947a5206-12b4-49d0-84a3-ce2e0d1a7786"
      },
      "outputs": [
        {
          "output_type": "stream",
          "name": "stdout",
          "text": [
            "Drive already mounted at /content/drive; to attempt to forcibly remount, call drive.mount(\"/content/drive\", force_remount=True).\n"
          ]
        }
      ],
      "source": [
        "from google.colab import drive\n",
        "drive.mount('/content/drive')"
      ]
    },
    {
      "cell_type": "code",
      "execution_count": 3,
      "metadata": {
        "id": "CJ7LmSaNDLn8",
        "colab": {
          "base_uri": "https://localhost:8080/"
        },
        "outputId": "c2a597b3-eaf0-4ce6-e11d-4191b4c211b6"
      },
      "outputs": [
        {
          "output_type": "stream",
          "name": "stdout",
          "text": [
            "Index(['Unnamed: 0', 'title', 'text', 'label'], dtype='object')\n",
            "(71537, 4)\n",
            "<class 'str'>\n"
          ]
        }
      ],
      "source": [
        "# load the new content features data from csv.\n",
        "df = pd.read_csv('/content/drive/MyDrive/School/Term 8/AI Project/Final Weights/WELFake_Dataset.csv')\n",
        "df = df.dropna()\n",
        "print(df.columns)\n",
        "print(df.shape)\n",
        "print(type(df.loc[7,\"text\"]))\n",
        "\n",
        "df['merged'] = df['title'] + df['text']\n",
        "merged_iterator = df['merged']"
      ]
    },
    {
      "cell_type": "code",
      "source": [
        "import tensorflow as tf\n",
        "y = df[\"label\"].values\n",
        "\n",
        "vocab_size = 2000\n",
        "\n",
        "# create vectoriser\n",
        "vectorizer = tf.keras.layers.TextVectorization(max_tokens=vocab_size,output_mode='tf_idf')\n",
        "vectorizer.adapt(merged_iterator.values)\n",
        "\n",
        "# create tf-idf\n",
        "x = vectorizer(merged_iterator.values).numpy()\n",
        "print(x.shape)"
      ],
      "metadata": {
        "colab": {
          "base_uri": "https://localhost:8080/"
        },
        "id": "Bt_Tx4OR3hk_",
        "outputId": "edb03e66-d53a-4362-8687-c9d38ca89c24"
      },
      "execution_count": 4,
      "outputs": [
        {
          "output_type": "stream",
          "name": "stdout",
          "text": [
            "(71537, 2000)\n"
          ]
        }
      ]
    },
    {
      "cell_type": "code",
      "execution_count": 5,
      "metadata": {
        "id": "oqknK95bUVIm",
        "colab": {
          "base_uri": "https://localhost:8080/"
        },
        "outputId": "7e27878d-a94c-4700-d47e-7229a563f0a7"
      },
      "outputs": [
        {
          "output_type": "stream",
          "name": "stdout",
          "text": [
            "(28614, 2000)\n",
            "(28615, 2000)\n",
            "(7154, 2000)\n",
            "(7154, 2000)\n"
          ]
        }
      ],
      "source": [
        "# split the data\n",
        "from sklearn.model_selection import train_test_split\n",
        "X_train, X_temp, y_train, y_temp = train_test_split(x, y, test_size=0.2, random_state=42)\n",
        "# 40 train1, 40 train2, 10 val, 10 test\n",
        "X_train1, X_train2, y_train1, y_train2 = train_test_split(X_train, y_train, test_size=0.5, random_state=42)\n",
        "# Further split the remaining data (20%) into validation and testing sets (50% each)\n",
        "X_val, X_test, y_val, y_test = train_test_split(X_temp, y_temp, test_size=0.5, random_state=42)\n",
        "\n",
        "print(X_train1.shape)\n",
        "print((X_train2.shape))\n",
        "print((X_val.shape))\n",
        "print((X_test.shape))\n"
      ]
    },
    {
      "cell_type": "code",
      "execution_count": 6,
      "metadata": {
        "id": "1vHoY805o_0s",
        "colab": {
          "base_uri": "https://localhost:8080/"
        },
        "outputId": "ab9bfd12-5fff-4496-db40-dccbaff80da8"
      },
      "outputs": [
        {
          "output_type": "stream",
          "name": "stdout",
          "text": [
            "2000\n"
          ]
        }
      ],
      "source": [
        "input=X_train1.shape[1]\n",
        "print(input)"
      ]
    },
    {
      "cell_type": "markdown",
      "metadata": {
        "id": "HwsGW2USTstR"
      },
      "source": [
        "This is the best config"
      ]
    },
    {
      "cell_type": "code",
      "execution_count": 10,
      "metadata": {
        "id": "fZWGHwEdTqK_",
        "colab": {
          "base_uri": "https://localhost:8080/"
        },
        "outputId": "02981d2f-ecfb-458b-ebb2-c3951555e0bc"
      },
      "outputs": [
        {
          "output_type": "stream",
          "name": "stdout",
          "text": [
            "Epoch 1/20\n",
            "895/895 [==============================] - ETA: 0s - loss: 0.6799 - accuracy: 0.9043\n",
            "Epoch 1: val_accuracy improved from -inf to 0.95387, saving model to /content/drive/MyDrive/School/Term 8/AI Project/bow_ffnn_model_best_new.h5\n",
            "895/895 [==============================] - 7s 6ms/step - loss: 0.6799 - accuracy: 0.9043 - val_loss: 0.1679 - val_accuracy: 0.9539\n",
            "Epoch 2/20\n",
            "890/895 [============================>.] - ETA: 0s - loss: 0.1691 - accuracy: 0.9538\n",
            "Epoch 2: val_accuracy improved from 0.95387 to 0.95807, saving model to /content/drive/MyDrive/School/Term 8/AI Project/bow_ffnn_model_best_new.h5\n",
            "895/895 [==============================] - 4s 4ms/step - loss: 0.1690 - accuracy: 0.9538 - val_loss: 0.1286 - val_accuracy: 0.9581\n",
            "Epoch 3/20\n",
            "887/895 [============================>.] - ETA: 0s - loss: 0.1070 - accuracy: 0.9683\n",
            "Epoch 3: val_accuracy improved from 0.95807 to 0.96296, saving model to /content/drive/MyDrive/School/Term 8/AI Project/bow_ffnn_model_best_new.h5\n",
            "895/895 [==============================] - 4s 5ms/step - loss: 0.1077 - accuracy: 0.9682 - val_loss: 0.1212 - val_accuracy: 0.9630\n",
            "Epoch 4/20\n",
            "890/895 [============================>.] - ETA: 0s - loss: 0.1295 - accuracy: 0.9669\n",
            "Epoch 4: val_accuracy did not improve from 0.96296\n",
            "895/895 [==============================] - 5s 6ms/step - loss: 0.1296 - accuracy: 0.9668 - val_loss: 0.1496 - val_accuracy: 0.9620\n",
            "Epoch 5/20\n",
            "890/895 [============================>.] - ETA: 0s - loss: 0.1284 - accuracy: 0.9697\n",
            "Epoch 5: val_accuracy improved from 0.96296 to 0.96352, saving model to /content/drive/MyDrive/School/Term 8/AI Project/bow_ffnn_model_best_new.h5\n",
            "895/895 [==============================] - 5s 5ms/step - loss: 0.1286 - accuracy: 0.9696 - val_loss: 0.1608 - val_accuracy: 0.9635\n",
            "Epoch 6/20\n",
            "890/895 [============================>.] - ETA: 0s - loss: 0.0682 - accuracy: 0.9811\n",
            "Epoch 6: val_accuracy did not improve from 0.96352\n",
            "895/895 [==============================] - 4s 4ms/step - loss: 0.0681 - accuracy: 0.9810 - val_loss: 0.1382 - val_accuracy: 0.9631\n",
            "Epoch 7/20\n",
            "891/895 [============================>.] - ETA: 0s - loss: 0.0913 - accuracy: 0.9806\n",
            "Epoch 7: val_accuracy did not improve from 0.96352\n",
            "895/895 [==============================] - 5s 5ms/step - loss: 0.0911 - accuracy: 0.9806 - val_loss: 0.2208 - val_accuracy: 0.9611\n",
            "Epoch 8/20\n",
            "886/895 [============================>.] - ETA: 0s - loss: 0.0796 - accuracy: 0.9803\n",
            "Epoch 8: val_accuracy improved from 0.96352 to 0.97009, saving model to /content/drive/MyDrive/School/Term 8/AI Project/bow_ffnn_model_best_new.h5\n",
            "895/895 [==============================] - 5s 5ms/step - loss: 0.0790 - accuracy: 0.9804 - val_loss: 0.1302 - val_accuracy: 0.9701\n",
            "Epoch 9/20\n",
            "892/895 [============================>.] - ETA: 0s - loss: 0.0847 - accuracy: 0.9821\n",
            "Epoch 9: val_accuracy did not improve from 0.97009\n",
            "895/895 [==============================] - 4s 4ms/step - loss: 0.0845 - accuracy: 0.9821 - val_loss: 0.1446 - val_accuracy: 0.9699\n",
            "Epoch 10/20\n",
            "895/895 [==============================] - ETA: 0s - loss: 0.0905 - accuracy: 0.9826\n",
            "Epoch 10: val_accuracy did not improve from 0.97009\n",
            "895/895 [==============================] - 5s 5ms/step - loss: 0.0905 - accuracy: 0.9826 - val_loss: 0.1908 - val_accuracy: 0.9681\n",
            "Epoch 11/20\n",
            "891/895 [============================>.] - ETA: 0s - loss: 0.0604 - accuracy: 0.9898\n",
            "Epoch 11: val_accuracy did not improve from 0.97009\n",
            "895/895 [==============================] - 4s 4ms/step - loss: 0.0616 - accuracy: 0.9897 - val_loss: 0.2977 - val_accuracy: 0.9660\n",
            "Epoch 12/20\n",
            "883/895 [============================>.] - ETA: 0s - loss: 0.1172 - accuracy: 0.9846\n",
            "Epoch 12: val_accuracy did not improve from 0.97009\n",
            "895/895 [==============================] - 4s 4ms/step - loss: 0.1159 - accuracy: 0.9847 - val_loss: 0.2246 - val_accuracy: 0.9688\n",
            "Epoch 13/20\n",
            "894/895 [============================>.] - ETA: 0s - loss: 0.0399 - accuracy: 0.9917\n",
            "Epoch 13: val_accuracy did not improve from 0.97009\n",
            "895/895 [==============================] - 4s 5ms/step - loss: 0.0399 - accuracy: 0.9917 - val_loss: 0.3614 - val_accuracy: 0.9610\n",
            "Epoch 14/20\n",
            "893/895 [============================>.] - ETA: 0s - loss: 0.0781 - accuracy: 0.9878\n",
            "Epoch 14: val_accuracy did not improve from 0.97009\n",
            "895/895 [==============================] - 4s 5ms/step - loss: 0.0780 - accuracy: 0.9878 - val_loss: 0.3853 - val_accuracy: 0.9595\n",
            "Epoch 15/20\n",
            "886/895 [============================>.] - ETA: 0s - loss: 0.0663 - accuracy: 0.9898\n",
            "Epoch 15: val_accuracy improved from 0.97009 to 0.97093, saving model to /content/drive/MyDrive/School/Term 8/AI Project/bow_ffnn_model_best_new.h5\n",
            "895/895 [==============================] - 5s 5ms/step - loss: 0.0676 - accuracy: 0.9898 - val_loss: 0.2553 - val_accuracy: 0.9709\n",
            "Epoch 16/20\n",
            "890/895 [============================>.] - ETA: 0s - loss: 0.0712 - accuracy: 0.9903\n",
            "Epoch 16: val_accuracy did not improve from 0.97093\n",
            "895/895 [==============================] - 4s 5ms/step - loss: 0.0711 - accuracy: 0.9903 - val_loss: 0.3367 - val_accuracy: 0.9704\n",
            "Epoch 17/20\n",
            "886/895 [============================>.] - ETA: 0s - loss: 0.0753 - accuracy: 0.9906\n",
            "Epoch 17: val_accuracy did not improve from 0.97093\n",
            "895/895 [==============================] - 5s 5ms/step - loss: 0.0747 - accuracy: 0.9906 - val_loss: 0.3139 - val_accuracy: 0.9691\n",
            "Epoch 18/20\n",
            "892/895 [============================>.] - ETA: 0s - loss: 0.0299 - accuracy: 0.9942\n",
            "Epoch 18: val_accuracy did not improve from 0.97093\n",
            "895/895 [==============================] - 4s 4ms/step - loss: 0.0299 - accuracy: 0.9942 - val_loss: 0.3908 - val_accuracy: 0.9694\n",
            "Epoch 19/20\n",
            "893/895 [============================>.] - ETA: 0s - loss: 0.0372 - accuracy: 0.9949\n",
            "Epoch 19: val_accuracy did not improve from 0.97093\n",
            "895/895 [==============================] - 4s 4ms/step - loss: 0.0371 - accuracy: 0.9949 - val_loss: 0.4554 - val_accuracy: 0.9641\n",
            "Epoch 20/20\n",
            "895/895 [==============================] - ETA: 0s - loss: 0.0761 - accuracy: 0.9917\n",
            "Epoch 20: val_accuracy did not improve from 0.97093\n",
            "895/895 [==============================] - 5s 5ms/step - loss: 0.0761 - accuracy: 0.9917 - val_loss: 0.4535 - val_accuracy: 0.9697\n"
          ]
        }
      ],
      "source": [
        "from keras.optimizers import Adamax\n",
        "from keras.callbacks import ModelCheckpoint\n",
        "from tensorflow.keras.models import Sequential\n",
        "from tensorflow.keras.layers import Dense, Dropout\n",
        "\n",
        "ffnn_neurons = 1024\n",
        "dropout = 0.5\n",
        "\n",
        "# Define FFNN model without embedding layer\n",
        "ffnn_model = Sequential()\n",
        "ffnn_model.add(Dense(ffnn_neurons, activation='relu', input_shape=(input,)))\n",
        "ffnn_model.add(Dropout(dropout))\n",
        "ffnn_model.add(Dense(1, activation='sigmoid'))\n",
        "\n",
        "\n",
        "checkpoint_callback = ModelCheckpoint(\n",
        "    filepath=\"/content/drive/MyDrive/School/Term 8/AI Project/bow_ffnn_model_best_new.h5\",\n",
        "    monitor='val_accuracy', # \"val_loss\" or 'val_accuracy' depending on your task\n",
        "    verbose=1,\n",
        "    save_best_only=True,\n",
        "    mode='max' # Use 'min' for loss, 'max' for accuracy\n",
        ")\n",
        "\n",
        "# Compile the model\n",
        "ffnn_model.compile(optimizer='adam', loss='binary_crossentropy', metrics=['accuracy'])\n",
        "\n",
        "# Assuming X_train and y_train1 are defined elsewhere\n",
        "# Train the model\n",
        "history = ffnn_model.fit(X_train1, y_train1, epochs=20, batch_size=32, validation_data=(X_val, y_val),callbacks=checkpoint_callback)"
      ]
    },
    {
      "cell_type": "code",
      "execution_count": 13,
      "metadata": {
        "colab": {
          "base_uri": "https://localhost:8080/"
        },
        "id": "Oe-sDT-dVRmi",
        "outputId": "b3b7eb8c-55d6-49e3-e5c0-f47e19083fb5"
      },
      "outputs": [
        {
          "output_type": "stream",
          "name": "stdout",
          "text": [
            "224/224 - 1s - loss: 0.3457 - accuracy: 0.9639 - 526ms/epoch - 2ms/step\n",
            "Model accuracy: 96.39363%\n"
          ]
        }
      ],
      "source": [
        "# Load the model\n",
        "import tensorflow as tf\n",
        "from tensorflow.keras.models import load_model\n",
        "\n",
        "model = load_model(\"/content/drive/MyDrive/School/Term 8/AI Project/bow_ffnn_model_best_new.h5\")\n",
        "loss, acc = model.evaluate(X_test, y_test, verbose=2)\n",
        "print(\"Model accuracy: {:5.5f}%\".format(100 * acc))\n"
      ]
    },
    {
      "cell_type": "markdown",
      "metadata": {
        "id": "L-qIduG2TwRE"
      },
      "source": [
        "below are the testing from model tuning"
      ]
    },
    {
      "cell_type": "code",
      "execution_count": 10,
      "metadata": {
        "colab": {
          "base_uri": "https://localhost:8080/",
          "height": 400
        },
        "id": "KY3CfOrNu7Sg",
        "outputId": "ded3ec05-28e1-451d-9c61-a99db3df4ff4"
      },
      "outputs": [
        {
          "output_type": "stream",
          "name": "stdout",
          "text": [
            "Epoch 1/10\n",
            "895/895 [==============================] - 11s 10ms/step - loss: 0.2883 - accuracy: 0.8642 - val_loss: 0.1336 - val_accuracy: 0.9495\n",
            "Epoch 2/10\n",
            "652/895 [====================>.........] - ETA: 0s - loss: 0.1523 - accuracy: 0.9439"
          ]
        },
        {
          "output_type": "error",
          "ename": "KeyboardInterrupt",
          "evalue": "",
          "traceback": [
            "\u001b[0;31m---------------------------------------------------------------------------\u001b[0m",
            "\u001b[0;31mKeyboardInterrupt\u001b[0m                         Traceback (most recent call last)",
            "\u001b[0;32m<ipython-input-10-7590fc9c7a7c>\u001b[0m in \u001b[0;36m<cell line: 22>\u001b[0;34m()\u001b[0m\n\u001b[1;32m     20\u001b[0m \u001b[0;31m# Assuming X_train and y_train1 are defined elsewhere\u001b[0m\u001b[0;34m\u001b[0m\u001b[0;34m\u001b[0m\u001b[0m\n\u001b[1;32m     21\u001b[0m \u001b[0;31m# Train the model\u001b[0m\u001b[0;34m\u001b[0m\u001b[0;34m\u001b[0m\u001b[0m\n\u001b[0;32m---> 22\u001b[0;31m \u001b[0mhistory\u001b[0m \u001b[0;34m=\u001b[0m \u001b[0mffnn_model\u001b[0m\u001b[0;34m.\u001b[0m\u001b[0mfit\u001b[0m\u001b[0;34m(\u001b[0m\u001b[0mX_train1\u001b[0m\u001b[0;34m,\u001b[0m \u001b[0my_train1\u001b[0m\u001b[0;34m,\u001b[0m \u001b[0mepochs\u001b[0m\u001b[0;34m=\u001b[0m\u001b[0;36m10\u001b[0m\u001b[0;34m,\u001b[0m \u001b[0mbatch_size\u001b[0m\u001b[0;34m=\u001b[0m\u001b[0;36m32\u001b[0m\u001b[0;34m,\u001b[0m \u001b[0mvalidation_data\u001b[0m\u001b[0;34m=\u001b[0m\u001b[0;34m(\u001b[0m\u001b[0mX_val\u001b[0m\u001b[0;34m,\u001b[0m \u001b[0my_val\u001b[0m\u001b[0;34m)\u001b[0m\u001b[0;34m)\u001b[0m\u001b[0;34m\u001b[0m\u001b[0;34m\u001b[0m\u001b[0m\n\u001b[0m",
            "\u001b[0;32m/usr/local/lib/python3.10/dist-packages/keras/src/utils/traceback_utils.py\u001b[0m in \u001b[0;36merror_handler\u001b[0;34m(*args, **kwargs)\u001b[0m\n\u001b[1;32m     63\u001b[0m         \u001b[0mfiltered_tb\u001b[0m \u001b[0;34m=\u001b[0m \u001b[0;32mNone\u001b[0m\u001b[0;34m\u001b[0m\u001b[0;34m\u001b[0m\u001b[0m\n\u001b[1;32m     64\u001b[0m         \u001b[0;32mtry\u001b[0m\u001b[0;34m:\u001b[0m\u001b[0;34m\u001b[0m\u001b[0;34m\u001b[0m\u001b[0m\n\u001b[0;32m---> 65\u001b[0;31m             \u001b[0;32mreturn\u001b[0m \u001b[0mfn\u001b[0m\u001b[0;34m(\u001b[0m\u001b[0;34m*\u001b[0m\u001b[0margs\u001b[0m\u001b[0;34m,\u001b[0m \u001b[0;34m**\u001b[0m\u001b[0mkwargs\u001b[0m\u001b[0;34m)\u001b[0m\u001b[0;34m\u001b[0m\u001b[0;34m\u001b[0m\u001b[0m\n\u001b[0m\u001b[1;32m     66\u001b[0m         \u001b[0;32mexcept\u001b[0m \u001b[0mException\u001b[0m \u001b[0;32mas\u001b[0m \u001b[0me\u001b[0m\u001b[0;34m:\u001b[0m\u001b[0;34m\u001b[0m\u001b[0;34m\u001b[0m\u001b[0m\n\u001b[1;32m     67\u001b[0m             \u001b[0mfiltered_tb\u001b[0m \u001b[0;34m=\u001b[0m \u001b[0m_process_traceback_frames\u001b[0m\u001b[0;34m(\u001b[0m\u001b[0me\u001b[0m\u001b[0;34m.\u001b[0m\u001b[0m__traceback__\u001b[0m\u001b[0;34m)\u001b[0m\u001b[0;34m\u001b[0m\u001b[0;34m\u001b[0m\u001b[0m\n",
            "\u001b[0;32m/usr/local/lib/python3.10/dist-packages/keras/src/engine/training.py\u001b[0m in \u001b[0;36mfit\u001b[0;34m(self, x, y, batch_size, epochs, verbose, callbacks, validation_split, validation_data, shuffle, class_weight, sample_weight, initial_epoch, steps_per_epoch, validation_steps, validation_batch_size, validation_freq, max_queue_size, workers, use_multiprocessing)\u001b[0m\n\u001b[1;32m   1805\u001b[0m                         ):\n\u001b[1;32m   1806\u001b[0m                             \u001b[0mcallbacks\u001b[0m\u001b[0;34m.\u001b[0m\u001b[0mon_train_batch_begin\u001b[0m\u001b[0;34m(\u001b[0m\u001b[0mstep\u001b[0m\u001b[0;34m)\u001b[0m\u001b[0;34m\u001b[0m\u001b[0;34m\u001b[0m\u001b[0m\n\u001b[0;32m-> 1807\u001b[0;31m                             \u001b[0mtmp_logs\u001b[0m \u001b[0;34m=\u001b[0m \u001b[0mself\u001b[0m\u001b[0;34m.\u001b[0m\u001b[0mtrain_function\u001b[0m\u001b[0;34m(\u001b[0m\u001b[0miterator\u001b[0m\u001b[0;34m)\u001b[0m\u001b[0;34m\u001b[0m\u001b[0;34m\u001b[0m\u001b[0m\n\u001b[0m\u001b[1;32m   1808\u001b[0m                             \u001b[0;32mif\u001b[0m \u001b[0mdata_handler\u001b[0m\u001b[0;34m.\u001b[0m\u001b[0mshould_sync\u001b[0m\u001b[0;34m:\u001b[0m\u001b[0;34m\u001b[0m\u001b[0;34m\u001b[0m\u001b[0m\n\u001b[1;32m   1809\u001b[0m                                 \u001b[0mcontext\u001b[0m\u001b[0;34m.\u001b[0m\u001b[0masync_wait\u001b[0m\u001b[0;34m(\u001b[0m\u001b[0;34m)\u001b[0m\u001b[0;34m\u001b[0m\u001b[0;34m\u001b[0m\u001b[0m\n",
            "\u001b[0;32m/usr/local/lib/python3.10/dist-packages/tensorflow/python/util/traceback_utils.py\u001b[0m in \u001b[0;36merror_handler\u001b[0;34m(*args, **kwargs)\u001b[0m\n\u001b[1;32m    148\u001b[0m     \u001b[0mfiltered_tb\u001b[0m \u001b[0;34m=\u001b[0m \u001b[0;32mNone\u001b[0m\u001b[0;34m\u001b[0m\u001b[0;34m\u001b[0m\u001b[0m\n\u001b[1;32m    149\u001b[0m     \u001b[0;32mtry\u001b[0m\u001b[0;34m:\u001b[0m\u001b[0;34m\u001b[0m\u001b[0;34m\u001b[0m\u001b[0m\n\u001b[0;32m--> 150\u001b[0;31m       \u001b[0;32mreturn\u001b[0m \u001b[0mfn\u001b[0m\u001b[0;34m(\u001b[0m\u001b[0;34m*\u001b[0m\u001b[0margs\u001b[0m\u001b[0;34m,\u001b[0m \u001b[0;34m**\u001b[0m\u001b[0mkwargs\u001b[0m\u001b[0;34m)\u001b[0m\u001b[0;34m\u001b[0m\u001b[0;34m\u001b[0m\u001b[0m\n\u001b[0m\u001b[1;32m    151\u001b[0m     \u001b[0;32mexcept\u001b[0m \u001b[0mException\u001b[0m \u001b[0;32mas\u001b[0m \u001b[0me\u001b[0m\u001b[0;34m:\u001b[0m\u001b[0;34m\u001b[0m\u001b[0;34m\u001b[0m\u001b[0m\n\u001b[1;32m    152\u001b[0m       \u001b[0mfiltered_tb\u001b[0m \u001b[0;34m=\u001b[0m \u001b[0m_process_traceback_frames\u001b[0m\u001b[0;34m(\u001b[0m\u001b[0me\u001b[0m\u001b[0;34m.\u001b[0m\u001b[0m__traceback__\u001b[0m\u001b[0;34m)\u001b[0m\u001b[0;34m\u001b[0m\u001b[0;34m\u001b[0m\u001b[0m\n",
            "\u001b[0;32m/usr/local/lib/python3.10/dist-packages/tensorflow/python/eager/polymorphic_function/polymorphic_function.py\u001b[0m in \u001b[0;36m__call__\u001b[0;34m(self, *args, **kwds)\u001b[0m\n\u001b[1;32m    830\u001b[0m \u001b[0;34m\u001b[0m\u001b[0m\n\u001b[1;32m    831\u001b[0m       \u001b[0;32mwith\u001b[0m \u001b[0mOptionalXlaContext\u001b[0m\u001b[0;34m(\u001b[0m\u001b[0mself\u001b[0m\u001b[0;34m.\u001b[0m\u001b[0m_jit_compile\u001b[0m\u001b[0;34m)\u001b[0m\u001b[0;34m:\u001b[0m\u001b[0;34m\u001b[0m\u001b[0;34m\u001b[0m\u001b[0m\n\u001b[0;32m--> 832\u001b[0;31m         \u001b[0mresult\u001b[0m \u001b[0;34m=\u001b[0m \u001b[0mself\u001b[0m\u001b[0;34m.\u001b[0m\u001b[0m_call\u001b[0m\u001b[0;34m(\u001b[0m\u001b[0;34m*\u001b[0m\u001b[0margs\u001b[0m\u001b[0;34m,\u001b[0m \u001b[0;34m**\u001b[0m\u001b[0mkwds\u001b[0m\u001b[0;34m)\u001b[0m\u001b[0;34m\u001b[0m\u001b[0;34m\u001b[0m\u001b[0m\n\u001b[0m\u001b[1;32m    833\u001b[0m \u001b[0;34m\u001b[0m\u001b[0m\n\u001b[1;32m    834\u001b[0m       \u001b[0mnew_tracing_count\u001b[0m \u001b[0;34m=\u001b[0m \u001b[0mself\u001b[0m\u001b[0;34m.\u001b[0m\u001b[0mexperimental_get_tracing_count\u001b[0m\u001b[0;34m(\u001b[0m\u001b[0;34m)\u001b[0m\u001b[0;34m\u001b[0m\u001b[0;34m\u001b[0m\u001b[0m\n",
            "\u001b[0;32m/usr/local/lib/python3.10/dist-packages/tensorflow/python/eager/polymorphic_function/polymorphic_function.py\u001b[0m in \u001b[0;36m_call\u001b[0;34m(self, *args, **kwds)\u001b[0m\n\u001b[1;32m    866\u001b[0m       \u001b[0;31m# In this case we have created variables on the first call, so we run the\u001b[0m\u001b[0;34m\u001b[0m\u001b[0;34m\u001b[0m\u001b[0m\n\u001b[1;32m    867\u001b[0m       \u001b[0;31m# defunned version which is guaranteed to never create variables.\u001b[0m\u001b[0;34m\u001b[0m\u001b[0;34m\u001b[0m\u001b[0m\n\u001b[0;32m--> 868\u001b[0;31m       return tracing_compilation.call_function(\n\u001b[0m\u001b[1;32m    869\u001b[0m           \u001b[0margs\u001b[0m\u001b[0;34m,\u001b[0m \u001b[0mkwds\u001b[0m\u001b[0;34m,\u001b[0m \u001b[0mself\u001b[0m\u001b[0;34m.\u001b[0m\u001b[0m_no_variable_creation_config\u001b[0m\u001b[0;34m\u001b[0m\u001b[0;34m\u001b[0m\u001b[0m\n\u001b[1;32m    870\u001b[0m       )\n",
            "\u001b[0;32m/usr/local/lib/python3.10/dist-packages/tensorflow/python/eager/polymorphic_function/tracing_compilation.py\u001b[0m in \u001b[0;36mcall_function\u001b[0;34m(args, kwargs, tracing_options)\u001b[0m\n\u001b[1;32m    137\u001b[0m   \u001b[0mbound_args\u001b[0m \u001b[0;34m=\u001b[0m \u001b[0mfunction\u001b[0m\u001b[0;34m.\u001b[0m\u001b[0mfunction_type\u001b[0m\u001b[0;34m.\u001b[0m\u001b[0mbind\u001b[0m\u001b[0;34m(\u001b[0m\u001b[0;34m*\u001b[0m\u001b[0margs\u001b[0m\u001b[0;34m,\u001b[0m \u001b[0;34m**\u001b[0m\u001b[0mkwargs\u001b[0m\u001b[0;34m)\u001b[0m\u001b[0;34m\u001b[0m\u001b[0;34m\u001b[0m\u001b[0m\n\u001b[1;32m    138\u001b[0m   \u001b[0mflat_inputs\u001b[0m \u001b[0;34m=\u001b[0m \u001b[0mfunction\u001b[0m\u001b[0;34m.\u001b[0m\u001b[0mfunction_type\u001b[0m\u001b[0;34m.\u001b[0m\u001b[0munpack_inputs\u001b[0m\u001b[0;34m(\u001b[0m\u001b[0mbound_args\u001b[0m\u001b[0;34m)\u001b[0m\u001b[0;34m\u001b[0m\u001b[0;34m\u001b[0m\u001b[0m\n\u001b[0;32m--> 139\u001b[0;31m   return function._call_flat(  # pylint: disable=protected-access\n\u001b[0m\u001b[1;32m    140\u001b[0m       \u001b[0mflat_inputs\u001b[0m\u001b[0;34m,\u001b[0m \u001b[0mcaptured_inputs\u001b[0m\u001b[0;34m=\u001b[0m\u001b[0mfunction\u001b[0m\u001b[0;34m.\u001b[0m\u001b[0mcaptured_inputs\u001b[0m\u001b[0;34m\u001b[0m\u001b[0;34m\u001b[0m\u001b[0m\n\u001b[1;32m    141\u001b[0m   )\n",
            "\u001b[0;32m/usr/local/lib/python3.10/dist-packages/tensorflow/python/eager/polymorphic_function/concrete_function.py\u001b[0m in \u001b[0;36m_call_flat\u001b[0;34m(self, tensor_inputs, captured_inputs)\u001b[0m\n\u001b[1;32m   1321\u001b[0m         and executing_eagerly):\n\u001b[1;32m   1322\u001b[0m       \u001b[0;31m# No tape is watching; skip to running the function.\u001b[0m\u001b[0;34m\u001b[0m\u001b[0;34m\u001b[0m\u001b[0m\n\u001b[0;32m-> 1323\u001b[0;31m       \u001b[0;32mreturn\u001b[0m \u001b[0mself\u001b[0m\u001b[0;34m.\u001b[0m\u001b[0m_inference_function\u001b[0m\u001b[0;34m.\u001b[0m\u001b[0mcall_preflattened\u001b[0m\u001b[0;34m(\u001b[0m\u001b[0margs\u001b[0m\u001b[0;34m)\u001b[0m\u001b[0;34m\u001b[0m\u001b[0;34m\u001b[0m\u001b[0m\n\u001b[0m\u001b[1;32m   1324\u001b[0m     forward_backward = self._select_forward_and_backward_functions(\n\u001b[1;32m   1325\u001b[0m         \u001b[0margs\u001b[0m\u001b[0;34m,\u001b[0m\u001b[0;34m\u001b[0m\u001b[0;34m\u001b[0m\u001b[0m\n",
            "\u001b[0;32m/usr/local/lib/python3.10/dist-packages/tensorflow/python/eager/polymorphic_function/atomic_function.py\u001b[0m in \u001b[0;36mcall_preflattened\u001b[0;34m(self, args)\u001b[0m\n\u001b[1;32m    214\u001b[0m   \u001b[0;32mdef\u001b[0m \u001b[0mcall_preflattened\u001b[0m\u001b[0;34m(\u001b[0m\u001b[0mself\u001b[0m\u001b[0;34m,\u001b[0m \u001b[0margs\u001b[0m\u001b[0;34m:\u001b[0m \u001b[0mSequence\u001b[0m\u001b[0;34m[\u001b[0m\u001b[0mcore\u001b[0m\u001b[0;34m.\u001b[0m\u001b[0mTensor\u001b[0m\u001b[0;34m]\u001b[0m\u001b[0;34m)\u001b[0m \u001b[0;34m->\u001b[0m \u001b[0mAny\u001b[0m\u001b[0;34m:\u001b[0m\u001b[0;34m\u001b[0m\u001b[0;34m\u001b[0m\u001b[0m\n\u001b[1;32m    215\u001b[0m     \u001b[0;34m\"\"\"Calls with flattened tensor inputs and returns the structured output.\"\"\"\u001b[0m\u001b[0;34m\u001b[0m\u001b[0;34m\u001b[0m\u001b[0m\n\u001b[0;32m--> 216\u001b[0;31m     \u001b[0mflat_outputs\u001b[0m \u001b[0;34m=\u001b[0m \u001b[0mself\u001b[0m\u001b[0;34m.\u001b[0m\u001b[0mcall_flat\u001b[0m\u001b[0;34m(\u001b[0m\u001b[0;34m*\u001b[0m\u001b[0margs\u001b[0m\u001b[0;34m)\u001b[0m\u001b[0;34m\u001b[0m\u001b[0;34m\u001b[0m\u001b[0m\n\u001b[0m\u001b[1;32m    217\u001b[0m     \u001b[0;32mreturn\u001b[0m \u001b[0mself\u001b[0m\u001b[0;34m.\u001b[0m\u001b[0mfunction_type\u001b[0m\u001b[0;34m.\u001b[0m\u001b[0mpack_output\u001b[0m\u001b[0;34m(\u001b[0m\u001b[0mflat_outputs\u001b[0m\u001b[0;34m)\u001b[0m\u001b[0;34m\u001b[0m\u001b[0;34m\u001b[0m\u001b[0m\n\u001b[1;32m    218\u001b[0m \u001b[0;34m\u001b[0m\u001b[0m\n",
            "\u001b[0;32m/usr/local/lib/python3.10/dist-packages/tensorflow/python/eager/polymorphic_function/atomic_function.py\u001b[0m in \u001b[0;36mcall_flat\u001b[0;34m(self, *args)\u001b[0m\n\u001b[1;32m    249\u001b[0m         \u001b[0;32mwith\u001b[0m \u001b[0mrecord\u001b[0m\u001b[0;34m.\u001b[0m\u001b[0mstop_recording\u001b[0m\u001b[0;34m(\u001b[0m\u001b[0;34m)\u001b[0m\u001b[0;34m:\u001b[0m\u001b[0;34m\u001b[0m\u001b[0;34m\u001b[0m\u001b[0m\n\u001b[1;32m    250\u001b[0m           \u001b[0;32mif\u001b[0m \u001b[0mself\u001b[0m\u001b[0;34m.\u001b[0m\u001b[0m_bound_context\u001b[0m\u001b[0;34m.\u001b[0m\u001b[0mexecuting_eagerly\u001b[0m\u001b[0;34m(\u001b[0m\u001b[0;34m)\u001b[0m\u001b[0;34m:\u001b[0m\u001b[0;34m\u001b[0m\u001b[0;34m\u001b[0m\u001b[0m\n\u001b[0;32m--> 251\u001b[0;31m             outputs = self._bound_context.call_function(\n\u001b[0m\u001b[1;32m    252\u001b[0m                 \u001b[0mself\u001b[0m\u001b[0;34m.\u001b[0m\u001b[0mname\u001b[0m\u001b[0;34m,\u001b[0m\u001b[0;34m\u001b[0m\u001b[0;34m\u001b[0m\u001b[0m\n\u001b[1;32m    253\u001b[0m                 \u001b[0mlist\u001b[0m\u001b[0;34m(\u001b[0m\u001b[0margs\u001b[0m\u001b[0;34m)\u001b[0m\u001b[0;34m,\u001b[0m\u001b[0;34m\u001b[0m\u001b[0;34m\u001b[0m\u001b[0m\n",
            "\u001b[0;32m/usr/local/lib/python3.10/dist-packages/tensorflow/python/eager/context.py\u001b[0m in \u001b[0;36mcall_function\u001b[0;34m(self, name, tensor_inputs, num_outputs)\u001b[0m\n\u001b[1;32m   1484\u001b[0m     \u001b[0mcancellation_context\u001b[0m \u001b[0;34m=\u001b[0m \u001b[0mcancellation\u001b[0m\u001b[0;34m.\u001b[0m\u001b[0mcontext\u001b[0m\u001b[0;34m(\u001b[0m\u001b[0;34m)\u001b[0m\u001b[0;34m\u001b[0m\u001b[0;34m\u001b[0m\u001b[0m\n\u001b[1;32m   1485\u001b[0m     \u001b[0;32mif\u001b[0m \u001b[0mcancellation_context\u001b[0m \u001b[0;32mis\u001b[0m \u001b[0;32mNone\u001b[0m\u001b[0;34m:\u001b[0m\u001b[0;34m\u001b[0m\u001b[0;34m\u001b[0m\u001b[0m\n\u001b[0;32m-> 1486\u001b[0;31m       outputs = execute.execute(\n\u001b[0m\u001b[1;32m   1487\u001b[0m           \u001b[0mname\u001b[0m\u001b[0;34m.\u001b[0m\u001b[0mdecode\u001b[0m\u001b[0;34m(\u001b[0m\u001b[0;34m\"utf-8\"\u001b[0m\u001b[0;34m)\u001b[0m\u001b[0;34m,\u001b[0m\u001b[0;34m\u001b[0m\u001b[0;34m\u001b[0m\u001b[0m\n\u001b[1;32m   1488\u001b[0m           \u001b[0mnum_outputs\u001b[0m\u001b[0;34m=\u001b[0m\u001b[0mnum_outputs\u001b[0m\u001b[0;34m,\u001b[0m\u001b[0;34m\u001b[0m\u001b[0;34m\u001b[0m\u001b[0m\n",
            "\u001b[0;32m/usr/local/lib/python3.10/dist-packages/tensorflow/python/eager/execute.py\u001b[0m in \u001b[0;36mquick_execute\u001b[0;34m(op_name, num_outputs, inputs, attrs, ctx, name)\u001b[0m\n\u001b[1;32m     51\u001b[0m   \u001b[0;32mtry\u001b[0m\u001b[0;34m:\u001b[0m\u001b[0;34m\u001b[0m\u001b[0;34m\u001b[0m\u001b[0m\n\u001b[1;32m     52\u001b[0m     \u001b[0mctx\u001b[0m\u001b[0;34m.\u001b[0m\u001b[0mensure_initialized\u001b[0m\u001b[0;34m(\u001b[0m\u001b[0;34m)\u001b[0m\u001b[0;34m\u001b[0m\u001b[0;34m\u001b[0m\u001b[0m\n\u001b[0;32m---> 53\u001b[0;31m     tensors = pywrap_tfe.TFE_Py_Execute(ctx._handle, device_name, op_name,\n\u001b[0m\u001b[1;32m     54\u001b[0m                                         inputs, attrs, num_outputs)\n\u001b[1;32m     55\u001b[0m   \u001b[0;32mexcept\u001b[0m \u001b[0mcore\u001b[0m\u001b[0;34m.\u001b[0m\u001b[0m_NotOkStatusException\u001b[0m \u001b[0;32mas\u001b[0m \u001b[0me\u001b[0m\u001b[0;34m:\u001b[0m\u001b[0;34m\u001b[0m\u001b[0;34m\u001b[0m\u001b[0m\n",
            "\u001b[0;31mKeyboardInterrupt\u001b[0m: "
          ]
        }
      ],
      "source": [
        "from tensorflow.keras.models import Sequential\n",
        "from tensorflow.keras.layers import Dense, Dropout\n",
        "\n",
        "ffnn_neurons = 128\n",
        "dropout = 0.5\n",
        "\n",
        "# Define FFNN model without embedding layer\n",
        "ffnn_model = Sequential()\n",
        "ffnn_model.add(Dense(ffnn_neurons, activation='sigmoid', input_shape=(input,)))\n",
        "ffnn_model.add(Dropout(dropout))\n",
        "ffnn_model.add(Dense(ffnn_neurons, activation='sigmoid'))\n",
        "ffnn_model.add(Dropout(dropout))\n",
        "ffnn_model.add(Dense(ffnn_neurons, activation='sigmoid'))\n",
        "ffnn_model.add(Dropout(dropout))\n",
        "ffnn_model.add(Dense(1, activation='sigmoid'))\n",
        "\n",
        "# Compile the model\n",
        "ffnn_model.compile(optimizer='Adam', loss='binary_crossentropy', metrics=['accuracy'])\n",
        "\n",
        "# Assuming X_train and y_train1 are defined elsewhere\n",
        "# Train the model\n",
        "history = ffnn_model.fit(X_train1, y_train1, epochs=10, batch_size=32, validation_data=(X_val, y_val))"
      ]
    },
    {
      "cell_type": "code",
      "execution_count": 8,
      "metadata": {
        "id": "DEn3jG1JNydF",
        "colab": {
          "base_uri": "https://localhost:8080/"
        },
        "outputId": "d68b8323-b7fc-41a4-b07a-5232f3627a78"
      },
      "outputs": [
        {
          "output_type": "stream",
          "name": "stdout",
          "text": [
            "Epoch 1/10\n",
            "895/895 [==============================] - 6s 5ms/step - loss: 0.7460 - accuracy: 0.7757 - val_loss: 0.1797 - val_accuracy: 0.9356\n",
            "Epoch 2/10\n",
            "895/895 [==============================] - 5s 6ms/step - loss: 0.2139 - accuracy: 0.9244 - val_loss: 0.1383 - val_accuracy: 0.9469\n",
            "Epoch 3/10\n",
            "895/895 [==============================] - 4s 4ms/step - loss: 0.1785 - accuracy: 0.9375 - val_loss: 0.1256 - val_accuracy: 0.9535\n",
            "Epoch 4/10\n",
            "895/895 [==============================] - 4s 5ms/step - loss: 0.1490 - accuracy: 0.9464 - val_loss: 0.1213 - val_accuracy: 0.9558\n",
            "Epoch 5/10\n",
            "895/895 [==============================] - 5s 6ms/step - loss: 0.1383 - accuracy: 0.9514 - val_loss: 0.1180 - val_accuracy: 0.9588\n",
            "Epoch 6/10\n",
            "895/895 [==============================] - 4s 4ms/step - loss: 0.1289 - accuracy: 0.9545 - val_loss: 0.1211 - val_accuracy: 0.9526\n",
            "Epoch 7/10\n",
            "895/895 [==============================] - 4s 4ms/step - loss: 0.1267 - accuracy: 0.9581 - val_loss: 0.1151 - val_accuracy: 0.9572\n",
            "Epoch 8/10\n",
            "895/895 [==============================] - 5s 6ms/step - loss: 0.1125 - accuracy: 0.9602 - val_loss: 0.1168 - val_accuracy: 0.9592\n",
            "Epoch 9/10\n",
            "895/895 [==============================] - 4s 5ms/step - loss: 0.1104 - accuracy: 0.9618 - val_loss: 0.1191 - val_accuracy: 0.9596\n",
            "Epoch 10/10\n",
            "895/895 [==============================] - 4s 4ms/step - loss: 0.1137 - accuracy: 0.9607 - val_loss: 0.1080 - val_accuracy: 0.9618\n"
          ]
        }
      ],
      "source": [
        "from tensorflow.keras.models import Sequential\n",
        "from tensorflow.keras.layers import Dense, Dropout\n",
        "\n",
        "ffnn_neurons = 128\n",
        "dropout = 0.5\n",
        "\n",
        "# Define FFNN model without embedding layer\n",
        "ffnn_model = Sequential()\n",
        "ffnn_model.add(Dense(ffnn_neurons, activation='relu', input_shape=(input,)))\n",
        "ffnn_model.add(Dropout(dropout))\n",
        "ffnn_model.add(Dense(ffnn_neurons, activation='relu'))\n",
        "ffnn_model.add(Dropout(dropout))\n",
        "ffnn_model.add(Dense(ffnn_neurons, activation='relu'))\n",
        "ffnn_model.add(Dropout(dropout))\n",
        "ffnn_model.add(Dense(1, activation='sigmoid'))\n",
        "\n",
        "# Compile the model\n",
        "ffnn_model.compile(optimizer='adam', loss='binary_crossentropy', metrics=['accuracy'])\n",
        "\n",
        "# Assuming X_train and y_train1 are defined elsewhere\n",
        "# Train the model\n",
        "history = ffnn_model.fit(X_train1, y_train1, epochs=10, batch_size=32, validation_data=(X_val, y_val))"
      ]
    },
    {
      "cell_type": "code",
      "execution_count": 9,
      "metadata": {
        "id": "_-u1TkhcOEeV",
        "colab": {
          "base_uri": "https://localhost:8080/"
        },
        "outputId": "79545103-2ffe-40c2-9a45-a7bd3db95be2"
      },
      "outputs": [
        {
          "output_type": "stream",
          "name": "stdout",
          "text": [
            "Epoch 1/10\n",
            "895/895 [==============================] - 6s 5ms/step - loss: 0.6816 - accuracy: 0.6113 - val_loss: 0.6107 - val_accuracy: 0.9421\n",
            "Epoch 2/10\n",
            "895/895 [==============================] - 4s 4ms/step - loss: 0.5850 - accuracy: 0.7159 - val_loss: 0.3905 - val_accuracy: 0.9451\n",
            "Epoch 3/10\n",
            "895/895 [==============================] - 5s 6ms/step - loss: 0.5178 - accuracy: 0.7233 - val_loss: 0.3038 - val_accuracy: 0.9400\n",
            "Epoch 4/10\n",
            "895/895 [==============================] - 4s 5ms/step - loss: 0.4996 - accuracy: 0.7219 - val_loss: 0.2676 - val_accuracy: 0.9407\n",
            "Epoch 5/10\n",
            "895/895 [==============================] - 4s 5ms/step - loss: 0.4702 - accuracy: 0.7431 - val_loss: 0.2360 - val_accuracy: 0.9448\n",
            "Epoch 6/10\n",
            "895/895 [==============================] - 5s 6ms/step - loss: 0.4626 - accuracy: 0.7458 - val_loss: 0.2346 - val_accuracy: 0.9428\n",
            "Epoch 7/10\n",
            "895/895 [==============================] - 4s 5ms/step - loss: 0.4388 - accuracy: 0.7689 - val_loss: 0.2506 - val_accuracy: 0.9304\n",
            "Epoch 8/10\n",
            "895/895 [==============================] - 4s 5ms/step - loss: 0.4234 - accuracy: 0.7834 - val_loss: 0.2052 - val_accuracy: 0.9486\n",
            "Epoch 9/10\n",
            "895/895 [==============================] - 5s 6ms/step - loss: 0.4094 - accuracy: 0.7896 - val_loss: 0.1915 - val_accuracy: 0.9521\n",
            "Epoch 10/10\n",
            "895/895 [==============================] - 4s 4ms/step - loss: 0.3992 - accuracy: 0.7997 - val_loss: 0.2017 - val_accuracy: 0.9456\n"
          ]
        }
      ],
      "source": [
        "from tensorflow.keras.models import Sequential\n",
        "from tensorflow.keras.layers import Dense, Dropout\n",
        "\n",
        "ffnn_neurons = 128\n",
        "dropout = 0.5\n",
        "\n",
        "# Define FFNN model without embedding layer\n",
        "ffnn_model = Sequential()\n",
        "ffnn_model.add(Dense(ffnn_neurons, activation='Softmax', input_shape=(input,)))\n",
        "ffnn_model.add(Dropout(dropout))\n",
        "ffnn_model.add(Dense(ffnn_neurons, activation='Softmax'))\n",
        "ffnn_model.add(Dropout(dropout))\n",
        "ffnn_model.add(Dense(ffnn_neurons, activation='Softmax'))\n",
        "ffnn_model.add(Dropout(dropout))\n",
        "ffnn_model.add(Dense(1, activation='sigmoid'))\n",
        "\n",
        "# Compile the model\n",
        "ffnn_model.compile(optimizer='adam', loss='binary_crossentropy', metrics=['accuracy'])\n",
        "\n",
        "# Assuming X_train and y_train1 are defined elsewhere\n",
        "# Train the model\n",
        "history = ffnn_model.fit(X_train1, y_train1, epochs=10, batch_size=32, validation_data=(X_val, y_val))\n"
      ]
    },
    {
      "cell_type": "code",
      "execution_count": 11,
      "metadata": {
        "id": "fIJ6Rwc3XqBO",
        "colab": {
          "base_uri": "https://localhost:8080/"
        },
        "outputId": "68ce5862-a1f5-4cd6-f55e-d6885a37674a"
      },
      "outputs": [
        {
          "output_type": "stream",
          "name": "stdout",
          "text": [
            "Epoch 1/10\n",
            "895/895 [==============================] - 6s 6ms/step - loss: 3.7159 - accuracy: 0.5092 - val_loss: 0.6590 - val_accuracy: 0.6314\n",
            "Epoch 2/10\n",
            "895/895 [==============================] - 4s 4ms/step - loss: 2.0039 - accuracy: 0.5172 - val_loss: 0.6635 - val_accuracy: 0.6356\n",
            "Epoch 3/10\n",
            "895/895 [==============================] - 4s 4ms/step - loss: 1.5557 - accuracy: 0.5199 - val_loss: 0.6590 - val_accuracy: 0.6533\n",
            "Epoch 4/10\n",
            "895/895 [==============================] - 5s 6ms/step - loss: 1.3178 - accuracy: 0.5322 - val_loss: 0.6588 - val_accuracy: 0.6696\n",
            "Epoch 5/10\n",
            "895/895 [==============================] - 4s 4ms/step - loss: 1.1406 - accuracy: 0.5338 - val_loss: 0.6609 - val_accuracy: 0.6670\n",
            "Epoch 6/10\n",
            "895/895 [==============================] - 4s 4ms/step - loss: 1.0305 - accuracy: 0.5447 - val_loss: 0.6613 - val_accuracy: 0.6743\n",
            "Epoch 7/10\n",
            "895/895 [==============================] - 5s 5ms/step - loss: 0.9643 - accuracy: 0.5552 - val_loss: 0.6565 - val_accuracy: 0.6827\n",
            "Epoch 8/10\n",
            "895/895 [==============================] - 4s 5ms/step - loss: 0.9075 - accuracy: 0.5578 - val_loss: 0.6507 - val_accuracy: 0.6985\n",
            "Epoch 9/10\n",
            "895/895 [==============================] - 4s 4ms/step - loss: 0.8683 - accuracy: 0.5730 - val_loss: 0.6444 - val_accuracy: 0.7056\n",
            "Epoch 10/10\n",
            "895/895 [==============================] - 4s 5ms/step - loss: 0.8116 - accuracy: 0.5883 - val_loss: 0.6360 - val_accuracy: 0.7334\n"
          ]
        }
      ],
      "source": [
        "from tensorflow.keras.models import Sequential\n",
        "from tensorflow.keras.layers import Dense, Dropout\n",
        "\n",
        "ffnn_neurons = 128\n",
        "dropout = 0.5\n",
        "\n",
        "# Define FFNN model without embedding layer\n",
        "ffnn_model = Sequential()\n",
        "ffnn_model.add(Dense(ffnn_neurons, activation='relu', input_shape=(input,)))\n",
        "ffnn_model.add(Dropout(dropout))\n",
        "ffnn_model.add(Dense(ffnn_neurons, activation='relu'))\n",
        "ffnn_model.add(Dropout(dropout))\n",
        "ffnn_model.add(Dense(ffnn_neurons, activation='relu'))\n",
        "ffnn_model.add(Dropout(dropout))\n",
        "ffnn_model.add(Dense(1, activation='sigmoid'))\n",
        "\n",
        "# Compile the model\n",
        "ffnn_model.compile(optimizer='adagrad', loss='binary_crossentropy', metrics=['accuracy'])\n",
        "\n",
        "# Assuming X_train and y_train1 are defined elsewhere\n",
        "# Train the model\n",
        "history = ffnn_model.fit(X_train1, y_train1, epochs=10, batch_size=32, validation_data=(X_val, y_val))\n"
      ]
    },
    {
      "cell_type": "code",
      "execution_count": 12,
      "metadata": {
        "id": "6kbJr3A4ZCFg",
        "colab": {
          "base_uri": "https://localhost:8080/"
        },
        "outputId": "9b625b08-232f-4e09-8976-7135f8b0154f"
      },
      "outputs": [
        {
          "output_type": "stream",
          "name": "stdout",
          "text": [
            "Epoch 1/10\n",
            "895/895 [==============================] - 6s 5ms/step - loss: 2.4034 - accuracy: 0.5359 - val_loss: 0.6528 - val_accuracy: 0.7006\n",
            "Epoch 2/10\n",
            "895/895 [==============================] - 5s 5ms/step - loss: 0.7030 - accuracy: 0.6898 - val_loss: 0.3930 - val_accuracy: 0.9125\n",
            "Epoch 3/10\n",
            "895/895 [==============================] - 4s 5ms/step - loss: 0.3992 - accuracy: 0.8530 - val_loss: 0.2308 - val_accuracy: 0.9272\n",
            "Epoch 4/10\n",
            "895/895 [==============================] - 4s 4ms/step - loss: 0.2843 - accuracy: 0.9018 - val_loss: 0.1736 - val_accuracy: 0.9386\n",
            "Epoch 5/10\n",
            "895/895 [==============================] - 5s 5ms/step - loss: 0.2340 - accuracy: 0.9171 - val_loss: 0.1563 - val_accuracy: 0.9431\n",
            "Epoch 6/10\n",
            "895/895 [==============================] - 4s 5ms/step - loss: 0.2060 - accuracy: 0.9290 - val_loss: 0.1469 - val_accuracy: 0.9427\n",
            "Epoch 7/10\n",
            "895/895 [==============================] - 4s 4ms/step - loss: 0.1788 - accuracy: 0.9380 - val_loss: 0.1362 - val_accuracy: 0.9484\n",
            "Epoch 8/10\n",
            "895/895 [==============================] - 4s 5ms/step - loss: 0.1652 - accuracy: 0.9414 - val_loss: 0.1320 - val_accuracy: 0.9507\n",
            "Epoch 9/10\n",
            "895/895 [==============================] - 4s 5ms/step - loss: 0.1519 - accuracy: 0.9456 - val_loss: 0.1323 - val_accuracy: 0.9515\n",
            "Epoch 10/10\n",
            "895/895 [==============================] - 4s 4ms/step - loss: 0.1355 - accuracy: 0.9514 - val_loss: 0.1299 - val_accuracy: 0.9535\n"
          ]
        }
      ],
      "source": [
        "from tensorflow.keras.models import Sequential\n",
        "from tensorflow.keras.layers import Dense, Dropout\n",
        "\n",
        "ffnn_neurons = 128\n",
        "dropout = 0.5\n",
        "\n",
        "# Define FFNN model without embedding layer\n",
        "ffnn_model = Sequential()\n",
        "ffnn_model.add(Dense(ffnn_neurons, activation='relu', input_shape=(input,)))\n",
        "ffnn_model.add(Dropout(dropout))\n",
        "ffnn_model.add(Dense(ffnn_neurons, activation='relu'))\n",
        "ffnn_model.add(Dropout(dropout))\n",
        "ffnn_model.add(Dense(ffnn_neurons, activation='relu'))\n",
        "ffnn_model.add(Dropout(dropout))\n",
        "ffnn_model.add(Dense(1, activation='sigmoid'))\n",
        "\n",
        "# Compile the model\n",
        "ffnn_model.compile(optimizer='adamax', loss='binary_crossentropy', metrics=['accuracy'])\n",
        "\n",
        "# Assuming X_train and y_train1 are defined elsewhere\n",
        "# Train the model\n",
        "history = ffnn_model.fit(X_train1, y_train1, epochs=10, batch_size=32, validation_data=(X_val, y_val))\n"
      ]
    },
    {
      "cell_type": "code",
      "execution_count": 13,
      "metadata": {
        "id": "_3Lv9dYeQnOK",
        "colab": {
          "base_uri": "https://localhost:8080/"
        },
        "outputId": "86541d05-eaea-453e-b045-887415739ea9"
      },
      "outputs": [
        {
          "output_type": "stream",
          "name": "stdout",
          "text": [
            "Epoch 1/10\n",
            "895/895 [==============================] - 5s 4ms/step - loss: 0.8720 - accuracy: 0.8038 - val_loss: 0.1772 - val_accuracy: 0.9361\n",
            "Epoch 2/10\n",
            "895/895 [==============================] - 4s 5ms/step - loss: 0.2054 - accuracy: 0.9303 - val_loss: 0.1407 - val_accuracy: 0.9522\n",
            "Epoch 3/10\n",
            "895/895 [==============================] - 5s 6ms/step - loss: 0.1572 - accuracy: 0.9447 - val_loss: 0.1297 - val_accuracy: 0.9514\n",
            "Epoch 4/10\n",
            "895/895 [==============================] - 4s 5ms/step - loss: 0.1385 - accuracy: 0.9517 - val_loss: 0.1168 - val_accuracy: 0.9579\n",
            "Epoch 5/10\n",
            "895/895 [==============================] - 4s 5ms/step - loss: 0.1181 - accuracy: 0.9588 - val_loss: 0.1170 - val_accuracy: 0.9554\n",
            "Epoch 6/10\n",
            "895/895 [==============================] - 5s 6ms/step - loss: 0.1186 - accuracy: 0.9582 - val_loss: 0.1148 - val_accuracy: 0.9597\n",
            "Epoch 7/10\n",
            "895/895 [==============================] - 4s 4ms/step - loss: 0.1042 - accuracy: 0.9630 - val_loss: 0.1063 - val_accuracy: 0.9625\n",
            "Epoch 8/10\n",
            "895/895 [==============================] - 4s 4ms/step - loss: 0.0969 - accuracy: 0.9660 - val_loss: 0.1108 - val_accuracy: 0.9644\n",
            "Epoch 9/10\n",
            "895/895 [==============================] - 5s 6ms/step - loss: 0.0927 - accuracy: 0.9673 - val_loss: 0.1305 - val_accuracy: 0.9600\n",
            "Epoch 10/10\n",
            "895/895 [==============================] - 4s 4ms/step - loss: 0.0900 - accuracy: 0.9694 - val_loss: 0.1101 - val_accuracy: 0.9644\n"
          ]
        }
      ],
      "source": [
        "from tensorflow.keras.models import Sequential\n",
        "from tensorflow.keras.layers import Dense, Dropout\n",
        "\n",
        "ffnn_neurons = 256\n",
        "dropout = 0.5\n",
        "\n",
        "# Define FFNN model without embedding layer\n",
        "ffnn_model = Sequential()\n",
        "ffnn_model.add(Dense(ffnn_neurons, activation='relu', input_shape=(input,)))\n",
        "ffnn_model.add(Dropout(dropout))\n",
        "ffnn_model.add(Dense(ffnn_neurons, activation='relu'))\n",
        "ffnn_model.add(Dropout(dropout))\n",
        "ffnn_model.add(Dense(ffnn_neurons, activation='relu'))\n",
        "ffnn_model.add(Dropout(dropout))\n",
        "ffnn_model.add(Dense(1, activation='sigmoid'))\n",
        "\n",
        "# Compile the model\n",
        "ffnn_model.compile(optimizer='adam', loss='binary_crossentropy', metrics=['accuracy'])\n",
        "\n",
        "# Assuming X_train and y_train1 are defined elsewhere\n",
        "# Train the model\n",
        "history = ffnn_model.fit(X_train1, y_train1, epochs=10, batch_size=32, validation_data=(X_val, y_val))\n"
      ]
    },
    {
      "cell_type": "code",
      "execution_count": 14,
      "metadata": {
        "id": "OYsS6hEZQ-CA",
        "colab": {
          "base_uri": "https://localhost:8080/"
        },
        "outputId": "814adcf4-8aaf-4e5d-f316-4355eb92f77b"
      },
      "outputs": [
        {
          "output_type": "stream",
          "name": "stdout",
          "text": [
            "Epoch 1/10\n",
            "895/895 [==============================] - 7s 6ms/step - loss: 0.3552 - accuracy: 0.8931 - val_loss: 0.1330 - val_accuracy: 0.9530\n",
            "Epoch 2/10\n",
            "895/895 [==============================] - 4s 5ms/step - loss: 0.1326 - accuracy: 0.9546 - val_loss: 0.1230 - val_accuracy: 0.9586\n",
            "Epoch 3/10\n",
            "895/895 [==============================] - 4s 5ms/step - loss: 0.1038 - accuracy: 0.9619 - val_loss: 0.1341 - val_accuracy: 0.9611\n",
            "Epoch 4/10\n",
            "895/895 [==============================] - 5s 6ms/step - loss: 0.0861 - accuracy: 0.9691 - val_loss: 0.1275 - val_accuracy: 0.9602\n",
            "Epoch 5/10\n",
            "895/895 [==============================] - 4s 5ms/step - loss: 0.0694 - accuracy: 0.9754 - val_loss: 0.1297 - val_accuracy: 0.9606\n",
            "Epoch 6/10\n",
            "895/895 [==============================] - 4s 4ms/step - loss: 0.0554 - accuracy: 0.9800 - val_loss: 0.1235 - val_accuracy: 0.9635\n",
            "Epoch 7/10\n",
            "895/895 [==============================] - 5s 6ms/step - loss: 0.0505 - accuracy: 0.9828 - val_loss: 0.1496 - val_accuracy: 0.9637\n",
            "Epoch 8/10\n",
            "895/895 [==============================] - 4s 4ms/step - loss: 0.0418 - accuracy: 0.9855 - val_loss: 0.1465 - val_accuracy: 0.9623\n",
            "Epoch 9/10\n",
            "895/895 [==============================] - 4s 5ms/step - loss: 0.0349 - accuracy: 0.9875 - val_loss: 0.1280 - val_accuracy: 0.9673\n",
            "Epoch 10/10\n",
            "895/895 [==============================] - 5s 6ms/step - loss: 0.0317 - accuracy: 0.9886 - val_loss: 0.1394 - val_accuracy: 0.9660\n"
          ]
        }
      ],
      "source": [
        "from tensorflow.keras.models import Sequential\n",
        "from tensorflow.keras.layers import Dense, Dropout\n",
        "\n",
        "ffnn_neurons = 256\n",
        "dropout = 0.1\n",
        "\n",
        "# Define FFNN model without embedding layer\n",
        "ffnn_model = Sequential()\n",
        "ffnn_model.add(Dense(ffnn_neurons, activation='relu', input_shape=(input,)))\n",
        "ffnn_model.add(Dropout(dropout))\n",
        "ffnn_model.add(Dense(ffnn_neurons, activation='relu'))\n",
        "ffnn_model.add(Dropout(dropout))\n",
        "ffnn_model.add(Dense(ffnn_neurons, activation='relu'))\n",
        "ffnn_model.add(Dropout(dropout))\n",
        "ffnn_model.add(Dense(1, activation='sigmoid'))\n",
        "\n",
        "# Compile the model\n",
        "ffnn_model.compile(optimizer='adam', loss='binary_crossentropy', metrics=['accuracy'])\n",
        "\n",
        "# Assuming X_train and y_train1 are defined elsewhere\n",
        "# Train the model\n",
        "history = ffnn_model.fit(X_train1, y_train1, epochs=10, batch_size=32, validation_data=(X_val, y_val))\n"
      ]
    },
    {
      "cell_type": "code",
      "execution_count": 15,
      "metadata": {
        "id": "k52MU_aVQ98M",
        "colab": {
          "base_uri": "https://localhost:8080/"
        },
        "outputId": "bf596afc-02a6-491a-cfe1-d357db1db559"
      },
      "outputs": [
        {
          "output_type": "stream",
          "name": "stdout",
          "text": [
            "Epoch 1/10\n",
            "895/895 [==============================] - 5s 5ms/step - loss: 0.3276 - accuracy: 0.9039 - val_loss: 0.1509 - val_accuracy: 0.9507\n",
            "Epoch 2/10\n",
            "895/895 [==============================] - 4s 5ms/step - loss: 0.1330 - accuracy: 0.9532 - val_loss: 0.1222 - val_accuracy: 0.9567\n",
            "Epoch 3/10\n",
            "895/895 [==============================] - 5s 6ms/step - loss: 0.0954 - accuracy: 0.9667 - val_loss: 0.1390 - val_accuracy: 0.9571\n",
            "Epoch 4/10\n",
            "895/895 [==============================] - 4s 5ms/step - loss: 0.0809 - accuracy: 0.9712 - val_loss: 0.1282 - val_accuracy: 0.9625\n",
            "Epoch 5/10\n",
            "895/895 [==============================] - 4s 4ms/step - loss: 0.0636 - accuracy: 0.9770 - val_loss: 0.1378 - val_accuracy: 0.9628\n",
            "Epoch 6/10\n",
            "895/895 [==============================] - 5s 6ms/step - loss: 0.0496 - accuracy: 0.9820 - val_loss: 0.1655 - val_accuracy: 0.9656\n",
            "Epoch 7/10\n",
            "895/895 [==============================] - 4s 4ms/step - loss: 0.0505 - accuracy: 0.9829 - val_loss: 0.1607 - val_accuracy: 0.9623\n",
            "Epoch 8/10\n",
            "895/895 [==============================] - 4s 4ms/step - loss: 0.0351 - accuracy: 0.9878 - val_loss: 0.1536 - val_accuracy: 0.9658\n",
            "Epoch 9/10\n",
            "895/895 [==============================] - 5s 6ms/step - loss: 0.0316 - accuracy: 0.9894 - val_loss: 0.1346 - val_accuracy: 0.9670\n",
            "Epoch 10/10\n",
            "895/895 [==============================] - 4s 4ms/step - loss: 0.0236 - accuracy: 0.9920 - val_loss: 0.1340 - val_accuracy: 0.9665\n"
          ]
        }
      ],
      "source": [
        "from tensorflow.keras.models import Sequential\n",
        "from tensorflow.keras.layers import Dense, Dropout\n",
        "\n",
        "ffnn_neurons = 256\n",
        "dropout = 0.05\n",
        "\n",
        "# Define FFNN model without embedding layer\n",
        "ffnn_model = Sequential()\n",
        "ffnn_model.add(Dense(ffnn_neurons, activation='relu', input_shape=(input,)))\n",
        "ffnn_model.add(Dropout(dropout))\n",
        "ffnn_model.add(Dense(ffnn_neurons, activation='relu'))\n",
        "ffnn_model.add(Dropout(dropout))\n",
        "ffnn_model.add(Dense(ffnn_neurons, activation='relu'))\n",
        "ffnn_model.add(Dropout(dropout))\n",
        "ffnn_model.add(Dense(1, activation='sigmoid'))\n",
        "\n",
        "# Compile the model\n",
        "ffnn_model.compile(optimizer='adam', loss='binary_crossentropy', metrics=['accuracy'])\n",
        "\n",
        "# Assuming X_train and y_train1 are defined elsewhere\n",
        "# Train the model\n",
        "history = ffnn_model.fit(X_train1, y_train1, epochs=10, batch_size=32, validation_data=(X_val, y_val))\n"
      ]
    },
    {
      "cell_type": "code",
      "source": [
        "from tensorflow.keras.models import Sequential\n",
        "from tensorflow.keras.layers import Dense, Dropout\n",
        "\n",
        "ffnn_neurons = 256\n",
        "dropout = 0.5\n",
        "\n",
        "# Define FFNN model without embedding layer\n",
        "ffnn_model = Sequential()\n",
        "ffnn_model.add(Dense(ffnn_neurons, activation='relu', input_shape=(input,)))\n",
        "ffnn_model.add(Dropout(dropout))\n",
        "ffnn_model.add(Dense(ffnn_neurons, activation='relu'))\n",
        "ffnn_model.add(Dropout(dropout))\n",
        "ffnn_model.add(Dense(ffnn_neurons, activation='relu'))\n",
        "ffnn_model.add(Dropout(dropout))\n",
        "ffnn_model.add(Dense(ffnn_neurons, activation='relu'))\n",
        "ffnn_model.add(Dropout(dropout))\n",
        "ffnn_model.add(Dense(ffnn_neurons, activation='relu'))\n",
        "ffnn_model.add(Dropout(dropout))\n",
        "ffnn_model.add(Dense(1, activation='sigmoid'))\n",
        "\n",
        "# Compile the model\n",
        "ffnn_model.compile(optimizer='adam', loss='binary_crossentropy', metrics=['accuracy'])\n",
        "\n",
        "# Assuming X_train and y_train1 are defined elsewhere\n",
        "# Train the model\n",
        "history = ffnn_model.fit(X_train1, y_train1, epochs=10, batch_size=32, validation_data=(X_val, y_val))\n"
      ],
      "metadata": {
        "colab": {
          "base_uri": "https://localhost:8080/"
        },
        "id": "ePP_ZI-fhAqm",
        "outputId": "d325dd9e-7af3-4145-f019-442912da7e8e"
      },
      "execution_count": 16,
      "outputs": [
        {
          "output_type": "stream",
          "name": "stdout",
          "text": [
            "Epoch 1/10\n",
            "895/895 [==============================] - 7s 5ms/step - loss: 1.0709 - accuracy: 0.5253 - val_loss: 0.6673 - val_accuracy: 0.6621\n",
            "Epoch 2/10\n",
            "895/895 [==============================] - 5s 6ms/step - loss: 0.3660 - accuracy: 0.8587 - val_loss: 0.1452 - val_accuracy: 0.9466\n",
            "Epoch 3/10\n",
            "895/895 [==============================] - 5s 5ms/step - loss: 0.1937 - accuracy: 0.9364 - val_loss: 0.1302 - val_accuracy: 0.9511\n",
            "Epoch 4/10\n",
            "895/895 [==============================] - 5s 6ms/step - loss: 0.1532 - accuracy: 0.9482 - val_loss: 0.1299 - val_accuracy: 0.9529\n",
            "Epoch 5/10\n",
            "895/895 [==============================] - 5s 6ms/step - loss: 0.1325 - accuracy: 0.9558 - val_loss: 0.1358 - val_accuracy: 0.9484\n",
            "Epoch 6/10\n",
            "895/895 [==============================] - 5s 5ms/step - loss: 0.1252 - accuracy: 0.9574 - val_loss: 0.1090 - val_accuracy: 0.9614\n",
            "Epoch 7/10\n",
            "895/895 [==============================] - 5s 6ms/step - loss: 0.1163 - accuracy: 0.9627 - val_loss: 0.1151 - val_accuracy: 0.9607\n",
            "Epoch 8/10\n",
            "895/895 [==============================] - 5s 5ms/step - loss: 0.1134 - accuracy: 0.9626 - val_loss: 0.1252 - val_accuracy: 0.9565\n",
            "Epoch 9/10\n",
            "895/895 [==============================] - 5s 5ms/step - loss: 0.1130 - accuracy: 0.9623 - val_loss: 0.1116 - val_accuracy: 0.9627\n",
            "Epoch 10/10\n",
            "895/895 [==============================] - 6s 6ms/step - loss: 0.1014 - accuracy: 0.9659 - val_loss: 0.1528 - val_accuracy: 0.9558\n"
          ]
        }
      ]
    },
    {
      "cell_type": "code",
      "execution_count": 17,
      "metadata": {
        "id": "kKYBDGMZ45CL",
        "colab": {
          "base_uri": "https://localhost:8080/"
        },
        "outputId": "866c5c58-9331-4027-d882-c0d6cf622f83"
      },
      "outputs": [
        {
          "output_type": "stream",
          "name": "stdout",
          "text": [
            "Epoch 1/10\n",
            "895/895 [==============================] - 6s 5ms/step - loss: 0.7651 - accuracy: 0.8843 - val_loss: 0.1685 - val_accuracy: 0.9420\n",
            "Epoch 2/10\n",
            "895/895 [==============================] - 4s 4ms/step - loss: 0.1632 - accuracy: 0.9449 - val_loss: 0.1265 - val_accuracy: 0.9529\n",
            "Epoch 3/10\n",
            "895/895 [==============================] - 3s 4ms/step - loss: 0.1354 - accuracy: 0.9546 - val_loss: 0.1231 - val_accuracy: 0.9562\n",
            "Epoch 4/10\n",
            "895/895 [==============================] - 3s 4ms/step - loss: 0.1066 - accuracy: 0.9635 - val_loss: 0.1511 - val_accuracy: 0.9483\n",
            "Epoch 5/10\n",
            "895/895 [==============================] - 4s 5ms/step - loss: 0.1151 - accuracy: 0.9629 - val_loss: 0.1814 - val_accuracy: 0.9358\n",
            "Epoch 6/10\n",
            "895/895 [==============================] - 3s 4ms/step - loss: 0.1018 - accuracy: 0.9659 - val_loss: 0.1285 - val_accuracy: 0.9576\n",
            "Epoch 7/10\n",
            "895/895 [==============================] - 3s 4ms/step - loss: 0.0848 - accuracy: 0.9699 - val_loss: 0.1243 - val_accuracy: 0.9603\n",
            "Epoch 8/10\n",
            "895/895 [==============================] - 4s 4ms/step - loss: 0.0786 - accuracy: 0.9750 - val_loss: 0.1182 - val_accuracy: 0.9651\n",
            "Epoch 9/10\n",
            "895/895 [==============================] - 4s 5ms/step - loss: 0.0673 - accuracy: 0.9753 - val_loss: 0.1144 - val_accuracy: 0.9660\n",
            "Epoch 10/10\n",
            "895/895 [==============================] - 3s 4ms/step - loss: 0.0682 - accuracy: 0.9771 - val_loss: 0.1262 - val_accuracy: 0.9617\n"
          ]
        }
      ],
      "source": [
        "from tensorflow.keras.models import Sequential\n",
        "from tensorflow.keras.layers import Dense, Dropout\n",
        "\n",
        "ffnn_neurons = 256\n",
        "dropout = 0.5\n",
        "\n",
        "# Define FFNN model without embedding layer\n",
        "ffnn_model = Sequential()\n",
        "ffnn_model.add(Dense(ffnn_neurons, activation='relu', input_shape=(input,)))\n",
        "ffnn_model.add(Dropout(dropout))\n",
        "ffnn_model.add(Dense(1, activation='sigmoid'))\n",
        "\n",
        "# Compile the model\n",
        "ffnn_model.compile(optimizer='adam', loss='binary_crossentropy', metrics=['accuracy'])\n",
        "\n",
        "# Assuming X_train and y_train1 are defined elsewhere\n",
        "# Train the model\n",
        "history = ffnn_model.fit(X_train1, y_train1, epochs=10, batch_size=32, validation_data=(X_val, y_val))\n"
      ]
    },
    {
      "cell_type": "code",
      "execution_count": 18,
      "metadata": {
        "id": "dlvkPEZDVN5x",
        "colab": {
          "base_uri": "https://localhost:8080/"
        },
        "outputId": "720cf30f-1e18-41b1-cef1-4a4ec876b3bd"
      },
      "outputs": [
        {
          "output_type": "stream",
          "name": "stdout",
          "text": [
            "Epoch 1/10\n",
            "895/895 [==============================] - 6s 4ms/step - loss: 0.6981 - accuracy: 0.8931 - val_loss: 0.1572 - val_accuracy: 0.9505\n",
            "Epoch 2/10\n",
            "895/895 [==============================] - 3s 4ms/step - loss: 0.1675 - accuracy: 0.9483 - val_loss: 0.1398 - val_accuracy: 0.9526\n",
            "Epoch 3/10\n",
            "895/895 [==============================] - 3s 4ms/step - loss: 0.1403 - accuracy: 0.9543 - val_loss: 0.1167 - val_accuracy: 0.9593\n",
            "Epoch 4/10\n",
            "895/895 [==============================] - 4s 5ms/step - loss: 0.1174 - accuracy: 0.9607 - val_loss: 0.1105 - val_accuracy: 0.9634\n",
            "Epoch 5/10\n",
            "895/895 [==============================] - 3s 4ms/step - loss: 0.1099 - accuracy: 0.9649 - val_loss: 0.1132 - val_accuracy: 0.9599\n",
            "Epoch 6/10\n",
            "895/895 [==============================] - 3s 4ms/step - loss: 0.0911 - accuracy: 0.9702 - val_loss: 0.1032 - val_accuracy: 0.9637\n",
            "Epoch 7/10\n",
            "895/895 [==============================] - 4s 4ms/step - loss: 0.1028 - accuracy: 0.9673 - val_loss: 0.1050 - val_accuracy: 0.9676\n",
            "Epoch 8/10\n",
            "895/895 [==============================] - 4s 5ms/step - loss: 0.0753 - accuracy: 0.9755 - val_loss: 0.1081 - val_accuracy: 0.9673\n",
            "Epoch 9/10\n",
            "895/895 [==============================] - 4s 4ms/step - loss: 0.0692 - accuracy: 0.9772 - val_loss: 0.1231 - val_accuracy: 0.9655\n",
            "Epoch 10/10\n",
            "895/895 [==============================] - 4s 4ms/step - loss: 0.0770 - accuracy: 0.9755 - val_loss: 0.1143 - val_accuracy: 0.9648\n"
          ]
        }
      ],
      "source": [
        "from tensorflow.keras.models import Sequential\n",
        "from tensorflow.keras.layers import Dense, Dropout\n",
        "\n",
        "ffnn_neurons = 512\n",
        "dropout = 0.5\n",
        "\n",
        "# Define FFNN model without embedding layer\n",
        "ffnn_model = Sequential()\n",
        "ffnn_model.add(Dense(ffnn_neurons, activation='relu', input_shape=(input,)))\n",
        "ffnn_model.add(Dropout(dropout))\n",
        "ffnn_model.add(Dense(1, activation='sigmoid'))\n",
        "\n",
        "# Compile the model\n",
        "ffnn_model.compile(optimizer='adam', loss='binary_crossentropy', metrics=['accuracy'])\n",
        "\n",
        "# Assuming X_train and y_train1 are defined elsewhere\n",
        "# Train the model\n",
        "history = ffnn_model.fit(X_train1, y_train1, epochs=10, batch_size=32, validation_data=(X_val, y_val))\n"
      ]
    },
    {
      "cell_type": "code",
      "execution_count": 19,
      "metadata": {
        "id": "ke9SNwppa3zF",
        "colab": {
          "base_uri": "https://localhost:8080/"
        },
        "outputId": "abf7fc71-340c-4bce-e487-bb066873244d"
      },
      "outputs": [
        {
          "output_type": "stream",
          "name": "stdout",
          "text": [
            "Epoch 1/10\n",
            "895/895 [==============================] - 7s 5ms/step - loss: 1.1333 - accuracy: 0.6501 - val_loss: 0.2274 - val_accuracy: 0.9172\n",
            "Epoch 2/10\n",
            "895/895 [==============================] - 5s 6ms/step - loss: 0.2345 - accuracy: 0.9220 - val_loss: 0.1599 - val_accuracy: 0.9488\n",
            "Epoch 3/10\n",
            "895/895 [==============================] - 5s 5ms/step - loss: 0.1664 - accuracy: 0.9418 - val_loss: 0.1203 - val_accuracy: 0.9553\n",
            "Epoch 4/10\n",
            "895/895 [==============================] - 5s 5ms/step - loss: 0.1460 - accuracy: 0.9500 - val_loss: 0.1351 - val_accuracy: 0.9558\n",
            "Epoch 5/10\n",
            "895/895 [==============================] - 6s 6ms/step - loss: 0.1352 - accuracy: 0.9540 - val_loss: 0.1350 - val_accuracy: 0.9572\n",
            "Epoch 6/10\n",
            "895/895 [==============================] - 5s 5ms/step - loss: 0.1270 - accuracy: 0.9569 - val_loss: 0.1646 - val_accuracy: 0.9555\n",
            "Epoch 7/10\n",
            "895/895 [==============================] - 5s 6ms/step - loss: 0.1264 - accuracy: 0.9594 - val_loss: 0.1248 - val_accuracy: 0.9575\n",
            "Epoch 8/10\n",
            "895/895 [==============================] - 5s 5ms/step - loss: 0.1052 - accuracy: 0.9660 - val_loss: 0.1387 - val_accuracy: 0.9491\n",
            "Epoch 9/10\n",
            "895/895 [==============================] - 5s 5ms/step - loss: 0.1047 - accuracy: 0.9655 - val_loss: 0.1317 - val_accuracy: 0.9652\n",
            "Epoch 10/10\n",
            "895/895 [==============================] - 5s 6ms/step - loss: 0.1071 - accuracy: 0.9645 - val_loss: 0.1376 - val_accuracy: 0.9638\n"
          ]
        }
      ],
      "source": [
        "from tensorflow.keras.models import Sequential\n",
        "from tensorflow.keras.layers import Dense, Dropout\n",
        "\n",
        "ffnn_neurons = 512\n",
        "dropout = 0.5\n",
        "\n",
        "# Define FFNN model without embedding layer\n",
        "ffnn_model = Sequential()\n",
        "ffnn_model.add(Dense(ffnn_neurons, activation='relu', input_shape=(input,)))\n",
        "ffnn_model.add(Dropout(dropout))\n",
        "ffnn_model.add(Dense(ffnn_neurons, activation='relu'))\n",
        "ffnn_model.add(Dropout(dropout))\n",
        "ffnn_model.add(Dense(ffnn_neurons, activation='relu'))\n",
        "ffnn_model.add(Dropout(dropout))\n",
        "ffnn_model.add(Dense(ffnn_neurons, activation='relu'))\n",
        "ffnn_model.add(Dropout(dropout))\n",
        "ffnn_model.add(Dense(ffnn_neurons, activation='relu'))\n",
        "ffnn_model.add(Dropout(dropout))\n",
        "ffnn_model.add(Dense(1, activation='sigmoid'))\n",
        "\n",
        "# Compile the model\n",
        "ffnn_model.compile(optimizer='adam', loss='binary_crossentropy', metrics=['accuracy'])\n",
        "\n",
        "# Assuming X_train and y_train1 are defined elsewhere\n",
        "# Train the model\n",
        "history = ffnn_model.fit(X_train1, y_train1, epochs=10, batch_size=32, validation_data=(X_val, y_val))\n"
      ]
    },
    {
      "cell_type": "code",
      "execution_count": 20,
      "metadata": {
        "id": "pwMs9y7FbawK",
        "colab": {
          "base_uri": "https://localhost:8080/"
        },
        "outputId": "ca9898e4-6d63-424a-f86c-25c2ed99124f"
      },
      "outputs": [
        {
          "output_type": "stream",
          "name": "stdout",
          "text": [
            "Epoch 1/10\n",
            "895/895 [==============================] - 6s 5ms/step - loss: 0.9118 - accuracy: 0.8226 - val_loss: 0.1861 - val_accuracy: 0.9441\n",
            "Epoch 2/10\n",
            "895/895 [==============================] - 5s 6ms/step - loss: 0.2041 - accuracy: 0.9337 - val_loss: 0.1379 - val_accuracy: 0.9529\n",
            "Epoch 3/10\n",
            "895/895 [==============================] - 4s 5ms/step - loss: 0.1522 - accuracy: 0.9483 - val_loss: 0.1471 - val_accuracy: 0.9467\n",
            "Epoch 4/10\n",
            "895/895 [==============================] - 4s 5ms/step - loss: 0.1348 - accuracy: 0.9544 - val_loss: 0.1247 - val_accuracy: 0.9535\n",
            "Epoch 5/10\n",
            "895/895 [==============================] - 5s 6ms/step - loss: 0.1283 - accuracy: 0.9558 - val_loss: 0.1203 - val_accuracy: 0.9547\n",
            "Epoch 6/10\n",
            "895/895 [==============================] - 4s 5ms/step - loss: 0.1062 - accuracy: 0.9627 - val_loss: 0.1240 - val_accuracy: 0.9600\n",
            "Epoch 7/10\n",
            "895/895 [==============================] - 4s 5ms/step - loss: 0.1177 - accuracy: 0.9608 - val_loss: 0.1299 - val_accuracy: 0.9498\n",
            "Epoch 8/10\n",
            "895/895 [==============================] - 5s 5ms/step - loss: 0.1017 - accuracy: 0.9650 - val_loss: 0.1372 - val_accuracy: 0.9585\n",
            "Epoch 9/10\n",
            "895/895 [==============================] - 4s 5ms/step - loss: 0.0922 - accuracy: 0.9662 - val_loss: 0.1118 - val_accuracy: 0.9635\n",
            "Epoch 10/10\n",
            "895/895 [==============================] - 4s 5ms/step - loss: 0.0885 - accuracy: 0.9703 - val_loss: 0.1163 - val_accuracy: 0.9627\n"
          ]
        }
      ],
      "source": [
        "from tensorflow.keras.models import Sequential\n",
        "from tensorflow.keras.layers import Dense, Dropout\n",
        "\n",
        "ffnn_neurons = 512\n",
        "dropout = 0.5\n",
        "\n",
        "# Define FFNN model without embedding layer\n",
        "ffnn_model = Sequential()\n",
        "ffnn_model.add(Dense(ffnn_neurons, activation='relu', input_shape=(input,)))\n",
        "ffnn_model.add(Dropout(dropout))\n",
        "ffnn_model.add(Dense(ffnn_neurons, activation='relu'))\n",
        "ffnn_model.add(Dropout(dropout))\n",
        "ffnn_model.add(Dense(ffnn_neurons, activation='relu'))\n",
        "ffnn_model.add(Dropout(dropout))\n",
        "ffnn_model.add(Dense(1, activation='sigmoid'))\n",
        "\n",
        "# Compile the model\n",
        "ffnn_model.compile(optimizer='adam', loss='binary_crossentropy', metrics=['accuracy'])\n",
        "\n",
        "# Assuming X_train and y_train1 are defined elsewhere\n",
        "# Train the model\n",
        "history = ffnn_model.fit(X_train1, y_train1, epochs=10, batch_size=32, validation_data=(X_val, y_val))\n"
      ]
    },
    {
      "cell_type": "code",
      "execution_count": 21,
      "metadata": {
        "id": "delBJiwZdfXm",
        "colab": {
          "base_uri": "https://localhost:8080/"
        },
        "outputId": "622566ed-1853-45bc-84e9-faa4cb651fc9"
      },
      "outputs": [
        {
          "output_type": "stream",
          "name": "stdout",
          "text": [
            "Epoch 1/10\n",
            "895/895 [==============================] - 7s 6ms/step - loss: 1.0919 - accuracy: 0.8629 - val_loss: 0.1660 - val_accuracy: 0.9425\n",
            "Epoch 2/10\n",
            "895/895 [==============================] - 5s 5ms/step - loss: 0.2026 - accuracy: 0.9348 - val_loss: 0.1309 - val_accuracy: 0.9508\n",
            "Epoch 3/10\n",
            "895/895 [==============================] - 5s 5ms/step - loss: 0.1575 - accuracy: 0.9465 - val_loss: 0.1602 - val_accuracy: 0.9511\n",
            "Epoch 4/10\n",
            "895/895 [==============================] - 4s 5ms/step - loss: 0.1415 - accuracy: 0.9525 - val_loss: 0.1202 - val_accuracy: 0.9575\n",
            "Epoch 5/10\n",
            "895/895 [==============================] - 5s 5ms/step - loss: 0.1385 - accuracy: 0.9544 - val_loss: 0.1200 - val_accuracy: 0.9583\n",
            "Epoch 6/10\n",
            "895/895 [==============================] - 5s 5ms/step - loss: 0.1152 - accuracy: 0.9592 - val_loss: 0.1249 - val_accuracy: 0.9597\n",
            "Epoch 7/10\n",
            "895/895 [==============================] - 4s 5ms/step - loss: 0.1172 - accuracy: 0.9596 - val_loss: 0.1384 - val_accuracy: 0.9599\n",
            "Epoch 8/10\n",
            "895/895 [==============================] - 5s 5ms/step - loss: 0.1082 - accuracy: 0.9644 - val_loss: 0.1223 - val_accuracy: 0.9596\n",
            "Epoch 9/10\n",
            "895/895 [==============================] - 5s 5ms/step - loss: 0.1032 - accuracy: 0.9661 - val_loss: 0.1541 - val_accuracy: 0.9544\n",
            "Epoch 10/10\n",
            "895/895 [==============================] - 5s 5ms/step - loss: 0.1027 - accuracy: 0.9659 - val_loss: 0.1372 - val_accuracy: 0.9595\n"
          ]
        }
      ],
      "source": [
        "from tensorflow.keras.models import Sequential\n",
        "from tensorflow.keras.layers import Dense, Dropout\n",
        "\n",
        "ffnn_neurons = 1024\n",
        "dropout = 0.5\n",
        "\n",
        "# Define FFNN model without embedding layer\n",
        "ffnn_model = Sequential()\n",
        "ffnn_model.add(Dense(ffnn_neurons, activation='relu', input_shape=(input,)))\n",
        "ffnn_model.add(Dropout(dropout))\n",
        "ffnn_model.add(Dense(ffnn_neurons, activation='relu'))\n",
        "ffnn_model.add(Dropout(dropout))\n",
        "ffnn_model.add(Dense(ffnn_neurons, activation='relu'))\n",
        "ffnn_model.add(Dropout(dropout))\n",
        "ffnn_model.add(Dense(1, activation='sigmoid'))\n",
        "\n",
        "# Compile the model\n",
        "ffnn_model.compile(optimizer='adam', loss='binary_crossentropy', metrics=['accuracy'])\n",
        "\n",
        "# Assuming X_train and y_train1 are defined elsewhere\n",
        "# Train the model\n",
        "history = ffnn_model.fit(X_train1, y_train1, epochs=10, batch_size=32, validation_data=(X_val, y_val))\n"
      ]
    },
    {
      "cell_type": "code",
      "source": [
        "from tensorflow.keras.models import Sequential\n",
        "from tensorflow.keras.layers import Dense, Dropout\n",
        "\n",
        "ffnn_neurons = 1024\n",
        "dropout = 0.5\n",
        "\n",
        "# Define FFNN model without embedding layer\n",
        "ffnn_model = Sequential()\n",
        "ffnn_model.add(Dense(ffnn_neurons, activation='relu', input_shape=(input,)))\n",
        "ffnn_model.add(Dropout(dropout))\n",
        "ffnn_model.add(Dense(1, activation='sigmoid'))\n",
        "\n",
        "# Compile the model\n",
        "ffnn_model.compile(optimizer='adam', loss='binary_crossentropy', metrics=['accuracy'])\n",
        "\n",
        "# Assuming X_train and y_train1 are defined elsewhere\n",
        "# Train the model\n",
        "history = ffnn_model.fit(X_train1, y_train1, epochs=10, batch_size=32, validation_data=(X_val, y_val))\n"
      ],
      "metadata": {
        "colab": {
          "base_uri": "https://localhost:8080/"
        },
        "id": "IPkYLJMi3PSH",
        "outputId": "93490f2b-98e9-4ca9-e893-5cc73efc976b"
      },
      "execution_count": 22,
      "outputs": [
        {
          "output_type": "stream",
          "name": "stdout",
          "text": [
            "Epoch 1/10\n",
            "895/895 [==============================] - 5s 4ms/step - loss: 0.7905 - accuracy: 0.8917 - val_loss: 0.2108 - val_accuracy: 0.9449\n",
            "Epoch 2/10\n",
            "895/895 [==============================] - 4s 4ms/step - loss: 0.1987 - accuracy: 0.9437 - val_loss: 0.1374 - val_accuracy: 0.9539\n",
            "Epoch 3/10\n",
            "895/895 [==============================] - 4s 5ms/step - loss: 0.1561 - accuracy: 0.9530 - val_loss: 0.1271 - val_accuracy: 0.9572\n",
            "Epoch 4/10\n",
            "895/895 [==============================] - 4s 4ms/step - loss: 0.1454 - accuracy: 0.9555 - val_loss: 0.1220 - val_accuracy: 0.9597\n",
            "Epoch 5/10\n",
            "895/895 [==============================] - 3s 4ms/step - loss: 0.1257 - accuracy: 0.9600 - val_loss: 0.1341 - val_accuracy: 0.9579\n",
            "Epoch 6/10\n",
            "895/895 [==============================] - 4s 4ms/step - loss: 0.1619 - accuracy: 0.9605 - val_loss: 0.1988 - val_accuracy: 0.9396\n",
            "Epoch 7/10\n",
            "895/895 [==============================] - 4s 5ms/step - loss: 0.0864 - accuracy: 0.9720 - val_loss: 0.1249 - val_accuracy: 0.9634\n",
            "Epoch 8/10\n",
            "895/895 [==============================] - 4s 4ms/step - loss: 0.0812 - accuracy: 0.9743 - val_loss: 0.1792 - val_accuracy: 0.9486\n",
            "Epoch 9/10\n",
            "895/895 [==============================] - 4s 4ms/step - loss: 0.0935 - accuracy: 0.9736 - val_loss: 0.1493 - val_accuracy: 0.9642\n",
            "Epoch 10/10\n",
            "895/895 [==============================] - 4s 5ms/step - loss: 0.0755 - accuracy: 0.9771 - val_loss: 0.1262 - val_accuracy: 0.9670\n"
          ]
        }
      ]
    },
    {
      "cell_type": "code",
      "source": [],
      "metadata": {
        "id": "UUvkCZ6e3QoM"
      },
      "execution_count": null,
      "outputs": []
    }
  ],
  "metadata": {
    "accelerator": "GPU",
    "colab": {
      "gpuType": "T4",
      "provenance": []
    },
    "kernelspec": {
      "display_name": "Python 3",
      "name": "python3"
    },
    "language_info": {
      "name": "python"
    }
  },
  "nbformat": 4,
  "nbformat_minor": 0
}