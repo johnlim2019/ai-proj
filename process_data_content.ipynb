{
 "cells": [
  {
   "cell_type": "code",
   "execution_count": 25,
   "metadata": {},
   "outputs": [
    {
     "name": "stderr",
     "output_type": "stream",
     "text": [
      "[nltk_data] Downloading package stopwords to\n",
      "[nltk_data]     /Users/limjohn/nltk_data...\n",
      "[nltk_data]   Package stopwords is already up-to-date!\n",
      "[nltk_data] Downloading package punkt to /Users/limjohn/nltk_data...\n",
      "[nltk_data]   Package punkt is already up-to-date!\n",
      "[nltk_data] Downloading package averaged_perceptron_tagger to\n",
      "[nltk_data]     /Users/limjohn/nltk_data...\n",
      "[nltk_data]   Package averaged_perceptron_tagger is already up-to-\n",
      "[nltk_data]       date!\n"
     ]
    },
    {
     "data": {
      "text/plain": [
       "True"
      ]
     },
     "execution_count": 25,
     "metadata": {},
     "output_type": "execute_result"
    }
   ],
   "source": [
    "import pandas as pd\n",
    "import re\n",
    "import statistics\n",
    "import nltk\n",
    "from nltk.tag import pos_tag\n",
    "import nltk\n",
    "from nltk.corpus import stopwords\n",
    "nltk.download(\"stopwords\")\n",
    "nltk.download('punkt')\n",
    "nltk.download('averaged_perceptron_tagger')"
   ]
  },
  {
   "cell_type": "markdown",
   "metadata": {},
   "source": [
    "This is meant to find content based features. Each feature will require its own preprocessing"
   ]
  },
  {
   "cell_type": "code",
   "execution_count": 26,
   "metadata": {},
   "outputs": [
    {
     "name": "stdout",
     "output_type": "stream",
     "text": [
      "Index(['Unnamed: 0', 'title', 'text', 'label'], dtype='object')\n",
      "(72134, 4)\n",
      "<class 'str'>\n",
      "       Unnamed: 0                                              title  \\\n",
      "0               0  LAW ENFORCEMENT ON HIGH ALERT Following Threat...   \n",
      "1               1                                                NaN   \n",
      "2               2  UNBELIEVABLE! OBAMA’S ATTORNEY GENERAL SAYS MO...   \n",
      "3               3  Bobby Jindal, raised Hindu, uses story of Chri...   \n",
      "4               4  SATAN 2: Russia unvelis an image of its terrif...   \n",
      "...           ...                                                ...   \n",
      "72129       72129  Russians steal research on Trump in hack of U....   \n",
      "72130       72130   WATCH: Giuliani Demands That Democrats Apolog...   \n",
      "72131       72131  Migrants Refuse To Leave Train At Refugee Camp...   \n",
      "72132       72132  Trump tussle gives unpopular Mexican leader mu...   \n",
      "72133       72133  Goldman Sachs Endorses Hillary Clinton For Pre...   \n",
      "\n",
      "                                                    text  label  \n",
      "0      No comment is expected from Barack Obama Membe...      1  \n",
      "1         Did they post their votes for Hillary already?      1  \n",
      "2       Now, most of the demonstrators gathered last ...      1  \n",
      "3      A dozen politically active pastors came here f...      0  \n",
      "4      The RS-28 Sarmat missile, dubbed Satan 2, will...      1  \n",
      "...                                                  ...    ...  \n",
      "72129  WASHINGTON (Reuters) - Hackers believed to be ...      0  \n",
      "72130  You know, because in fantasyland Republicans n...      1  \n",
      "72131  Migrants Refuse To Leave Train At Refugee Camp...      0  \n",
      "72132  MEXICO CITY (Reuters) - Donald Trump’s combati...      0  \n",
      "72133  Goldman Sachs Endorses Hillary Clinton For Pre...      1  \n",
      "\n",
      "[72134 rows x 4 columns]\n"
     ]
    }
   ],
   "source": [
    "df = pd.read_csv(\"./data/WELFake_Dataset.csv\")\n",
    "print(df.columns)\n",
    "print(df.shape)\n",
    "print(type(df.loc[7, \"text\"]))\n",
    "print(df)\n",
    "\n",
    "text_iterator = df[\"text\"]\n",
    "title_iterator = df[\"title\"]\n",
    "def combine_columns(row):\n",
    "    return str(row[\"title\"]) + \".\" + str(row[\"text\"])\n",
    "\n",
    "\n",
    "# Apply the custom function to create a new column 'Combined'\n",
    "df[\"Combined\"] = df.apply(combine_columns, axis=1)\n",
    "merged_iterator = df[\"Combined\"]"
   ]
  },
  {
   "cell_type": "markdown",
   "metadata": {},
   "source": [
    "Tokenise sentence length for sentence length, keep stop word"
   ]
  },
  {
   "cell_type": "code",
   "execution_count": 27,
   "metadata": {},
   "outputs": [
    {
     "name": "stdout",
     "output_type": "stream",
     "text": [
      "[[['this', 'is', 'a', 'test'], ['um', 'oops'], ['not', 'really'], ['haha', 'haha']], [['thats', 'the', 'rub'], ['whats', 'a', 'rub'], ['ruba', 'dub', 'dub']]]\n"
     ]
    }
   ],
   "source": [
    "def process_text(text_iterator):\n",
    "    text_processed = []\n",
    "    empty_indexes = []\n",
    "    for index,text in enumerate(text_iterator):    \n",
    "        try:\n",
    "            # remove some supers \n",
    "            t = re.sub(\"[^a-zA-Z0-9\\.\\?\\!]\", \" \", text)\n",
    "            # remove multiple spaces\n",
    "            t = re.sub(r\" +\", \" \", t)\n",
    "            # remove newline\n",
    "            t = re.sub(r\"\\n\", \" \", t)\n",
    "            # clear trailing whitespaces\n",
    "            t = t.strip()\n",
    "            # lowercase\n",
    "            t = t.lower()\n",
    "            # tokenise sentences\n",
    "            t = re.split(\"\\!|\\.|\\?\",t)\n",
    "            # strip sentence\n",
    "            t = [item.strip() for item in t]\n",
    "            # drop empty string \n",
    "            t = list(filter(lambda x: x != \"\", t))\n",
    "            # tokenise words \n",
    "            sentences_tokenised = []\n",
    "            for sentence in t: \n",
    "                #tokenise\n",
    "                s = sentence.split(\" \")\n",
    "                sentences_tokenised.append(s)                                \n",
    "            if len(sentences_tokenised) == 0:\n",
    "                print(text)\n",
    "                empty_indexes.append(index)\n",
    "                text_processed.append(None)\n",
    "            else:\n",
    "                text_processed.append(sentences_tokenised)\n",
    "        except Exception as e:\n",
    "            print(e)\n",
    "            text_processed.append(None)\n",
    "            continue\n",
    "        \n",
    "    return text_processed\n",
    "\n",
    "print(process_text([\"this is a test. um oops! not really? haha haha!\",\"thats the rub. whats a rub?? ruba# dub dub!\"]))\n"
   ]
  },
  {
   "cell_type": "code",
   "execution_count": 28,
   "metadata": {},
   "outputs": [
    {
     "name": "stdout",
     "output_type": "stream",
     "text": [
      "Чем закончатся изменения региональной динамики на Ближнем Востоке | Новое восточное обозрение.Как отмечает в своей новой статье ветеран боевых действий США Гордон Даф, сегодня в «большой региональной игре» стороны меняют свою приверженность настолько же быстро, насколько заключают новые союзы. Так, Турция и Саудовская Аравия планируют усилить поддержку ДАИШ, пока Вашингтон занимает неопределенную позицию по этому вопросу. Тель-Авив, со своей стороны, посылает недвусмысленные сигналы о том, что все контакты с Белым домом «отныне нужно держать через него», на что уже, судя по всему, отреагировал Иран, который помнит обещания Трампа об отмене договора по иранской ядерной программе. После того, как боевики ХАМАС начали переправляться ЦРУ в лагеря подготовки ДАИШ, практически ни одна из региональных держав публично не возражает против дальнейшей оккупации Израилем палестинских территорий. В условиях, когда роль США сокращается в регионе, а Анкара и Тель-Авив значительно усиливают свои позиции, встает вопрос: не попытаются ли они ударить Москве в спину? С полной версией статьи вы можете ознакомиться здесь . Популярные статьи \n",
      "Как «троцкисты» осаждали российское посольство «во имя Алеппо» | Новое восточное обозрение.Регион: Европа Как отмечает в своей статье американский политический активист Калеб Маупин, едва ли кого-то из числа людей осведомленных о положении дел в международной политике не удивило бы сообщение о том, что «троцкисты» осадили здание российского посольства в Лондоне из-за событий в Сирии. Мало того, что правительство Башара Асада всегда имело четкий социальный уклон, так и Россия, которая оказалась одним из немногих государств, которое не захотело стоять в стороне и смотреть на сирийскую резню, во всех стадиях своего развития имела социальный уклон. Так с чего бы вдруг британским социалистам приковывать себя к ограде российской дипмиссии, да еще и с молчаливого попустительства британской полиции, которая не привыкла «церемониться» с демонстрантами любого толка? Автор отмечает, что в процессе попытки подорвать устои Советского Союза, ЦРУ начало активно финансировать левых маргиналов различного толка, которые в свое время приветствовали жестокие расправы талибов над советскими солдатами. Сегодня их «духовные наследники» приветствуют Свободную сирийскую армию, которая, по сути, является лишь прикрытием для радикальных уголовников всех цветов и мастей. Автор отмечает, что с помощью таких малочисленных акций, которые, тем не менее, активно освещаются в западных СМИ, Вашингтон пытается показать, что «различные слои» западного общества противостоят «сирийскому режиму». Однако на деле эти «различные слои» представлены небольшой группой власть имущих, преследующих свой корыстный интерес, и ворохом иждивенцев-маргиналов, которые готовы превозносить даже самых отъявленных преступников, если они это делают за «умеренную плату». С полной версией статьи вы можете ознакомиться здесь . Популярные статьи \n",
      "Стоит ли ожидать конца войны в Сирии? | Новое восточное обозрение.Страна: Сирия В своей новой статье постоянный обозреватель НВО Тони Карталучи отмечает, что многие до сих пор связывают надежды на окончание конфликта в Сирии с фигурой Дональда Трампа. Автор напоминает, что агрессия против Дамаска является лишь частью более грандиозного плана по уничтожению Ирана, который был запущен в действие Джорджем Бушем и затем подхвачен администрацией Барака Обамы. И поскольку среди ближайших советников Трампа внимательный наблюдатель может заметить немало неоконов, единственная надежда сирийского народа на мир продолжает таиться где-то на поле боя. С полной версией статьи вы можете ознакомиться здесь . Популярные статьи \n",
      "Поражение под Алеппо стало концом «единого фронта» против Асада | Новое восточное обозрение.Страна: Сирия Как отмечает в своей новой статье пакистанский исследователь Салман Рафи, попытка контратаковать правительственные войска под Алеппо привела к тому, что войска боевиков были смяты и отброшены назад. Теперь окончание битвы за Алеппо уже не за горами, что сразу же отразилось на моральном состоянии противников Асада. Информационные агентства сообщили, что бойцы яро поддерживаемой Вашингтоном Свободной сирийской армии устроили бой с боевиками Джабхат Аль-Нусры за контроль над рядом пропускных пунктов на сирийско-турецкой границе. Более крупные бандформирования по всей Сирии начали поглощать мелкие, отбирая «их» земли и добычу, что в итоге приведет к коллапсу всех поддерживаемых Западом сил в Сирии. Автор отмечает, что та неясность, которая воцарилась после победы Дональда Трампа на президентских выборах, лишь ускоряет процесс разложения «оппозиционных сил». С полной версией статьи вы можете ознакомиться здесь . Популярные статьи \n",
      "Как Флинн похоронил все надежды на Трампа | Новое восточное обозрение.Регион: США в мире Как отмечает в новой статье обозреватель НВО Урсан Гуннар, многие обозреватели на Западе высказывали свои опасения о возможном появлении в администрации недавно избранного президента США Дональда Трампа большого количества неоконов, которые будут проводить политику на сближение позиций Москвы и Вашингтона. Однако едва ли кто-то ожидал, что уже первые назначения в администрации будущего лидера «оплота демократии» просто-напросто похоронят все надежды на подобное сближение. Позицию советника по национальной безопасности получил не кто иной, как отставной генерал-лейтенант Майкл Флинн, который является ярким представителем интересов военно-промышленного комплекса США. Автор напоминает, что Флинн недавно изложил свои мысли о «борьбе с терроризмом» в достаточно пространном труде, где говорится, что для победы над радикальным исламизмом нужно убрать всякую критику Ислама внутри страны и разрешить «более свободное» применение американского воинского контингента на Ближнем Востоке. Однако это может немедленно вылиться в достаточно опасные инциденты с участием российских военных в Сирии. Автор отмечает, что Флинн так ни разу и словом не обмолвился о необходимости перерезать финансирование террористов от Турции, Саудовской Аравии, Катара и других региональных игроков. Именно так, судя по всему, выглядит «перезагрузка» в глазах Дональда Трампа. С полной версией статьи вы можете ознакомиться здесь . Популярные статьи \n",
      "Смогут ли выборы в Соединенных Штатах что-то изменить? | Новое восточное обозрение.Регион: США в мире В своей новой статье канадский эксперт по международному праву и правам человека Кристофер Блэк отмечает, что у многих западных обывателей сложилось впечатление, что благодаря президентским выборам им удалось избежать ужасной участи, которую готовила им Хиллари Клинтон. Но какая судьба их ожидает теперь? Автор подчеркивает, что для того, чтобы Трамп смог вернуть рабочие места в Соединенные Штаты, ему нужно понизить уровень оплаты труда до уровня, к которому рабочие давно привыкли в Африке или Китае. Такова цена капитализма, где блага производятся для получения прибыли. А потому эта самая прибыль искусственно вычитается из цены произведенного блага, оставляя человеку лишь жалкие крохи. В итоге, ни один из возможных кандидатов в президенты США не сможет разрешить кризис современной Америки, потому что называется он — капитализм. Что касается такого понятия, как социализм, то в США долгие годы пропаганды сделали его чуть ли не грубым, неприличным словом. Так есть ли выход? И какой? С полной версией статьи вы можете ознакомиться здесь . Популярные статьи \n",
      "Эр-Рияд пытается втянуть Вашингтон в новый конфликт | Новое восточное обозрение.Страна: Саудовская Аравия Как отмечает в своей новой статье постоянный обозреватель НВО Генри Каменс, конфликт в Йемене нанес серьезный удар не только по кошельку саудовского королевского семейства, но и существенно подорвал авторитет Саудовской Аравии в мире. Мировому сообществу и прежде всего региональным игрокам стало ясно, что Аль-Сауды не способны проводить военные операции где бы то ни было без «нянек» из Вашингтона. В этой связи Саудовская Аравия всеми силами пытается втянуть Вашингтон в йеменский конфликт, и инцидент с обстрелом американского эсминца Мэйсон, который сразу же свалили на хуситов, является самым ярким тому подтверждением. В ситуации, когда руководство в Вашингтоне меняется, Аль-Сауды стараются подбросить как можно больше дров в огонь, чтобы новая администрация не имела другого выхода, кроме как расхлебывать навалившиеся на неё проблемы. Автор отмечает, что атаки на американский эсминец в свое время послужили поводом для начал Вьетнамской войны, о чем саудовцы прекрасно помнят. Именно поэтому в ближайшее время можно ожидать новых инцидентов с участием американских военных как в самом Йемене, так и в его территориальных водах. С полной версией статьи вы можете ознакомиться здесь . Популярные статьи \n",
      "Как долго Запад будет раскачивать лодку сирийского конфликта? | Новое восточное обозрение.Страна: Сирия Свою статью ветеран вооруженных сил США Джим Дин начинает с цитаты Отто фон Бисмарка, который описывал западных политических лидеров как людей, «курящих в пороховом погребе», и «нисколько не заботившихся о последствиях». Западные СМИ продолжают фабриковать всевозможные выдумки по поводу российских и сирийских «преступлений» в Сирии, нисколько не заботясь ни об их достоверности, ни о публикации опровержений. В то время, как российский МИД развенчивает очередное бредовое обвинение, совершаемые прозападными боевиками массовые казни, грабеж и насилие в Ираке, остаются без какого-либо внимания со стороны международных СМИ. Автор отмечает, что нынешний курс Вашингтона на Ближнем Востоке уже доказал свою полную несостоятельность, поскольку ни на чем не основанные обвинения все дальше подрывают «авторитет» западных СМИ, который и без того уже достаточно подмочен, в то время как поддержка террористов лишь ухудшает обстановку в регионе. Так не пора ли остановится? С полным содержанием статьи вы можете ознакомиться здесь . Популярные статьи \n",
      "Сможет ли Трамп положить конец потоку нелегального оружия в Сирию? | Новое восточное обозрение.Регион: США в мире Как отмечает в своей новой статье ветеран боевых действий США Гордон Даф, остается до сих пор неясно, как Трамп собирается навести порядок с непрекращающимся потоком американского высокоточного оружия в Сирию, когда он находится в прекрасных отношениях с Тель-Авивом, который поддерживает террористическую группировку ДАИШ. Точно также у автора не получается понять, как Трамп собирается «дружить» с Россией, когда он окружил себя ярыми русофобами. Особые надежды автор в этом вопросе возлагает на генерал-лейтенанта Майкла Флинна, который стал советником по национальной безопасности в будущей администрации. Автор отмечает, что, несмотря на ожесточенную критику этого назначения со стороны ряда обозревателей, Флинн не только прекрасно осведомлен о «всех проделках» таких государств, как Саудовская Аравия, Турция и Катар в сирийском конфликте, но он также хорошо понимает, какую роль играет Москва в попытке прекратить вооруженную агрессию против сирийского государства и во многом разделяет её позиции. Тем не менее старая поговорка гласит: «Нельзя приготовить омлет, не разбив яиц». А потому для возвращения статуса-кво на Ближнем Востоке, Трамп будет вынужден рассмотреть возможность уголовного преследования семейства Бушей, равно как и внимательно изучить деятельность своего однопартийца — сенатора Джона Маккейна по продаже сирийской и иракской ворованной нефти. Хватит ли у него на это смелости — покажет только время. С полной версией статьи вы можете ознакомиться здесь . Популярные статьи \n",
      "Так кто же в итоге создал международную коалицию против ДАИШ? | Новое восточное обозрение.Страна: Ирак Как отмечает в своей новой статье пакистанский исследователь Салман Рафи, штурм иракского города Мосула вынудил международных и региональных игроков координировать свои усилия ради достижения собственных интересов. Однако, как того и стоило ожидать, с Вашингтоном никому из участников штурма оказалось «не по пути», потому что Белый дом попытался настоять на том, чтобы Турция не участвовала в штурме Мосула. А потому никакого другого выбора, кроме как дать иранским военным «зеленый свет», Обама просто-напросто не имел. Автор отмечает, что едва бы осторожные предупреждения Вашингтона смогли остановить Турцию. Однако Эрдоган все-таки не пошел на штурм Мосула. Это говорит о том, что Москва смогла добиться крупного успеха в переговорах с турецкими коллегами, которые всегда рассматривали данный иракский город как «турецкую вотчину». В то время как иранские и иракские военные занимаются планомерным освобождением Мосула, Москва, Анкара и Дамаск координируют свои действия с ними на сирийской территории. Автор отмечает, что сейчас самое время задаться вопросом, так кто же на самом деле создал международную коалицию против ДАИШ? С полной версией статьи вы можете ознакомиться здесь . Популярные статьи \n",
      "Положит ли Дональд Трамп конец «ваххабитскому беспределу»? | Новое восточное обозрение.Страна: Саудовская Аравия Как отмечает в своей статье американский политический активист Калеб Маупин, ни для кого не является секретом, что пока Вашингтон продолжает рассуждать о «правах человека» и «демократии», он продолжает совершенно открыто поддерживать самые реакционные ближневосточные державы. В частности Саудовскую Аравию, Катар и Объединенные Арабские Эмираты, где господствуют средневековые нравы, а о таком понятии, как «права человека» даже и не слышали. Более того, аравийские монархии продолжают поддерживать террористические группы по всему Ближнему Востоку, большинство из которых придерживаются ваххабитских взглядов в религиозных вопросах. Автор отмечает, что недавно избранный будущий президент США Дональд Трапм, который в ходе избирательной кампании не раз и не два критиковал Эр-Рияд, должен ответить для самого себя на вопрос: готов ли он положить конец «ваххабитскому беспределу», кардинально изменив тем самым политику Вашингтона? И если такая решимость у Трампа все-таки имеется, ему придется искать сотрудничества с так часто демонизируемой на Западе Москвой, а также и с Тегераном, о котором он в ходе своей кампании отзывался не слишком-то любезно. Именно Москва и Иран на сегодняшний день стоят на передовой войны с радикальным экстремизмом, и без взаимодействия с этими державами едва ли как-то можно изменить ситуацию на Ближнем Востоке. С полной версией статьи вы можете ознакомиться здесь . Популярные статьи \n",
      "А не пора ли государствам ЮВА вводить санкции против Вашингтона? | Новое восточное обозрение.Регион: Юго-Восточная Азия Как отмечает в своей новой статье обозреватель НВО Урсан Гуннар, Юго-Восточная Азия как регион всегда отличалась высоким уровнем политической стабильности, ввиду того, что спорные вопросы здесь решаются не с помощью силы оружия, а в ходе переговоров. Однако, отмечает автор, вмешательство любой «внешней силы» ведет к росту напряженности в регионе, поскольку двухсторонние встречи теряют всякий смысл, а на их место приходит гонка вооружений и военные учения. Автор отмечает, что благодаря желанию нового президента Филиппин Родриго Дутерте дистанцироваться от Вашингтона, последний виток напряженности в Южно-Китайском море начал постепенно спадать. Манила уже ведет переговоры с Пекином по всем спорным вопросам в расширенном формате, что вызывает сильное огорчение западных СМИ. Однако, пока Вашингтон сохраняет свое присутствие в регионе, вероятность возникновения новых «точек напряженности» не исчезает. Именно поэтому, уверен автор, региональные игроки должны Вашингтон из региона «выдавить» путем принятия экономических санкций против скрытого агрессора. С полной версией статьи вы можете ознакомиться здесь . Популярные статьи \n",
      "72134\n",
      "LAW ENFORCEMENT ON HIGH ALERT Following Threats Against Cops And Whites On 9-11By #BlackLivesMatter And #FYF911 Terrorists [VIDEO].No comment is expected from Barack Obama Members of the #FYF911 or #FukYoFlag and #BlackLivesMatter movements called for the lynching and hanging of white people and cops. They encouraged others on a radio show Tuesday night to  turn the tide  and kill white people and cops to send a message about the killing of black people in America.One of the F***YoFlag organizers is called  Sunshine.  She has a radio blog show hosted from Texas called,  Sunshine s F***ing Opinion Radio Show. A snapshot of her #FYF911 @LOLatWhiteFear Twitter page at 9:53 p.m. shows that she was urging supporters to  Call now!! #fyf911 tonight we continue to dismantle the illusion of white Below is a SNAPSHOT Twitter Radio Call Invite   #FYF911The radio show aired at 10:00 p.m. eastern standard time.During the show, callers clearly call for  lynching  and  killing  of white people.A 2:39 minute clip from the radio show can be heard here. It was provided to Breitbart Texas by someone who would like to be referred to as  Hannibal.  He has already received death threats as a result of interrupting #FYF911 conference calls.An unidentified black man said  when those mother f**kers are by themselves, that s when when we should start f***ing them up. Like they do us, when a bunch of them ni**ers takin  one of us out, that s how we should roll up.  He said,  Cause we already roll up in gangs anyway. There should be six or seven black mother f**ckers, see that white person, and then lynch their ass. Let s turn the tables. They conspired that if  cops started losing people,  then  there will be a state of emergency. He speculated that one of two things would happen,  a big-ass [R s?????] war,  or  ni**ers, they are going to start backin  up. We are already getting killed out here so what the f**k we got to lose? Sunshine could be heard saying,  Yep, that s true. That s so f**king true. He said,  We need to turn the tables on them. Our kids are getting shot out here. Somebody needs to become a sacrifice on their side.He said,  Everybody ain t down for that s**t, or whatever, but like I say, everybody has a different position of war.  He continued,  Because they don t give a f**k anyway.  He said again,  We might as well utilized them for that s**t and turn the tables on these n**ers. He said, that way  we can start lookin  like we ain t havin  that many casualties, and there can be more causalities on their side instead of ours. They are out their killing black people, black lives don t matter, that s what those mother f**kers   so we got to make it matter to them. Find a mother f**ker that is alone. Snap his ass, and then f***in hang him from a damn tree. Take a picture of it and then send it to the mother f**kers. We  just need one example,  and  then people will start watchin .  This will turn the tables on s**t, he said. He said this will start  a trickle-down effect.  He said that when one white person is hung and then they are just  flat-hanging,  that will start the  trickle-down effect.  He continued,  Black people are good at starting trends. He said that was how  to get the upper-hand. Another black man spoke up saying they needed to kill  cops that are killing us. The first black male said,  That will be the best method right there. Breitbart Texas previously reported how Sunshine was upset when  racist white people  infiltrated and disrupted one of her conference calls. She subsequently released the phone number of one of the infiltrators. The veteran immediately started receiving threatening calls.One of the #F***YoFlag movement supporters allegedly told a veteran who infiltrated their publicly posted conference call,  We are going to rape and gut your pregnant wife, and your f***ing piece of sh*t unborn creature will be hung from a tree. Breitbart Texas previously encountered Sunshine at a Sandra Bland protest at the Waller County Jail in Texas, where she said all white people should be killed. She told journalists and photographers,  You see this nappy-ass hair on my head?   That means I am one of those more militant Negroes.  She said she was at the protest because  these redneck mother-f**kers murdered Sandra Bland because she had nappy hair like me. #FYF911 black radicals say they will be holding the  imperial powers  that are actually responsible for the terrorist attacks on September 11th accountable on that day, as reported by Breitbart Texas. There are several websites and Twitter handles for the movement. Palmetto Star  describes himself as one of the head organizers. He said in a YouTube video that supporters will be burning their symbols of  the illusion of their superiority,  their  false white supremacy,  like the American flag, the British flag, police uniforms, and Ku Klux Klan hoods.Sierra McGrone or  Nocturnus Libertus  posted,  you too can help a young Afrikan clean their a** with the rag of oppression.  She posted two photos, one that appears to be herself, and a photo of a black man, wiping their naked butts with the American flag.For entire story: Breitbart News\n",
      "[['law', 'enforcement', 'on', 'high', 'alert', 'following', 'threats', 'against', 'cops', 'and', 'whites', 'on', '9', '11by', 'blacklivesmatter', 'and', 'fyf911', 'terrorists', 'video'], ['no', 'comment', 'is', 'expected', 'from', 'barack', 'obama', 'members', 'of', 'the', 'fyf911', 'or', 'fukyoflag', 'and', 'blacklivesmatter', 'movements', 'called', 'for', 'the', 'lynching', 'and', 'hanging', 'of', 'white', 'people', 'and', 'cops'], ['they', 'encouraged', 'others', 'on', 'a', 'radio', 'show', 'tuesday', 'night', 'to', 'turn', 'the', 'tide', 'and', 'kill', 'white', 'people', 'and', 'cops', 'to', 'send', 'a', 'message', 'about', 'the', 'killing', 'of', 'black', 'people', 'in', 'america'], ['one', 'of', 'the', 'f', 'yoflag', 'organizers', 'is', 'called', 'sunshine'], ['she', 'has', 'a', 'radio', 'blog', 'show', 'hosted', 'from', 'texas', 'called', 'sunshine', 's', 'f', 'ing', 'opinion', 'radio', 'show'], ['a', 'snapshot', 'of', 'her', 'fyf911', 'lolatwhitefear', 'twitter', 'page', 'at', '9', '53', 'p'], ['m'], ['shows', 'that', 'she', 'was', 'urging', 'supporters', 'to', 'call', 'now'], ['fyf911', 'tonight', 'we', 'continue', 'to', 'dismantle', 'the', 'illusion', 'of', 'white', 'below', 'is', 'a', 'snapshot', 'twitter', 'radio', 'call', 'invite', 'fyf911the', 'radio', 'show', 'aired', 'at', '10', '00', 'p'], ['m'], ['eastern', 'standard', 'time'], ['during', 'the', 'show', 'callers', 'clearly', 'call', 'for', 'lynching', 'and', 'killing', 'of', 'white', 'people'], ['a', '2', '39', 'minute', 'clip', 'from', 'the', 'radio', 'show', 'can', 'be', 'heard', 'here'], ['it', 'was', 'provided', 'to', 'breitbart', 'texas', 'by', 'someone', 'who', 'would', 'like', 'to', 'be', 'referred', 'to', 'as', 'hannibal'], ['he', 'has', 'already', 'received', 'death', 'threats', 'as', 'a', 'result', 'of', 'interrupting', 'fyf911', 'conference', 'calls'], ['an', 'unidentified', 'black', 'man', 'said', 'when', 'those', 'mother', 'f', 'kers', 'are', 'by', 'themselves', 'that', 's', 'when', 'when', 'we', 'should', 'start', 'f', 'ing', 'them', 'up'], ['like', 'they', 'do', 'us', 'when', 'a', 'bunch', 'of', 'them', 'ni', 'ers', 'takin', 'one', 'of', 'us', 'out', 'that', 's', 'how', 'we', 'should', 'roll', 'up'], ['he', 'said', 'cause', 'we', 'already', 'roll', 'up', 'in', 'gangs', 'anyway'], ['there', 'should', 'be', 'six', 'or', 'seven', 'black', 'mother', 'f', 'ckers', 'see', 'that', 'white', 'person', 'and', 'then', 'lynch', 'their', 'ass'], ['let', 's', 'turn', 'the', 'tables'], ['they', 'conspired', 'that', 'if', 'cops', 'started', 'losing', 'people', 'then', 'there', 'will', 'be', 'a', 'state', 'of', 'emergency'], ['he', 'speculated', 'that', 'one', 'of', 'two', 'things', 'would', 'happen', 'a', 'big', 'ass', 'r', 's'], ['war', 'or', 'ni', 'ers', 'they', 'are', 'going', 'to', 'start', 'backin', 'up'], ['we', 'are', 'already', 'getting', 'killed', 'out', 'here', 'so', 'what', 'the', 'f', 'k', 'we', 'got', 'to', 'lose'], ['sunshine', 'could', 'be', 'heard', 'saying', 'yep', 'that', 's', 'true'], ['that', 's', 'so', 'f', 'king', 'true'], ['he', 'said', 'we', 'need', 'to', 'turn', 'the', 'tables', 'on', 'them'], ['our', 'kids', 'are', 'getting', 'shot', 'out', 'here'], ['somebody', 'needs', 'to', 'become', 'a', 'sacrifice', 'on', 'their', 'side'], ['he', 'said', 'everybody', 'ain', 't', 'down', 'for', 'that', 's', 't', 'or', 'whatever', 'but', 'like', 'i', 'say', 'everybody', 'has', 'a', 'different', 'position', 'of', 'war'], ['he', 'continued', 'because', 'they', 'don', 't', 'give', 'a', 'f', 'k', 'anyway'], ['he', 'said', 'again', 'we', 'might', 'as', 'well', 'utilized', 'them', 'for', 'that', 's', 't', 'and', 'turn', 'the', 'tables', 'on', 'these', 'n', 'ers'], ['he', 'said', 'that', 'way', 'we', 'can', 'start', 'lookin', 'like', 'we', 'ain', 't', 'havin', 'that', 'many', 'casualties', 'and', 'there', 'can', 'be', 'more', 'causalities', 'on', 'their', 'side', 'instead', 'of', 'ours'], ['they', 'are', 'out', 'their', 'killing', 'black', 'people', 'black', 'lives', 'don', 't', 'matter', 'that', 's', 'what', 'those', 'mother', 'f', 'kers', 'so', 'we', 'got', 'to', 'make', 'it', 'matter', 'to', 'them'], ['find', 'a', 'mother', 'f', 'ker', 'that', 'is', 'alone'], ['snap', 'his', 'ass', 'and', 'then', 'f', 'in', 'hang', 'him', 'from', 'a', 'damn', 'tree'], ['take', 'a', 'picture', 'of', 'it', 'and', 'then', 'send', 'it', 'to', 'the', 'mother', 'f', 'kers'], ['we', 'just', 'need', 'one', 'example', 'and', 'then', 'people', 'will', 'start', 'watchin'], ['this', 'will', 'turn', 'the', 'tables', 'on', 's', 't', 'he', 'said'], ['he', 'said', 'this', 'will', 'start', 'a', 'trickle', 'down', 'effect'], ['he', 'said', 'that', 'when', 'one', 'white', 'person', 'is', 'hung', 'and', 'then', 'they', 'are', 'just', 'flat', 'hanging', 'that', 'will', 'start', 'the', 'trickle', 'down', 'effect'], ['he', 'continued', 'black', 'people', 'are', 'good', 'at', 'starting', 'trends'], ['he', 'said', 'that', 'was', 'how', 'to', 'get', 'the', 'upper', 'hand'], ['another', 'black', 'man', 'spoke', 'up', 'saying', 'they', 'needed', 'to', 'kill', 'cops', 'that', 'are', 'killing', 'us'], ['the', 'first', 'black', 'male', 'said', 'that', 'will', 'be', 'the', 'best', 'method', 'right', 'there'], ['breitbart', 'texas', 'previously', 'reported', 'how', 'sunshine', 'was', 'upset', 'when', 'racist', 'white', 'people', 'infiltrated', 'and', 'disrupted', 'one', 'of', 'her', 'conference', 'calls'], ['she', 'subsequently', 'released', 'the', 'phone', 'number', 'of', 'one', 'of', 'the', 'infiltrators'], ['the', 'veteran', 'immediately', 'started', 'receiving', 'threatening', 'calls'], ['one', 'of', 'the', 'f', 'yoflag', 'movement', 'supporters', 'allegedly', 'told', 'a', 'veteran', 'who', 'infiltrated', 'their', 'publicly', 'posted', 'conference', 'call', 'we', 'are', 'going', 'to', 'rape', 'and', 'gut', 'your', 'pregnant', 'wife', 'and', 'your', 'f', 'ing', 'piece', 'of', 'sh', 't', 'unborn', 'creature', 'will', 'be', 'hung', 'from', 'a', 'tree'], ['breitbart', 'texas', 'previously', 'encountered', 'sunshine', 'at', 'a', 'sandra', 'bland', 'protest', 'at', 'the', 'waller', 'county', 'jail', 'in', 'texas', 'where', 'she', 'said', 'all', 'white', 'people', 'should', 'be', 'killed'], ['she', 'told', 'journalists', 'and', 'photographers', 'you', 'see', 'this', 'nappy', 'ass', 'hair', 'on', 'my', 'head'], ['that', 'means', 'i', 'am', 'one', 'of', 'those', 'more', 'militant', 'negroes'], ['she', 'said', 'she', 'was', 'at', 'the', 'protest', 'because', 'these', 'redneck', 'mother', 'f', 'kers', 'murdered', 'sandra', 'bland', 'because', 'she', 'had', 'nappy', 'hair', 'like', 'me'], ['fyf911', 'black', 'radicals', 'say', 'they', 'will', 'be', 'holding', 'the', 'imperial', 'powers', 'that', 'are', 'actually', 'responsible', 'for', 'the', 'terrorist', 'attacks', 'on', 'september', '11th', 'accountable', 'on', 'that', 'day', 'as', 'reported', 'by', 'breitbart', 'texas'], ['there', 'are', 'several', 'websites', 'and', 'twitter', 'handles', 'for', 'the', 'movement'], ['palmetto', 'star', 'describes', 'himself', 'as', 'one', 'of', 'the', 'head', 'organizers'], ['he', 'said', 'in', 'a', 'youtube', 'video', 'that', 'supporters', 'will', 'be', 'burning', 'their', 'symbols', 'of', 'the', 'illusion', 'of', 'their', 'superiority', 'their', 'false', 'white', 'supremacy', 'like', 'the', 'american', 'flag', 'the', 'british', 'flag', 'police', 'uniforms', 'and', 'ku', 'klux', 'klan', 'hoods'], ['sierra', 'mcgrone', 'or', 'nocturnus', 'libertus', 'posted', 'you', 'too', 'can', 'help', 'a', 'young', 'afrikan', 'clean', 'their', 'a', 'with', 'the', 'rag', 'of', 'oppression'], ['she', 'posted', 'two', 'photos', 'one', 'that', 'appears', 'to', 'be', 'herself', 'and', 'a', 'photo', 'of', 'a', 'black', 'man', 'wiping', 'their', 'naked', 'butts', 'with', 'the', 'american', 'flag'], ['for', 'entire', 'story', 'breitbart', 'news']]\n",
      "1\n"
     ]
    }
   ],
   "source": [
    "merged_processed = process_text(merged_iterator)\n",
    "print(len(merged_processed))\n",
    "print(merged_iterator[0])\n",
    "print(merged_processed[0])\n",
    "print(df[\"label\"][0])"
   ]
  },
  {
   "cell_type": "code",
   "execution_count": 41,
   "metadata": {},
   "outputs": [],
   "source": [
    "# Count words per sentence, long short sentence\n",
    "def sentence_count(row, limit):\n",
    "    lengths = []\n",
    "    short_sentence = 0\n",
    "    long_sentence = 0\n",
    "    sentences = len(row)\n",
    "    for sentence in row:\n",
    "        length = len(sentence)\n",
    "        lengths.append(length)\n",
    "        if length <= limit:\n",
    "            short_sentence += 1\n",
    "        else:\n",
    "            long_sentence += 1\n",
    "    if len(lengths) > 1:\n",
    "        return (\n",
    "            statistics.median(lengths),\n",
    "            statistics.variance(lengths),\n",
    "            short_sentence,\n",
    "            long_sentence,\n",
    "            sentences,\n",
    "        )\n",
    "    else:\n",
    "        return lengths[0], 0, short_sentence, long_sentence, sentences\n",
    "\n",
    "\n",
    "# Short/Long Sentences\n",
    "limit = 10\n",
    "\n",
    "\n",
    "words_per_sentence_ls = []\n",
    "short_sentence_ls = []\n",
    "long_sentence_ls = []\n",
    "sentences_len_ls = [] \n",
    "for i in merged_processed:\n",
    "    try:\n",
    "        (\n",
    "            median_sentence_length,\n",
    "            var_sentence_length,\n",
    "            short_sentences,\n",
    "            long_sentences,\n",
    "            sentences,\n",
    "        ) = sentence_count(i, limit)\n",
    "        words_per_sentence_ls.append((median_sentence_length, var_sentence_length))\n",
    "        short_sentence_ls.append(short_sentences)\n",
    "        long_sentence_ls.append(long_sentences)\n",
    "        sentences_len_ls.append(sentences)\n",
    "    except:\n",
    "        words_per_sentence_ls.append((0, 0))\n",
    "        short_sentence_ls.append(0)\n",
    "        long_sentence_ls.append(0)\n",
    "        sentences_len_ls.append(0)\n",
    "        continue\n",
    "\n"
   ]
  },
  {
   "cell_type": "code",
   "execution_count": 30,
   "metadata": {},
   "outputs": [
    {
     "name": "stdout",
     "output_type": "stream",
     "text": [
      "72134\n",
      "72134\n",
      "72134\n",
      "72134\n"
     ]
    }
   ],
   "source": [
    "print(len(words_per_sentence_ls))\n",
    "print(len(long_sentence_ls))\n",
    "print(len(short_sentence_ls))\n",
    "print(len(sentences_len_ls))"
   ]
  },
  {
   "cell_type": "markdown",
   "metadata": {},
   "source": [
    "Generate parts of speech - drop stop words. \n"
   ]
  },
  {
   "cell_type": "code",
   "execution_count": 31,
   "metadata": {},
   "outputs": [
    {
     "name": "stdout",
     "output_type": "stream",
     "text": [
      "72134\n",
      "72134\n",
      "['now', 'most', 'of', 'the', 'demonstrators', 'gathered', 'last', 'night', 'were', 'exercising', 'their', 'constitutional', 'and', 'protected', 'right', 'to', 'peaceful', 'protest', 'in', 'order', 'to', 'raise', 'issues', 'and', 'create', 'change', 'loretta', 'lynch', 'aka', 'eric', 'holder', 'in', 'a', 'skirt']\n",
      "['demonstrators', 'gathered', 'last', 'night', 'exercising', 'constitutional', 'protected', 'right', 'peaceful', 'protest', 'order', 'raise', 'issues', 'create', 'change', 'loretta', 'lynch', 'aka', 'eric', 'holder', 'skirt']\n",
      "72134\n",
      "72134\n"
     ]
    }
   ],
   "source": [
    "# tokenise per document\n",
    "def process_text(text_iterator):\n",
    "    text_processed = []\n",
    "    for text in text_iterator:        \n",
    "        try:\n",
    "            # remove punctuation\n",
    "            t = re.sub(\"[^a-zA-Z0-9]\", \" \", text)\n",
    "            # remove multiple spaces\n",
    "            t = re.sub(r\" +\", \" \", t)\n",
    "            # remove newline\n",
    "            t = re.sub(r\"\\n\", \" \", t)\n",
    "            # clear trailing whitespaces\n",
    "            t = t.strip()\n",
    "            # lowercase\n",
    "            t = t.lower()\n",
    "            # tokenise\n",
    "            t = t.split(\" \")\n",
    "            # drop empty string\n",
    "            t = list(filter(lambda x: x != \"\", t))\n",
    "            if len(t) == 0:\n",
    "                text_processed.append(None)\n",
    "            else:\n",
    "                text_processed.append(t)\n",
    "        except:\n",
    "            text_processed.append(None)\n",
    "            continue\n",
    "    return text_processed\n",
    "\n",
    "text_processed = process_text(text_iterator)\n",
    "title_processed = process_text(title_iterator)\n",
    "\n",
    "print(len(text_processed))\n",
    "print(len(title_processed))\n",
    "print(text_processed[2])\n",
    "\n",
    "stop_words = set(stopwords.words(\"english\"))\n",
    "\n",
    "def remove_stop_words_inner(text, stop_words):\n",
    "    no_stop_words = []\n",
    "    if text is None:\n",
    "        return None\n",
    "    for token in text:\n",
    "        if token not in stop_words:\n",
    "            no_stop_words.append(token)\n",
    "    return no_stop_words\n",
    "\n",
    "def remove_stop_words_outer(text_list, stop_words):\n",
    "    for index, text in enumerate(text_list):\n",
    "        t = remove_stop_words_inner(text, stop_words)\n",
    "        text_list[index] = t\n",
    "    return text_list\n",
    "\n",
    "\n",
    "text_no_stop_words = remove_stop_words_outer(text_processed, stop_words)\n",
    "title_no_stop_words = remove_stop_words_outer(title_processed, stop_words)\n",
    "print(text_no_stop_words[2])\n",
    "print(len(text_no_stop_words))\n",
    "print(len(title_no_stop_words))"
   ]
  },
  {
   "cell_type": "markdown",
   "metadata": {},
   "source": [
    "Merge Title and Text"
   ]
  },
  {
   "cell_type": "code",
   "execution_count": 32,
   "metadata": {},
   "outputs": [
    {
     "name": "stdout",
     "output_type": "stream",
     "text": [
      "72134\n"
     ]
    }
   ],
   "source": [
    "merged_title_text = []\n",
    "for i,v in enumerate(title_no_stop_words):\n",
    "    if (v == None):    \n",
    "        merge = text_no_stop_words[i]\n",
    "    elif (text_no_stop_words[i]==None):\n",
    "        merge = v\n",
    "    else:\n",
    "        merge = v + text_no_stop_words[i]\n",
    "    merged_title_text.append(merge)\n",
    "    \n",
    "print(len(merged_title_text))"
   ]
  },
  {
   "cell_type": "code",
   "execution_count": 33,
   "metadata": {},
   "outputs": [
    {
     "name": "stdout",
     "output_type": "stream",
     "text": [
      "72134\n"
     ]
    }
   ],
   "source": [
    "# parts of speech per document\n",
    "pos_merged =[]\n",
    "for doc in merged_title_text:\n",
    "    try: \n",
    "        pos_merged.append(pos_tag(doc))\n",
    "    except:\n",
    "        pos_merged.append([])\n",
    "print(len(pos_merged))"
   ]
  },
  {
   "cell_type": "code",
   "execution_count": 34,
   "metadata": {},
   "outputs": [
    {
     "name": "stdout",
     "output_type": "stream",
     "text": [
      "[('law', 'NN'), ('enforcement', 'NN'), ('high', 'JJ'), ('alert', 'NN'), ('following', 'VBG'), ('threats', 'NNS'), ('cops', 'VBP'), ('whites', 'VBZ'), ('9', 'CD'), ('11by', 'CD'), ('blacklivesmatter', 'NN'), ('fyf911', 'NN'), ('terrorists', 'NNS'), ('video', 'VBP'), ('comment', 'NN'), ('expected', 'VBN'), ('barack', 'RB'), ('obama', 'JJ'), ('members', 'NNS'), ('fyf911', 'VBP'), ('fukyoflag', 'JJ'), ('blacklivesmatter', 'NN'), ('movements', 'NNS'), ('called', 'VBD'), ('lynching', 'VBG'), ('hanging', 'VBG'), ('white', 'JJ'), ('people', 'NNS'), ('cops', 'NNS'), ('encouraged', 'VBD'), ('others', 'NNS'), ('radio', 'VB'), ('show', 'NN'), ('tuesday', 'JJ'), ('night', 'NN'), ('turn', 'VB'), ('tide', 'JJ'), ('kill', 'NNP'), ('white', 'JJ'), ('people', 'NNS'), ('cops', 'NNS'), ('send', 'VBP'), ('message', 'NN'), ('killing', 'VBG'), ('black', 'JJ'), ('people', 'NNS'), ('america', 'VBP'), ('one', 'CD'), ('f', 'NN'), ('yoflag', 'NN'), ('organizers', 'NNS'), ('called', 'VBD'), ('sunshine', 'NN'), ('radio', 'NN'), ('blog', 'NN'), ('show', 'NN'), ('hosted', 'VBD'), ('texas', 'NN'), ('called', 'VBN'), ('sunshine', 'NN'), ('f', 'NN'), ('ing', 'VBG'), ('opinion', 'NN'), ('radio', 'NN'), ('show', 'NN'), ('snapshot', 'JJ'), ('fyf911', 'JJ'), ('lolatwhitefear', 'JJ'), ('twitter', 'NN'), ('page', 'NN'), ('9', 'CD'), ('53', 'CD'), ('p', 'NN'), ('shows', 'NNS'), ('urging', 'VBG'), ('supporters', 'NNS'), ('call', 'VBP'), ('fyf911', 'JJ'), ('tonight', 'NN'), ('continue', 'VBP'), ('dismantle', 'JJ'), ('illusion', 'NN'), ('white', 'JJ'), ('snapshot', 'JJ'), ('twitter', 'NN'), ('radio', 'NN'), ('call', 'NN'), ('invite', 'VBP'), ('fyf911the', 'NN'), ('radio', 'NN'), ('show', 'NN'), ('aired', 'VBD'), ('10', 'CD'), ('00', 'CD'), ('p', 'NN'), ('eastern', 'JJ'), ('standard', 'JJ'), ('time', 'NN'), ('show', 'NN'), ('callers', 'NNS'), ('clearly', 'RB'), ('call', 'VBP'), ('lynching', 'VBG'), ('killing', 'VBG'), ('white', 'JJ'), ('people', 'NNS'), ('2', 'CD'), ('39', 'CD'), ('minute', 'NN'), ('clip', 'NN'), ('radio', 'NN'), ('show', 'NN'), ('heard', 'NN'), ('provided', 'VBD'), ('breitbart', 'NN'), ('texas', 'NN'), ('someone', 'NN'), ('would', 'MD'), ('like', 'VB'), ('referred', 'JJ'), ('hannibal', 'JJ'), ('already', 'RB'), ('received', 'VBN'), ('death', 'NN'), ('threats', 'NNS'), ('result', 'VBP'), ('interrupting', 'VBG'), ('fyf911', 'NN'), ('conference', 'NN'), ('calls', 'VBZ'), ('unidentified', 'JJ'), ('black', 'JJ'), ('man', 'NN'), ('said', 'VBD'), ('mother', 'PRP$'), ('f', 'JJ'), ('kers', 'NNS'), ('start', 'VBP'), ('f', 'JJ'), ('ing', 'NN'), ('like', 'IN'), ('us', 'PRP'), ('bunch', 'VBP'), ('ni', 'JJ'), ('ers', 'NNS'), ('takin', 'VBP'), ('one', 'CD'), ('us', 'PRP'), ('roll', 'NN'), ('said', 'VBD'), ('cause', 'NN'), ('already', 'RB'), ('roll', 'JJ'), ('gangs', 'NNS'), ('anyway', 'RB'), ('six', 'CD'), ('seven', 'CD'), ('black', 'JJ'), ('mother', 'NN'), ('f', 'JJ'), ('ckers', 'NNS'), ('see', 'VBP'), ('white', 'JJ'), ('person', 'NN'), ('lynch', 'JJ'), ('ass', 'NN'), ('let', 'NN'), ('turn', 'VB'), ('tables', 'NNS'), ('conspired', 'VBN'), ('cops', 'NNS'), ('started', 'VBD'), ('losing', 'VBG'), ('people', 'NNS'), ('state', 'NN'), ('emergency', 'NN'), ('speculated', 'VBD'), ('one', 'CD'), ('two', 'CD'), ('things', 'NNS'), ('would', 'MD'), ('happen', 'VB'), ('big', 'JJ'), ('ass', 'NN'), ('r', 'NN'), ('war', 'NN'), ('ni', 'NN'), ('ers', 'NNS'), ('going', 'VBG'), ('start', 'JJ'), ('backin', 'NN'), ('already', 'RB'), ('getting', 'VBG'), ('killed', 'VBN'), ('f', 'JJ'), ('k', 'NN'), ('got', 'VBD'), ('lose', 'JJ'), ('sunshine', 'NN'), ('could', 'MD'), ('heard', 'VB'), ('saying', 'VBG'), ('yep', 'PRP'), ('true', 'JJ'), ('f', 'JJ'), ('king', 'NN'), ('true', 'JJ'), ('said', 'VBD'), ('need', 'JJ'), ('turn', 'NN'), ('tables', 'NNS'), ('kids', 'NNS'), ('getting', 'VBG'), ('shot', 'JJ'), ('somebody', 'NN'), ('needs', 'VBZ'), ('become', 'JJ'), ('sacrifice', 'JJ'), ('side', 'NN'), ('said', 'VBD'), ('everybody', 'NN'), ('whatever', 'WDT'), ('like', 'IN'), ('say', 'VBP'), ('everybody', 'NN'), ('different', 'JJ'), ('position', 'NN'), ('war', 'NN'), ('continued', 'VBD'), ('give', 'JJ'), ('f', 'NN'), ('k', 'NN'), ('anyway', 'RB'), ('said', 'VBD'), ('might', 'MD'), ('well', 'RB'), ('utilized', 'JJ'), ('turn', 'NN'), ('tables', 'NNS'), ('n', 'VBP'), ('ers', 'NNS'), ('said', 'VBD'), ('way', 'NN'), ('start', 'NN'), ('lookin', 'VBP'), ('like', 'IN'), ('havin', 'NNS'), ('many', 'JJ'), ('casualties', 'NNS'), ('causalities', 'NNS'), ('side', 'VBP'), ('instead', 'RB'), ('killing', 'VBG'), ('black', 'JJ'), ('people', 'NNS'), ('black', 'JJ'), ('lives', 'VBZ'), ('matter', 'NN'), ('mother', 'NN'), ('f', 'JJ'), ('kers', 'NNS'), ('got', 'VBD'), ('make', 'JJ'), ('matter', 'NN'), ('find', 'VB'), ('mother', 'NN'), ('f', 'JJ'), ('ker', 'NN'), ('alone', 'RB'), ('snap', 'JJ'), ('ass', 'NN'), ('f', 'NN'), ('hang', 'NN'), ('damn', 'VBD'), ('tree', 'JJ'), ('take', 'VB'), ('picture', 'NN'), ('send', 'VB'), ('mother', 'NN'), ('f', 'NN'), ('kers', 'NNS'), ('need', 'VBP'), ('one', 'CD'), ('example', 'NN'), ('people', 'NNS'), ('start', 'VBP'), ('watchin', 'JJ'), ('turn', 'NN'), ('tables', 'NNS'), ('said', 'VBD'), ('said', 'VBD'), ('start', 'JJ'), ('trickle', 'NN'), ('effect', 'NN'), ('said', 'VBD'), ('one', 'CD'), ('white', 'JJ'), ('person', 'NN'), ('hung', 'NN'), ('flat', 'JJ'), ('hanging', 'VBG'), ('start', 'NN'), ('trickle', 'NN'), ('effect', 'NN'), ('continued', 'VBD'), ('black', 'JJ'), ('people', 'NNS'), ('good', 'JJ'), ('starting', 'VBG'), ('trends', 'NNS'), ('said', 'VBD'), ('get', 'VBP'), ('upper', 'JJ'), ('hand', 'NN'), ('another', 'DT'), ('black', 'JJ'), ('man', 'NN'), ('spoke', 'VBD'), ('saying', 'VBG'), ('needed', 'VBN'), ('kill', 'NN'), ('cops', 'NNS'), ('killing', 'VBG'), ('us', 'PRP'), ('first', 'JJ'), ('black', 'JJ'), ('male', 'NN'), ('said', 'VBD'), ('best', 'JJS'), ('method', 'NN'), ('right', 'JJ'), ('breitbart', 'NN'), ('texas', 'VBZ'), ('previously', 'RB'), ('reported', 'VBN'), ('sunshine', 'JJ'), ('upset', 'JJ'), ('racist', 'NN'), ('white', 'JJ'), ('people', 'NNS'), ('infiltrated', 'VBN'), ('disrupted', 'VBD'), ('one', 'CD'), ('conference', 'NN'), ('calls', 'VBZ'), ('subsequently', 'RB'), ('released', 'VBN'), ('phone', 'NN'), ('number', 'NN'), ('one', 'CD'), ('infiltrators', 'NNS'), ('veteran', 'VBD'), ('immediately', 'RB'), ('started', 'VBN'), ('receiving', 'VBG'), ('threatening', 'VBG'), ('calls', 'VBZ'), ('one', 'CD'), ('f', 'NN'), ('yoflag', 'CC'), ('movement', 'NN'), ('supporters', 'NNS'), ('allegedly', 'RB'), ('told', 'VBD'), ('veteran', 'NN'), ('infiltrated', 'VBD'), ('publicly', 'RB'), ('posted', 'VBN'), ('conference', 'NN'), ('call', 'NN'), ('going', 'VBG'), ('rape', 'NN'), ('gut', 'NN'), ('pregnant', 'JJ'), ('wife', 'NN'), ('f', 'VBD'), ('ing', 'VBG'), ('piece', 'NN'), ('sh', 'NN'), ('unborn', 'JJ'), ('creature', 'NN'), ('hung', 'NN'), ('tree', 'VBP'), ('breitbart', 'NN'), ('texas', 'NN'), ('previously', 'RB'), ('encountered', 'VBD'), ('sunshine', 'JJ'), ('sandra', 'NN'), ('bland', 'NN'), ('protest', 'NN'), ('waller', 'NN'), ('county', 'NN'), ('jail', 'NN'), ('texas', 'NN'), ('said', 'VBD'), ('white', 'JJ'), ('people', 'NNS'), ('killed', 'VBN'), ('told', 'JJ'), ('journalists', 'NNS'), ('photographers', 'NNS'), ('see', 'VBP'), ('nappy', 'JJ'), ('ass', 'NN'), ('hair', 'NN'), ('head', 'NN'), ('means', 'VBZ'), ('one', 'CD'), ('militant', 'NN'), ('negroes', 'NNS'), ('said', 'VBD'), ('protest', 'JJS'), ('redneck', 'NN'), ('mother', 'NN'), ('f', 'JJ'), ('kers', 'NNS'), ('murdered', 'VBD'), ('sandra', 'JJ'), ('bland', 'NN'), ('nappy', 'JJ'), ('hair', 'NN'), ('like', 'IN'), ('fyf911', 'JJ'), ('black', 'JJ'), ('radicals', 'NNS'), ('say', 'VBP'), ('holding', 'VBG'), ('imperial', 'JJ'), ('powers', 'NNS'), ('actually', 'RB'), ('responsible', 'JJ'), ('terrorist', 'JJ'), ('attacks', 'NNS'), ('september', 'VBP'), ('11th', 'CD'), ('accountable', 'JJ'), ('day', 'NN'), ('reported', 'VBD'), ('breitbart', 'RB'), ('texas', 'JJ'), ('several', 'JJ'), ('websites', 'NNS'), ('twitter', 'VBP'), ('handles', 'NNS'), ('movement', 'NN'), ('palmetto', 'NN'), ('star', 'NN'), ('describes', 'VBZ'), ('one', 'CD'), ('head', 'NN'), ('organizers', 'NNS'), ('said', 'VBD'), ('youtube', 'JJ'), ('video', 'NN'), ('supporters', 'NNS'), ('burning', 'VBG'), ('symbols', 'JJ'), ('illusion', 'NN'), ('superiority', 'NN'), ('false', 'JJ'), ('white', 'JJ'), ('supremacy', 'NN'), ('like', 'IN'), ('american', 'JJ'), ('flag', 'NN'), ('british', 'JJ'), ('flag', 'NN'), ('police', 'NN'), ('uniforms', 'NNS'), ('ku', 'VBP'), ('klux', 'NN'), ('klan', 'NN'), ('hoods', 'NNS'), ('sierra', 'VBP'), ('mcgrone', 'CD'), ('nocturnus', 'NN'), ('libertus', 'NN'), ('posted', 'VBD'), ('help', 'NN'), ('young', 'JJ'), ('afrikan', 'JJ'), ('clean', 'JJ'), ('rag', 'NN'), ('oppression', 'NN'), ('posted', 'VBD'), ('two', 'CD'), ('photos', 'NNS'), ('one', 'CD'), ('appears', 'VBZ'), ('photo', 'JJ'), ('black', 'JJ'), ('man', 'NN'), ('wiping', 'VBG'), ('naked', 'JJ'), ('butts', 'JJ'), ('american', 'JJ'), ('flag', 'NN'), ('entire', 'JJ'), ('story', 'NN'), ('breitbart', 'NN'), ('news', 'NN')]\n",
      "502\n",
      "72134\n"
     ]
    }
   ],
   "source": [
    "print(pos_merged[0])\n",
    "print(len(pos_merged[0]))\n",
    "print(len(pos_merged))"
   ]
  },
  {
   "cell_type": "code",
   "execution_count": 35,
   "metadata": {},
   "outputs": [
    {
     "name": "stdout",
     "output_type": "stream",
     "text": [
      "72134\n",
      "72134\n",
      "72134\n",
      "72134\n"
     ]
    }
   ],
   "source": [
    "# count number of adverbs \n",
    "# CV \n",
    "adverbs  = ['RB','RBR','RBS','WRB']\n",
    "nouns = [\"NN\",\"NNS\"]\n",
    "proper_nouns = [\"NNP\",\"NNPS\"]\n",
    "adjective = [\"JJ\",\"JJR\",\"JJS\"]\n",
    "\n",
    "def count_word_pos(doc, word_type):\n",
    "    count = 0\n",
    "    for word in doc:\n",
    "        if word[1] in word_type:\n",
    "            count+=1 \n",
    "    return count\n",
    "            \n",
    "adverb_raw_count = [count_word_pos(doc,adverbs) for doc in pos_merged]\n",
    "nouns_raw_count = [count_word_pos(doc,nouns) for doc in pos_merged]\n",
    "proper_nouns_raw_count = [count_word_pos(doc,proper_nouns) for doc in pos_merged]\n",
    "adjective_raw_count = [count_word_pos(doc,adjective) for doc in pos_merged]\n",
    "print(len(adverb_raw_count))\n",
    "print(len(nouns_raw_count))\n",
    "print(len(proper_nouns_raw_count))\n",
    "print(len(adjective_raw_count))"
   ]
  },
  {
   "cell_type": "code",
   "execution_count": 42,
   "metadata": {},
   "outputs": [
    {
     "name": "stdout",
     "output_type": "stream",
     "text": [
      "18\n",
      "Index(['Unnamed: 0', 'title', 'text', 'label', 'Combined'], dtype='object')\n"
     ]
    }
   ],
   "source": [
    "print(adverb_raw_count[0])\n",
    "# create table \n",
    "print(df.columns)\n",
    "df_pos = pd.DataFrame()\n",
    "df_pos[\"label\"] = df[\"label\"]\n",
    "df_pos['adverbs'] = adverb_raw_count\n",
    "df_pos['nouns'] = nouns_raw_count\n",
    "df_pos['proper_nouns'] = proper_nouns_raw_count\n",
    "df_pos['adjective'] = adjective_raw_count\n",
    "\n",
    "# Generate df containing the words per sentence vector\n",
    "df_pos[\"words_per_sentence\"] = words_per_sentence_ls\n",
    "df_pos[\"num_long_sentences\"] = long_sentence_ls\n",
    "df_pos[\"num_short_sentences\"] = short_sentence_ls\n",
    "df_pos[\"num_of_sentences\"] = sentences_len_ls"
   ]
  },
  {
   "cell_type": "code",
   "execution_count": 43,
   "metadata": {},
   "outputs": [
    {
     "name": "stdout",
     "output_type": "stream",
     "text": [
      "(72134, 9)\n",
      "Index(['label', 'adverbs', 'nouns', 'proper_nouns', 'adjective',\n",
      "       'words_per_sentence', 'num_long_sentences', 'num_short_sentences',\n",
      "       'num_of_sentences'],\n",
      "      dtype='object')\n"
     ]
    }
   ],
   "source": [
    "print(df_pos.shape)\n",
    "print(df_pos.columns)\n",
    "df_pos.to_csv(\"./data/content_features_document.csv\")\n",
    "df_pos.to_pickle(\"./data/content_features_document\")"
   ]
  }
 ],
 "metadata": {
  "kernelspec": {
   "display_name": "ai-course",
   "language": "python",
   "name": "python3"
  },
  "language_info": {
   "codemirror_mode": {
    "name": "ipython",
    "version": 3
   },
   "file_extension": ".py",
   "mimetype": "text/x-python",
   "name": "python",
   "nbconvert_exporter": "python",
   "pygments_lexer": "ipython3",
   "version": "3.10.12"
  }
 },
 "nbformat": 4,
 "nbformat_minor": 2
}
