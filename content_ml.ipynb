{
 "cells": [
  {
   "cell_type": "code",
   "execution_count": 1,
   "metadata": {},
   "outputs": [],
   "source": [
    "from sklearn.naive_bayes import GaussianNB\n",
    "from sklearn.svm import SVC\n",
    "from sklearn.neighbors import KNeighborsClassifier\n",
    "from sklearn.model_selection import train_test_split\n",
    "from sklearn.pipeline import make_pipeline\n",
    "from sklearn.preprocessing import StandardScaler\n",
    "import pickle"
   ]
  },
  {
   "cell_type": "code",
   "execution_count": 2,
   "metadata": {},
   "outputs": [
    {
     "name": "stdout",
     "output_type": "stream",
     "text": [
      "(72134, 11)\n",
      "(72122, 11)\n"
     ]
    },
    {
     "data": {
      "text/html": [
       "<div>\n",
       "<style scoped>\n",
       "    .dataframe tbody tr th:only-of-type {\n",
       "        vertical-align: middle;\n",
       "    }\n",
       "\n",
       "    .dataframe tbody tr th {\n",
       "        vertical-align: top;\n",
       "    }\n",
       "\n",
       "    .dataframe thead th {\n",
       "        text-align: right;\n",
       "    }\n",
       "</style>\n",
       "<table border=\"1\" class=\"dataframe\">\n",
       "  <thead>\n",
       "    <tr style=\"text-align: right;\">\n",
       "      <th></th>\n",
       "      <th>label</th>\n",
       "      <th>verbs_third_person</th>\n",
       "      <th>verbs_others</th>\n",
       "      <th>words_per_sentence_variance</th>\n",
       "      <th>words_per_sentence_median</th>\n",
       "      <th>num_of_sentences</th>\n",
       "      <th>adverbs_rate</th>\n",
       "      <th>nouns_rate</th>\n",
       "      <th>adjectives_rate</th>\n",
       "      <th>verbs_third_person_rate</th>\n",
       "      <th>verbs_others_rate</th>\n",
       "    </tr>\n",
       "  </thead>\n",
       "  <tbody>\n",
       "    <tr>\n",
       "      <th>0</th>\n",
       "      <td>1</td>\n",
       "      <td>85</td>\n",
       "      <td>38</td>\n",
       "      <td>77.948870</td>\n",
       "      <td>13.0</td>\n",
       "      <td>60</td>\n",
       "      <td>0.300000</td>\n",
       "      <td>3.633333</td>\n",
       "      <td>1.666667</td>\n",
       "      <td>1.416667</td>\n",
       "      <td>0.633333</td>\n",
       "    </tr>\n",
       "    <tr>\n",
       "      <th>1</th>\n",
       "      <td>1</td>\n",
       "      <td>0</td>\n",
       "      <td>1</td>\n",
       "      <td>24.500000</td>\n",
       "      <td>4.5</td>\n",
       "      <td>2</td>\n",
       "      <td>0.500000</td>\n",
       "      <td>1.000000</td>\n",
       "      <td>0.000000</td>\n",
       "      <td>0.000000</td>\n",
       "      <td>0.500000</td>\n",
       "    </tr>\n",
       "    <tr>\n",
       "      <th>2</th>\n",
       "      <td>1</td>\n",
       "      <td>3</td>\n",
       "      <td>4</td>\n",
       "      <td>124.333333</td>\n",
       "      <td>13.5</td>\n",
       "      <td>4</td>\n",
       "      <td>0.250000</td>\n",
       "      <td>4.750000</td>\n",
       "      <td>2.000000</td>\n",
       "      <td>0.750000</td>\n",
       "      <td>1.000000</td>\n",
       "    </tr>\n",
       "    <tr>\n",
       "      <th>3</th>\n",
       "      <td>0</td>\n",
       "      <td>137</td>\n",
       "      <td>35</td>\n",
       "      <td>213.760973</td>\n",
       "      <td>19.0</td>\n",
       "      <td>62</td>\n",
       "      <td>0.451613</td>\n",
       "      <td>6.080645</td>\n",
       "      <td>2.403226</td>\n",
       "      <td>2.209677</td>\n",
       "      <td>0.564516</td>\n",
       "    </tr>\n",
       "    <tr>\n",
       "      <th>4</th>\n",
       "      <td>1</td>\n",
       "      <td>27</td>\n",
       "      <td>4</td>\n",
       "      <td>341.935897</td>\n",
       "      <td>25.0</td>\n",
       "      <td>13</td>\n",
       "      <td>0.384615</td>\n",
       "      <td>7.846154</td>\n",
       "      <td>3.538462</td>\n",
       "      <td>2.076923</td>\n",
       "      <td>0.307692</td>\n",
       "    </tr>\n",
       "  </tbody>\n",
       "</table>\n",
       "</div>"
      ],
      "text/plain": [
       "   label  verbs_third_person  verbs_others  words_per_sentence_variance  \\\n",
       "0      1                  85            38                    77.948870   \n",
       "1      1                   0             1                    24.500000   \n",
       "2      1                   3             4                   124.333333   \n",
       "3      0                 137            35                   213.760973   \n",
       "4      1                  27             4                   341.935897   \n",
       "\n",
       "   words_per_sentence_median  num_of_sentences  adverbs_rate  nouns_rate  \\\n",
       "0                       13.0                60      0.300000    3.633333   \n",
       "1                        4.5                 2      0.500000    1.000000   \n",
       "2                       13.5                 4      0.250000    4.750000   \n",
       "3                       19.0                62      0.451613    6.080645   \n",
       "4                       25.0                13      0.384615    7.846154   \n",
       "\n",
       "   adjectives_rate  verbs_third_person_rate  verbs_others_rate  \n",
       "0         1.666667                 1.416667           0.633333  \n",
       "1         0.000000                 0.000000           0.500000  \n",
       "2         2.000000                 0.750000           1.000000  \n",
       "3         2.403226                 2.209677           0.564516  \n",
       "4         3.538462                 2.076923           0.307692  "
      ]
     },
     "execution_count": 2,
     "metadata": {},
     "output_type": "execute_result"
    }
   ],
   "source": [
    "# import data\n",
    "with open(\"./data/content_features_cv.pkl\",\"rb\") as f:\n",
    "    content_features_df = pickle.load(f)\n",
    "    \n",
    "content_features_df = content_features_df.drop(\"automatic_readability\", axis=1) # due to NaN\n",
    "content_features_df = content_features_df.drop(\"proper_nouns\", axis=1) # due to 0\n",
    "content_features_df = content_features_df.drop(\"conjunctions\", axis=1) # due to 0\n",
    "content_features_df = content_features_df.drop(\"proper_nouns_rate\", axis=1) # due to 0\n",
    "content_features_df = content_features_df.drop(\"conjunctions_rate\", axis=1) # due to 0\n",
    "\n",
    "\n",
    "# drop values with 0 words per sentence\n",
    "print(content_features_df.shape)\n",
    "content_features_df = content_features_df[content_features_df[\"words_per_sentence_median\"] != 0]\n",
    "print(content_features_df.shape)\n",
    "\n",
    "content_features_df.head()\n"
   ]
  },
  {
   "cell_type": "code",
   "execution_count": 3,
   "metadata": {},
   "outputs": [
    {
     "name": "stdout",
     "output_type": "stream",
     "text": [
      "(57697, 11)\n",
      "(14425, 11)\n"
     ]
    }
   ],
   "source": [
    "train_dataset, test_dataset = train_test_split(content_features_df,test_size=0.2,train_size=0.8)\n",
    "print(train_dataset.shape)\n",
    "print(test_dataset.shape)\n",
    "\n",
    "\n",
    "train_dataset_x = train_dataset.drop(\"label\",axis=1).values\n",
    "train_dataset_y = train_dataset[\"label\"].values\n",
    "\n",
    "test_dataset_x = test_dataset.drop(\"label\",axis=1).values\n",
    "test_dataset_y = test_dataset[\"label\"].values\n"
   ]
  },
  {
   "cell_type": "code",
   "execution_count": 37,
   "metadata": {},
   "outputs": [
    {
     "name": "stdout",
     "output_type": "stream",
     "text": [
      "0.7302599653379549\n"
     ]
    }
   ],
   "source": [
    "svc_pipeline = make_pipeline(StandardScaler(), SVC(gamma=\"auto\",kernel=\"rbf\"))\n",
    "svc_pipeline.fit(train_dataset_x,train_dataset_y)\n",
    "score = svc_pipeline.score(test_dataset_x, test_dataset_y)\n",
    "print(score)"
   ]
  },
  {
   "cell_type": "code",
   "execution_count": 38,
   "metadata": {},
   "outputs": [
    {
     "name": "stdout",
     "output_type": "stream",
     "text": [
      "0.5566724436741768\n"
     ]
    }
   ],
   "source": [
    "svc_pipeline = make_pipeline(StandardScaler(), SVC(gamma=\"auto\",kernel=\"sigmoid\"))\n",
    "svc_pipeline.fit(train_dataset_x,train_dataset_y)\n",
    "score = svc_pipeline.score(test_dataset_x, test_dataset_y)\n",
    "print(score)"
   ]
  },
  {
   "cell_type": "code",
   "execution_count": 39,
   "metadata": {},
   "outputs": [
    {
     "name": "stdout",
     "output_type": "stream",
     "text": [
      "0.7020450606585789\n"
     ]
    }
   ],
   "source": [
    "svc_pipeline = make_pipeline(StandardScaler(), SVC(gamma=\"auto\",kernel=\"poly\"))\n",
    "svc_pipeline.fit(train_dataset_x,train_dataset_y)\n",
    "score = svc_pipeline.score(test_dataset_x, test_dataset_y)\n",
    "print(score)"
   ]
  },
  {
   "cell_type": "code",
   "execution_count": 4,
   "metadata": {},
   "outputs": [
    {
     "name": "stdout",
     "output_type": "stream",
     "text": [
      "0.7350433275563258\n"
     ]
    }
   ],
   "source": [
    "svc_pipeline = make_pipeline(StandardScaler(), SVC(gamma=\"auto\",kernel=\"rbf\",C=1.1))\n",
    "svc_pipeline.fit(train_dataset_x,train_dataset_y)\n",
    "score = svc_pipeline.score(test_dataset_x, test_dataset_y)\n",
    "print(score)"
   ]
  },
  {
   "cell_type": "code",
   "execution_count": 6,
   "metadata": {},
   "outputs": [
    {
     "name": "stdout",
     "output_type": "stream",
     "text": [
      "0.7353899480069324\n"
     ]
    }
   ],
   "source": [
    "svc_pipeline = make_pipeline(StandardScaler(), SVC(gamma=\"auto\",kernel=\"rbf\",C=1.5))\n",
    "svc_pipeline.fit(train_dataset_x,train_dataset_y)\n",
    "score = svc_pipeline.score(test_dataset_x, test_dataset_y)\n",
    "print(score)"
   ]
  },
  {
   "cell_type": "code",
   "execution_count": 5,
   "metadata": {},
   "outputs": [
    {
     "name": "stdout",
     "output_type": "stream",
     "text": [
      "0.7324090121317157\n"
     ]
    }
   ],
   "source": [
    "svc_pipeline = make_pipeline(StandardScaler(), SVC(gamma=\"auto\",kernel=\"rbf\",C=0.5))\n",
    "svc_pipeline.fit(train_dataset_x,train_dataset_y)\n",
    "score = svc_pipeline.score(test_dataset_x, test_dataset_y)\n",
    "print(score)"
   ]
  },
  {
   "cell_type": "code",
   "execution_count": 8,
   "metadata": {},
   "outputs": [
    {
     "name": "stdout",
     "output_type": "stream",
     "text": [
      "0.7247833622183709\n"
     ]
    }
   ],
   "source": [
    "svc_pipeline = make_pipeline(StandardScaler(), SVC(gamma=\"auto\",kernel=\"rbf\",C=0.1))\n",
    "svc_pipeline.fit(train_dataset_x,train_dataset_y)\n",
    "score = svc_pipeline.score(test_dataset_x, test_dataset_y)\n",
    "print(score)"
   ]
  },
  {
   "cell_type": "code",
   "execution_count": 40,
   "metadata": {},
   "outputs": [
    {
     "name": "stdout",
     "output_type": "stream",
     "text": [
      "0.5417677642980936\n"
     ]
    }
   ],
   "source": [
    "nb_pipeline = make_pipeline(StandardScaler(), GaussianNB())\n",
    "nb_pipeline.fit(train_dataset_x,train_dataset_y)\n",
    "score = nb_pipeline.score(test_dataset_x, test_dataset_y)\n",
    "print(score)"
   ]
  },
  {
   "cell_type": "code",
   "execution_count": 43,
   "metadata": {},
   "outputs": [
    {
     "name": "stdout",
     "output_type": "stream",
     "text": [
      "0.7008665511265164\n"
     ]
    }
   ],
   "source": [
    "knn_pipeline = make_pipeline(StandardScaler(), KNeighborsClassifier())\n",
    "knn_pipeline.fit(train_dataset_x,train_dataset_y)\n",
    "score = knn_pipeline.score(test_dataset_x, test_dataset_y)\n",
    "print(score)"
   ]
  },
  {
   "cell_type": "code",
   "execution_count": 48,
   "metadata": {},
   "outputs": [
    {
     "name": "stdout",
     "output_type": "stream",
     "text": [
      "0.7773310225303293\n"
     ]
    }
   ],
   "source": [
    "knn_pipeline = make_pipeline(StandardScaler(), KNeighborsClassifier(1000,weights='distance'))\n",
    "knn_pipeline.fit(train_dataset_x,train_dataset_y)\n",
    "score = knn_pipeline.score(test_dataset_x, test_dataset_y)\n",
    "print(score)"
   ]
  },
  {
   "cell_type": "code",
   "execution_count": 51,
   "metadata": {},
   "outputs": [
    {
     "name": "stdout",
     "output_type": "stream",
     "text": [
      "0.7826689774696707\n"
     ]
    }
   ],
   "source": [
    "knn_pipeline = make_pipeline(StandardScaler(), KNeighborsClassifier(2000, weights='distance',metric=\"l1\"))\n",
    "knn_pipeline.fit(train_dataset_x,train_dataset_y)\n",
    "score = knn_pipeline.score(test_dataset_x, test_dataset_y)\n",
    "print(score)"
   ]
  },
  {
   "cell_type": "code",
   "execution_count": 9,
   "metadata": {},
   "outputs": [
    {
     "name": "stdout",
     "output_type": "stream",
     "text": [
      "0.785580589254766\n"
     ]
    }
   ],
   "source": [
    "knn_pipeline = make_pipeline(StandardScaler(), KNeighborsClassifier(3000, weights='distance',metric=\"l1\"))\n",
    "knn_pipeline.fit(train_dataset_x,train_dataset_y)\n",
    "score = knn_pipeline.score(test_dataset_x, test_dataset_y)\n",
    "print(score)"
   ]
  },
  {
   "cell_type": "code",
   "execution_count": 52,
   "metadata": {},
   "outputs": [
    {
     "name": "stdout",
     "output_type": "stream",
     "text": [
      "0.7773310225303293\n"
     ]
    }
   ],
   "source": [
    "knn_pipeline = make_pipeline(StandardScaler(), KNeighborsClassifier(1000, weights='distance',metric=\"l2\"))\n",
    "knn_pipeline.fit(train_dataset_x,train_dataset_y)\n",
    "score = knn_pipeline.score(test_dataset_x, test_dataset_y)\n",
    "print(score)"
   ]
  },
  {
   "cell_type": "code",
   "execution_count": 10,
   "metadata": {},
   "outputs": [
    {
     "name": "stdout",
     "output_type": "stream",
     "text": [
      "0.7830155979202773\n"
     ]
    }
   ],
   "source": [
    "knn_pipeline = make_pipeline(StandardScaler(), KNeighborsClassifier(2000, weights='distance',metric=\"l2\")) # best\n",
    "knn_pipeline.fit(train_dataset_x,train_dataset_y)\n",
    "score = knn_pipeline.score(test_dataset_x, test_dataset_y)\n",
    "print(score)"
   ]
  },
  {
   "cell_type": "code",
   "execution_count": 53,
   "metadata": {},
   "outputs": [
    {
     "name": "stdout",
     "output_type": "stream",
     "text": [
      "0.7719237435008666\n"
     ]
    }
   ],
   "source": [
    "knn_pipeline = make_pipeline(StandardScaler(), KNeighborsClassifier(1000, weights='distance',metric=\"cosine\"))\n",
    "knn_pipeline.fit(train_dataset_x,train_dataset_y)\n",
    "score = knn_pipeline.score(test_dataset_x, test_dataset_y)\n",
    "print(score)"
   ]
  },
  {
   "cell_type": "code",
   "execution_count": null,
   "metadata": {},
   "outputs": [],
   "source": []
  }
 ],
 "metadata": {
  "kernelspec": {
   "display_name": "ai-course",
   "language": "python",
   "name": "python3"
  },
  "language_info": {
   "codemirror_mode": {
    "name": "ipython",
    "version": 3
   },
   "file_extension": ".py",
   "mimetype": "text/x-python",
   "name": "python",
   "nbconvert_exporter": "python",
   "pygments_lexer": "ipython3",
   "version": "3.10.12"
  }
 },
 "nbformat": 4,
 "nbformat_minor": 2
}
