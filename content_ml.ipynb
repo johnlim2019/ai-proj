{
 "cells": [
  {
   "cell_type": "code",
   "execution_count": 1,
   "metadata": {},
   "outputs": [],
   "source": [
    "from sklearn.naive_bayes import GaussianNB\n",
    "from sklearn.svm import SVC\n",
    "from sklearn.neighbors import KNeighborsClassifier\n",
    "from sklearn.model_selection import train_test_split\n",
    "from sklearn.pipeline import make_pipeline\n",
    "from sklearn.preprocessing import StandardScaler\n",
    "import pickle\n",
    "import joblib"
   ]
  },
  {
   "cell_type": "code",
   "execution_count": 2,
   "metadata": {},
   "outputs": [
    {
     "name": "stdout",
     "output_type": "stream",
     "text": [
      "(72134, 10)\n",
      "(72122, 10)\n"
     ]
    },
    {
     "data": {
      "text/html": [
       "<div>\n",
       "<style scoped>\n",
       "    .dataframe tbody tr th:only-of-type {\n",
       "        vertical-align: middle;\n",
       "    }\n",
       "\n",
       "    .dataframe tbody tr th {\n",
       "        vertical-align: top;\n",
       "    }\n",
       "\n",
       "    .dataframe thead th {\n",
       "        text-align: right;\n",
       "    }\n",
       "</style>\n",
       "<table border=\"1\" class=\"dataframe\">\n",
       "  <thead>\n",
       "    <tr style=\"text-align: right;\">\n",
       "      <th></th>\n",
       "      <th>label</th>\n",
       "      <th>verbs_third_person</th>\n",
       "      <th>verbs_others</th>\n",
       "      <th>words_per_sentence_median</th>\n",
       "      <th>num_of_sentences</th>\n",
       "      <th>adverbs_rate</th>\n",
       "      <th>nouns_rate</th>\n",
       "      <th>adjectives_rate</th>\n",
       "      <th>verbs_third_person_rate</th>\n",
       "      <th>verbs_others_rate</th>\n",
       "    </tr>\n",
       "  </thead>\n",
       "  <tbody>\n",
       "    <tr>\n",
       "      <th>0</th>\n",
       "      <td>1</td>\n",
       "      <td>85</td>\n",
       "      <td>38</td>\n",
       "      <td>13.0</td>\n",
       "      <td>60</td>\n",
       "      <td>0.300000</td>\n",
       "      <td>3.633333</td>\n",
       "      <td>1.666667</td>\n",
       "      <td>1.416667</td>\n",
       "      <td>0.633333</td>\n",
       "    </tr>\n",
       "    <tr>\n",
       "      <th>1</th>\n",
       "      <td>1</td>\n",
       "      <td>0</td>\n",
       "      <td>1</td>\n",
       "      <td>4.5</td>\n",
       "      <td>2</td>\n",
       "      <td>0.500000</td>\n",
       "      <td>1.000000</td>\n",
       "      <td>0.000000</td>\n",
       "      <td>0.000000</td>\n",
       "      <td>0.500000</td>\n",
       "    </tr>\n",
       "    <tr>\n",
       "      <th>2</th>\n",
       "      <td>1</td>\n",
       "      <td>3</td>\n",
       "      <td>4</td>\n",
       "      <td>13.5</td>\n",
       "      <td>4</td>\n",
       "      <td>0.250000</td>\n",
       "      <td>4.750000</td>\n",
       "      <td>2.000000</td>\n",
       "      <td>0.750000</td>\n",
       "      <td>1.000000</td>\n",
       "    </tr>\n",
       "    <tr>\n",
       "      <th>3</th>\n",
       "      <td>0</td>\n",
       "      <td>137</td>\n",
       "      <td>35</td>\n",
       "      <td>19.0</td>\n",
       "      <td>62</td>\n",
       "      <td>0.451613</td>\n",
       "      <td>6.080645</td>\n",
       "      <td>2.403226</td>\n",
       "      <td>2.209677</td>\n",
       "      <td>0.564516</td>\n",
       "    </tr>\n",
       "    <tr>\n",
       "      <th>4</th>\n",
       "      <td>1</td>\n",
       "      <td>27</td>\n",
       "      <td>4</td>\n",
       "      <td>25.0</td>\n",
       "      <td>13</td>\n",
       "      <td>0.384615</td>\n",
       "      <td>7.846154</td>\n",
       "      <td>3.538462</td>\n",
       "      <td>2.076923</td>\n",
       "      <td>0.307692</td>\n",
       "    </tr>\n",
       "  </tbody>\n",
       "</table>\n",
       "</div>"
      ],
      "text/plain": [
       "   label  verbs_third_person  verbs_others  words_per_sentence_median  \\\n",
       "0      1                  85            38                       13.0   \n",
       "1      1                   0             1                        4.5   \n",
       "2      1                   3             4                       13.5   \n",
       "3      0                 137            35                       19.0   \n",
       "4      1                  27             4                       25.0   \n",
       "\n",
       "   num_of_sentences  adverbs_rate  nouns_rate  adjectives_rate  \\\n",
       "0                60      0.300000    3.633333         1.666667   \n",
       "1                 2      0.500000    1.000000         0.000000   \n",
       "2                 4      0.250000    4.750000         2.000000   \n",
       "3                62      0.451613    6.080645         2.403226   \n",
       "4                13      0.384615    7.846154         3.538462   \n",
       "\n",
       "   verbs_third_person_rate  verbs_others_rate  \n",
       "0                 1.416667           0.633333  \n",
       "1                 0.000000           0.500000  \n",
       "2                 0.750000           1.000000  \n",
       "3                 2.209677           0.564516  \n",
       "4                 2.076923           0.307692  "
      ]
     },
     "execution_count": 2,
     "metadata": {},
     "output_type": "execute_result"
    }
   ],
   "source": [
    "# import data\n",
    "with open(\"./data/content_features_cv.pkl\",\"rb\") as f:\n",
    "    content_features_df = pickle.load(f)\n",
    "    \n",
    "content_features_df = content_features_df.drop(\"smog\", axis=1) # due to NaN\n",
    "content_features_df = content_features_df.drop(\"dale_chall\", axis=1) # due to NaN\n",
    "content_features_df = content_features_df.drop(\"automatic_readability\", axis=1) # due to NaN\n",
    "\n",
    "\n",
    "# drop values with 0 words per sentence\n",
    "print(content_features_df.shape)\n",
    "content_features_df = content_features_df[content_features_df[\"words_per_sentence_median\"] != 0]\n",
    "print(content_features_df.shape)\n",
    "\n",
    "content_features_df.head()\n"
   ]
  },
  {
   "cell_type": "code",
   "execution_count": 3,
   "metadata": {},
   "outputs": [
    {
     "name": "stdout",
     "output_type": "stream",
     "text": [
      "(57697, 10)\n",
      "(14425, 10)\n"
     ]
    }
   ],
   "source": [
    "train_dataset, test_dataset = train_test_split(content_features_df,test_size=0.2,train_size=0.8)\n",
    "print(train_dataset.shape)\n",
    "print(test_dataset.shape)\n",
    "    \n",
    "\n",
    "\n",
    "train_dataset_x = train_dataset.drop(\"label\",axis=1).values\n",
    "train_dataset_y = train_dataset[\"label\"].values\n",
    "\n",
    "test_dataset_x = test_dataset.drop(\"label\",axis=1).values\n",
    "test_dataset_y = test_dataset[\"label\"].values\n",
    "\n",
    "with open(\"./data/knn_train.pkl\",\"wb\") as f:\n",
    "    pickle.dump(train_dataset,f)\n",
    "with open(\"./data/knn_test.pkl\",\"wb\") as f:\n",
    "    pickle.dump(test_dataset,f)"
   ]
  },
  {
   "cell_type": "code",
   "execution_count": 4,
   "metadata": {},
   "outputs": [
    {
     "name": "stdout",
     "output_type": "stream",
     "text": [
      "0.7771923743500867\n"
     ]
    },
    {
     "data": {
      "text/plain": [
       "['./data/knn_pipeline.joblib']"
      ]
     },
     "execution_count": 4,
     "metadata": {},
     "output_type": "execute_result"
    }
   ],
   "source": [
    "# output of best model\n",
    "knn_pipeline = make_pipeline(StandardScaler(), KNeighborsClassifier(1000, weights='distance',metric=\"l2\")) # best\n",
    "knn_pipeline.fit(train_dataset_x,train_dataset_y)\n",
    "score = knn_pipeline.score(test_dataset_x, test_dataset_y)\n",
    "print(score)\n",
    "joblib.dump(knn_pipeline, './data/knn_pipeline.joblib')\n",
    "    "
   ]
  },
  {
   "cell_type": "code",
   "execution_count": 5,
   "metadata": {},
   "outputs": [
    {
     "name": "stdout",
     "output_type": "stream",
     "text": [
      "0.7115424610051994\n"
     ]
    }
   ],
   "source": [
    "svc_pipeline = make_pipeline(StandardScaler(), SVC(gamma=\"auto\",kernel=\"rbf\"))\n",
    "svc_pipeline.fit(train_dataset_x,train_dataset_y)\n",
    "score = svc_pipeline.score(test_dataset_x, test_dataset_y)\n",
    "print(score)"
   ]
  },
  {
   "cell_type": "code",
   "execution_count": 6,
   "metadata": {},
   "outputs": [
    {
     "name": "stdout",
     "output_type": "stream",
     "text": [
      "0.5448180242634315\n"
     ]
    }
   ],
   "source": [
    "svc_pipeline = make_pipeline(StandardScaler(), SVC(gamma=\"auto\",kernel=\"sigmoid\"))\n",
    "svc_pipeline.fit(train_dataset_x,train_dataset_y)\n",
    "score = svc_pipeline.score(test_dataset_x, test_dataset_y)\n",
    "print(score)"
   ]
  },
  {
   "cell_type": "code",
   "execution_count": 7,
   "metadata": {},
   "outputs": [
    {
     "name": "stdout",
     "output_type": "stream",
     "text": [
      "0.6802772963604853\n"
     ]
    }
   ],
   "source": [
    "svc_pipeline = make_pipeline(StandardScaler(), SVC(gamma=\"auto\",kernel=\"poly\"))\n",
    "svc_pipeline.fit(train_dataset_x,train_dataset_y)\n",
    "score = svc_pipeline.score(test_dataset_x, test_dataset_y)\n",
    "print(score)"
   ]
  },
  {
   "cell_type": "code",
   "execution_count": 8,
   "metadata": {},
   "outputs": [
    {
     "name": "stdout",
     "output_type": "stream",
     "text": [
      "0.711473136915078\n"
     ]
    }
   ],
   "source": [
    "svc_pipeline = make_pipeline(StandardScaler(), SVC(gamma=\"auto\",kernel=\"rbf\",C=1.1))\n",
    "svc_pipeline.fit(train_dataset_x,train_dataset_y)\n",
    "score = svc_pipeline.score(test_dataset_x, test_dataset_y)\n",
    "print(score)"
   ]
  },
  {
   "cell_type": "code",
   "execution_count": 9,
   "metadata": {},
   "outputs": [
    {
     "name": "stdout",
     "output_type": "stream",
     "text": [
      "0.7118890814558059\n"
     ]
    }
   ],
   "source": [
    "svc_pipeline = make_pipeline(StandardScaler(), SVC(gamma=\"auto\",kernel=\"rbf\",C=1.5))\n",
    "svc_pipeline.fit(train_dataset_x,train_dataset_y)\n",
    "score = svc_pipeline.score(test_dataset_x, test_dataset_y)\n",
    "print(score)"
   ]
  },
  {
   "cell_type": "code",
   "execution_count": 10,
   "metadata": {},
   "outputs": [
    {
     "name": "stdout",
     "output_type": "stream",
     "text": [
      "0.7100173310225303\n"
     ]
    }
   ],
   "source": [
    "svc_pipeline = make_pipeline(StandardScaler(), SVC(gamma=\"auto\",kernel=\"rbf\",C=0.5))\n",
    "svc_pipeline.fit(train_dataset_x,train_dataset_y)\n",
    "score = svc_pipeline.score(test_dataset_x, test_dataset_y)\n",
    "print(score)"
   ]
  },
  {
   "cell_type": "code",
   "execution_count": 11,
   "metadata": {},
   "outputs": [
    {
     "name": "stdout",
     "output_type": "stream",
     "text": [
      "0.7083535528596188\n"
     ]
    }
   ],
   "source": [
    "svc_pipeline = make_pipeline(StandardScaler(), SVC(gamma=\"auto\",kernel=\"rbf\",C=0.1))\n",
    "svc_pipeline.fit(train_dataset_x,train_dataset_y)\n",
    "score = svc_pipeline.score(test_dataset_x, test_dataset_y)\n",
    "print(score)"
   ]
  },
  {
   "cell_type": "code",
   "execution_count": 12,
   "metadata": {},
   "outputs": [
    {
     "name": "stdout",
     "output_type": "stream",
     "text": [
      "0.5807279029462739\n"
     ]
    }
   ],
   "source": [
    "nb_pipeline = make_pipeline(StandardScaler(), GaussianNB())\n",
    "nb_pipeline.fit(train_dataset_x,train_dataset_y)\n",
    "score = nb_pipeline.score(test_dataset_x, test_dataset_y)\n",
    "print(score)"
   ]
  },
  {
   "cell_type": "code",
   "execution_count": 13,
   "metadata": {},
   "outputs": [
    {
     "name": "stdout",
     "output_type": "stream",
     "text": [
      "0.6955979202772964\n"
     ]
    }
   ],
   "source": [
    "knn_pipeline = make_pipeline(StandardScaler(), KNeighborsClassifier())\n",
    "knn_pipeline.fit(train_dataset_x,train_dataset_y)\n",
    "score = knn_pipeline.score(test_dataset_x, test_dataset_y)\n",
    "print(score)"
   ]
  },
  {
   "cell_type": "code",
   "execution_count": 14,
   "metadata": {},
   "outputs": [
    {
     "name": "stdout",
     "output_type": "stream",
     "text": [
      "0.7771923743500867\n"
     ]
    }
   ],
   "source": [
    "knn_pipeline = make_pipeline(StandardScaler(), KNeighborsClassifier(1000,weights='distance'))\n",
    "knn_pipeline.fit(train_dataset_x,train_dataset_y)\n",
    "score = knn_pipeline.score(test_dataset_x, test_dataset_y)\n",
    "print(score)"
   ]
  },
  {
   "cell_type": "code",
   "execution_count": 15,
   "metadata": {},
   "outputs": [
    {
     "name": "stdout",
     "output_type": "stream",
     "text": [
      "0.7744887348353553\n"
     ]
    }
   ],
   "source": [
    "knn_pipeline = make_pipeline(StandardScaler(), KNeighborsClassifier(2000, weights='distance',metric=\"l1\"))\n",
    "knn_pipeline.fit(train_dataset_x,train_dataset_y)\n",
    "score = knn_pipeline.score(test_dataset_x, test_dataset_y)\n",
    "print(score)"
   ]
  },
  {
   "cell_type": "code",
   "execution_count": 16,
   "metadata": {},
   "outputs": [
    {
     "name": "stdout",
     "output_type": "stream",
     "text": [
      "0.7718544194107453\n"
     ]
    }
   ],
   "source": [
    "knn_pipeline = make_pipeline(StandardScaler(), KNeighborsClassifier(3000, weights='distance',metric=\"l1\"))\n",
    "knn_pipeline.fit(train_dataset_x,train_dataset_y)\n",
    "score = knn_pipeline.score(test_dataset_x, test_dataset_y)\n",
    "print(score)"
   ]
  },
  {
   "cell_type": "code",
   "execution_count": 17,
   "metadata": {},
   "outputs": [
    {
     "name": "stdout",
     "output_type": "stream",
     "text": [
      "0.7771923743500867\n"
     ]
    }
   ],
   "source": [
    "knn_pipeline = make_pipeline(StandardScaler(), KNeighborsClassifier(1000, weights='distance',metric=\"l2\"))\n",
    "knn_pipeline.fit(train_dataset_x,train_dataset_y)\n",
    "score = knn_pipeline.score(test_dataset_x, test_dataset_y)\n",
    "print(score)"
   ]
  },
  {
   "cell_type": "code",
   "execution_count": 18,
   "metadata": {},
   "outputs": [
    {
     "name": "stdout",
     "output_type": "stream",
     "text": [
      "0.7728249566724437\n"
     ]
    }
   ],
   "source": [
    "knn_pipeline = make_pipeline(StandardScaler(), KNeighborsClassifier(2000, weights='distance',metric=\"l2\")) # best\n",
    "knn_pipeline.fit(train_dataset_x,train_dataset_y)\n",
    "score = knn_pipeline.score(test_dataset_x, test_dataset_y)\n",
    "print(score)"
   ]
  },
  {
   "cell_type": "code",
   "execution_count": 19,
   "metadata": {},
   "outputs": [
    {
     "name": "stdout",
     "output_type": "stream",
     "text": [
      "0.7688734835355286\n"
     ]
    }
   ],
   "source": [
    "knn_pipeline = make_pipeline(StandardScaler(), KNeighborsClassifier(1000, weights='distance',metric=\"cosine\"))\n",
    "knn_pipeline.fit(train_dataset_x,train_dataset_y)\n",
    "score = knn_pipeline.score(test_dataset_x, test_dataset_y)\n",
    "print(score)"
   ]
  },
  {
   "cell_type": "code",
   "execution_count": null,
   "metadata": {},
   "outputs": [],
   "source": []
  }
 ],
 "metadata": {
  "kernelspec": {
   "display_name": "ai-course",
   "language": "python",
   "name": "python3"
  },
  "language_info": {
   "codemirror_mode": {
    "name": "ipython",
    "version": 3
   },
   "file_extension": ".py",
   "mimetype": "text/x-python",
   "name": "python",
   "nbconvert_exporter": "python",
   "pygments_lexer": "ipython3",
   "version": "3.10.12"
  }
 },
 "nbformat": 4,
 "nbformat_minor": 2
}
