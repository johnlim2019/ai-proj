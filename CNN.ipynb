{
 "cells": [
  {
   "cell_type": "code",
   "execution_count": 21,
   "metadata": {},
   "outputs": [
    {
     "name": "stdout",
     "output_type": "stream",
     "text": [
      "PyTorch version:\n",
      "2.2.0\n",
      "GPU Detected:\n",
      "True\n"
     ]
    }
   ],
   "source": [
    "import torch\n",
    "import pickle\n",
    "from torch import nn \n",
    "from torch.utils.data import DataLoader\n",
    "print(\"PyTorch version:\")\n",
    "print(torch.__version__)\n",
    "print(\"GPU Detected:\")\n",
    "# print(torch.cuda.is_available())\n",
    "print(torch.backends.mps.is_available())\n",
    "\n",
    "#defining a shortcut function for later:\n",
    "import os\n",
    "# using_GPU = os.path.exists('/opt/bin/nvidia-smi')\n",
    "using_GPU = torch.device(\"mps\")"
   ]
  },
  {
   "cell_type": "code",
   "execution_count": 22,
   "metadata": {},
   "outputs": [],
   "source": [
    "with open(\"./data/train_text\", \"rb\") as f:\n",
    "    train_text = pickle.load(f)\n",
    "with open(\"./data/test_text\", \"rb\") as f:\n",
    "    test_text = pickle.load(f)  \n",
    "\n",
    "train_text_data = DataLoader(train_text, batch_size=50, shuffle=True)\n",
    "test_text_data = DataLoader(test_text, batch_size=50, shuffle=True)\n"
   ]
  },
  {
   "cell_type": "code",
   "execution_count": 19,
   "metadata": {},
   "outputs": [],
   "source": [
    "class TextClassificationModel(nn.Module):\n",
    "    def __init__(self, embed_dim, num_class):\n",
    "        super(TextClassificationModel, self).__init__()"
   ]
  },
  {
   "cell_type": "code",
   "execution_count": null,
   "metadata": {},
   "outputs": [],
   "source": []
  }
 ],
 "metadata": {
  "kernelspec": {
   "display_name": "ai-course",
   "language": "python",
   "name": "python3"
  },
  "language_info": {
   "codemirror_mode": {
    "name": "ipython",
    "version": 3
   },
   "file_extension": ".py",
   "mimetype": "text/x-python",
   "name": "python",
   "nbconvert_exporter": "python",
   "pygments_lexer": "ipython3",
   "version": "3.10.12"
  }
 },
 "nbformat": 4,
 "nbformat_minor": 2
}
