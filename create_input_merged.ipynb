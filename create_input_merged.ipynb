{
 "cells": [
  {
   "cell_type": "code",
   "execution_count": 9,
   "metadata": {},
   "outputs": [],
   "source": [
    "import pandas as pd\n",
    "from gensim.models import KeyedVectors\n",
    "import torch\n",
    "from torch.nn.utils.rnn import pad_sequence\n",
    "from torch.utils.data import TensorDataset, random_split\n",
    "import pickle\n",
    "import matplotlib.pyplot as plt"
   ]
  },
  {
   "cell_type": "code",
   "execution_count": 10,
   "metadata": {},
   "outputs": [],
   "source": [
    "df_text = pd.read_pickle('./data/clean_title_text.pkl')\n",
    "merged_keyed_vectors = KeyedVectors.load_word2vec_format(\"./data/model_text\")\n",
    "\n"
   ]
  },
  {
   "cell_type": "code",
   "execution_count": 16,
   "metadata": {},
   "outputs": [
    {
     "name": "stdout",
     "output_type": "stream",
     "text": [
      "1\n",
      "243.0\n",
      "12434\n",
      "812.0\n"
     ]
    },
    {
     "data": {
      "text/plain": [
       "(array([1.5711e+04, 2.1598e+04, 1.4906e+04, 7.5530e+03, 4.6220e+03,\n",
       "        3.0580e+03, 1.7680e+03, 9.1700e+02, 4.6800e+02, 3.4300e+02,\n",
       "        1.9400e+02, 1.9500e+02, 1.1600e+02, 8.5000e+01, 8.3000e+01,\n",
       "        7.2000e+01, 4.7000e+01, 4.9000e+01, 4.6000e+01, 4.6000e+01,\n",
       "        2.9000e+01, 2.3000e+01, 1.6000e+01, 2.1000e+01, 2.7000e+01,\n",
       "        1.3000e+01, 1.5000e+01, 5.0000e+00, 7.0000e+00, 1.1000e+01,\n",
       "        7.0000e+00, 5.0000e+00, 1.0000e+00, 1.0000e+01, 3.0000e+00,\n",
       "        6.0000e+00, 7.0000e+00, 3.0000e+00, 4.0000e+00, 4.0000e+00,\n",
       "        3.0000e+00, 3.0000e+00, 1.0000e+00, 2.0000e+00, 0.0000e+00,\n",
       "        3.0000e+00, 0.0000e+00, 1.0000e+00, 0.0000e+00, 1.0000e+00,\n",
       "        0.0000e+00, 0.0000e+00, 0.0000e+00, 1.0000e+00, 1.0000e+00,\n",
       "        0.0000e+00, 0.0000e+00, 0.0000e+00, 0.0000e+00, 0.0000e+00,\n",
       "        0.0000e+00, 1.0000e+00, 0.0000e+00, 0.0000e+00, 0.0000e+00,\n",
       "        2.0000e+00, 0.0000e+00, 0.0000e+00, 0.0000e+00, 0.0000e+00,\n",
       "        0.0000e+00, 0.0000e+00, 0.0000e+00, 3.0000e+00, 1.0000e+00,\n",
       "        0.0000e+00, 0.0000e+00, 0.0000e+00, 0.0000e+00, 0.0000e+00,\n",
       "        0.0000e+00, 0.0000e+00, 0.0000e+00, 2.0000e+00, 0.0000e+00,\n",
       "        0.0000e+00, 1.0000e+00, 0.0000e+00, 0.0000e+00, 0.0000e+00,\n",
       "        0.0000e+00, 0.0000e+00, 0.0000e+00, 0.0000e+00, 0.0000e+00,\n",
       "        0.0000e+00, 0.0000e+00, 0.0000e+00, 0.0000e+00, 1.0000e+00]),\n",
       " array([1.000000e+00, 1.253300e+02, 2.496600e+02, 3.739900e+02,\n",
       "        4.983200e+02, 6.226500e+02, 7.469800e+02, 8.713100e+02,\n",
       "        9.956400e+02, 1.119970e+03, 1.244300e+03, 1.368630e+03,\n",
       "        1.492960e+03, 1.617290e+03, 1.741620e+03, 1.865950e+03,\n",
       "        1.990280e+03, 2.114610e+03, 2.238940e+03, 2.363270e+03,\n",
       "        2.487600e+03, 2.611930e+03, 2.736260e+03, 2.860590e+03,\n",
       "        2.984920e+03, 3.109250e+03, 3.233580e+03, 3.357910e+03,\n",
       "        3.482240e+03, 3.606570e+03, 3.730900e+03, 3.855230e+03,\n",
       "        3.979560e+03, 4.103890e+03, 4.228220e+03, 4.352550e+03,\n",
       "        4.476880e+03, 4.601210e+03, 4.725540e+03, 4.849870e+03,\n",
       "        4.974200e+03, 5.098530e+03, 5.222860e+03, 5.347190e+03,\n",
       "        5.471520e+03, 5.595850e+03, 5.720180e+03, 5.844510e+03,\n",
       "        5.968840e+03, 6.093170e+03, 6.217500e+03, 6.341830e+03,\n",
       "        6.466160e+03, 6.590490e+03, 6.714820e+03, 6.839150e+03,\n",
       "        6.963480e+03, 7.087810e+03, 7.212140e+03, 7.336470e+03,\n",
       "        7.460800e+03, 7.585130e+03, 7.709460e+03, 7.833790e+03,\n",
       "        7.958120e+03, 8.082450e+03, 8.206780e+03, 8.331110e+03,\n",
       "        8.455440e+03, 8.579770e+03, 8.704100e+03, 8.828430e+03,\n",
       "        8.952760e+03, 9.077090e+03, 9.201420e+03, 9.325750e+03,\n",
       "        9.450080e+03, 9.574410e+03, 9.698740e+03, 9.823070e+03,\n",
       "        9.947400e+03, 1.007173e+04, 1.019606e+04, 1.032039e+04,\n",
       "        1.044472e+04, 1.056905e+04, 1.069338e+04, 1.081771e+04,\n",
       "        1.094204e+04, 1.106637e+04, 1.119070e+04, 1.131503e+04,\n",
       "        1.143936e+04, 1.156369e+04, 1.168802e+04, 1.181235e+04,\n",
       "        1.193668e+04, 1.206101e+04, 1.218534e+04, 1.230967e+04,\n",
       "        1.243400e+04]),\n",
       " <BarContainer object of 100 artists>)"
      ]
     },
     "execution_count": 16,
     "metadata": {},
     "output_type": "execute_result"
    },
    {
     "data": {
      "image/png": "[encoded data removed]",
      "text/plain": [
       "<Figure size 640x480 with 1 Axes>"
      ]
     },
     "metadata": {},
     "output_type": "display_data"
    }
   ],
   "source": [
    "lengths = df_text['tokens'].apply(lambda x: len(x))\n",
    "\n",
    "# Calculate the median length\n",
    "median_length = lengths.median()\n",
    "max_length = lengths.max()\n",
    "min_length = lengths.min()\n",
    "\n",
    "truncate_length = int(lengths.quantile(0.95))\n",
    "\n",
    "print(min_length)\n",
    "print(median_length)\n",
    "print(max_length)\n",
    "print(lengths.quantile(0.95))\n",
    "\n",
    "\n",
    "plt.hist(lengths,bins=100)\n"
   ]
  },
  {
   "cell_type": "code",
   "execution_count": 18,
   "metadata": {},
   "outputs": [
    {
     "name": "stdout",
     "output_type": "stream",
     "text": [
      "7212\n"
     ]
    },
    {
     "name": "stderr",
     "output_type": "stream",
     "text": [
      "/var/folders/nf/g_pc_4zd2sx16tjwwb4r4fhm0000gn/T/ipykernel_61372/1832803277.py:10: UserWarning: Creating a tensor from a list of numpy.ndarrays is extremely slow. Please consider converting the list to a single numpy.ndarray with numpy.array() before converting to a tensor. (Triggered internally at /Users/runner/work/pytorch/pytorch/pytorch/torch/csrc/utils/tensor_new.cpp:278.)\n",
      "  return torch.tensor(vectors)\n"
     ]
    },
    {
     "name": "stdout",
     "output_type": "stream",
     "text": [
      "torch.Size([7212, 813, 300])\n",
      "torch.Size([7212])\n"
     ]
    }
   ],
   "source": [
    "# test with smaller amount of data\n",
    "FRACTION = 0.1\n",
    "size = int(df_text.shape[0] * FRACTION)\n",
    "print(size)\n",
    "\n",
    "\n",
    "# make tensors\n",
    "def text_to_tensor(text_list, merged_keyed_vectors,truncate_length):\n",
    "    vectors = [merged_keyed_vectors[word] for word in text_list[:truncate_length+1] if word in merged_keyed_vectors]\n",
    "    return torch.tensor(vectors)\n",
    "\n",
    "\n",
    "def stack_tensor(df: pd.DataFrame, col_name, word_model,truncate_length):\n",
    "    tensor_ls = []\n",
    "    label_ls = []\n",
    "    for row in df.itertuples(index=False):\n",
    "        # print(row[df.columns.get_loc('class')])\n",
    "        # print(row[df.columns.get_loc(col_name)])\n",
    "        label_ls.append(row[df.columns.get_loc(\"class\")])\n",
    "        tensor_ls.append(text_to_tensor(row[df.columns.get_loc(col_name)], word_model, truncate_length=truncate_length))\n",
    "    padded_ls = pad_sequence(tensor_ls, batch_first=True)\n",
    "    return torch.tensor(label_ls), torch.stack(tuple(padded_ls))\n",
    "\n",
    "\n",
    "text_labels_tensor, text_tensor = stack_tensor(\n",
    "    df_text.iloc[:size, :], \n",
    "    col_name=\"tokens\", \n",
    "    word_model=merged_keyed_vectors,\n",
    "    truncate_length=truncate_length\n",
    ")\n",
    "print(text_tensor.size())\n",
    "print(text_labels_tensor.size())\n",
    "text_dataset = TensorDataset(text_tensor, text_labels_tensor)"
   ]
  },
  {
   "cell_type": "code",
   "execution_count": 19,
   "metadata": {},
   "outputs": [
    {
     "name": "stdout",
     "output_type": "stream",
     "text": [
      "total_size 7212\n",
      "train_size 5770\n",
      "test_size 1442\n"
     ]
    }
   ],
   "source": [
    "def split(tensor_dataset, test_split=0.2):\n",
    "    test_size = int(len(tensor_dataset) * test_split)\n",
    "    train_size = int(len(tensor_dataset) - test_size)\n",
    "    train_data, test_data = random_split(tensor_dataset, [train_size, test_size])\n",
    "    print(f'total_size {len(tensor_dataset)}')\n",
    "    print(f'train_size {len(train_data)}')\n",
    "    print(f'test_size {len(test_data)}')\n",
    "    return train_data, test_data\n",
    "\n",
    "train_text_tensor, test_text_tensor = split(text_dataset,0.2)\n",
    "\n",
    "with open(\"./data/train_merged\",\"wb\") as f:\n",
    "    pickle.dump(train_text_tensor,f)\n",
    "with open(\"./data/test_merged\",\"wb\") as f:\n",
    "    pickle.dump(test_text_tensor,f)\n"
   ]
  },
  {
   "cell_type": "code",
   "execution_count": null,
   "metadata": {},
   "outputs": [],
   "source": []
  }
 ],
 "metadata": {
  "kernelspec": {
   "display_name": "ai-course",
   "language": "python",
   "name": "python3"
  },
  "language_info": {
   "codemirror_mode": {
    "name": "ipython",
    "version": 3
   },
   "file_extension": ".py",
   "mimetype": "text/x-python",
   "name": "python",
   "nbconvert_exporter": "python",
   "pygments_lexer": "ipython3",
   "version": "3.10.12"
  }
 },
 "nbformat": 4,
 "nbformat_minor": 2
}
