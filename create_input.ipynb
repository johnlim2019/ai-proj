{
 "cells": [
  {
   "cell_type": "markdown",
   "metadata": {},
   "source": [
    "Vocab"
   ]
  },
  {
   "cell_type": "code",
   "execution_count": 53,
   "metadata": {},
   "outputs": [],
   "source": [
    "import pandas as pd\n",
    "import numpy as  np\n",
    "from gensim.models import Word2Vec\n",
    "import pickle"
   ]
  },
  {
   "cell_type": "code",
   "execution_count": 54,
   "metadata": {},
   "outputs": [
    {
     "name": "stdout",
     "output_type": "stream",
     "text": [
      "Index(['index', 'title', 'class'], dtype='object')\n",
      "Index(['index', 'text', 'class'], dtype='object')\n",
      "   index                                              title  class\n",
      "0      0  [law, enforcement, high, alert, following, thr...      1\n",
      "2      2  [unbelievable, obama, attorney, general, says,...      1\n",
      "3      3  [bobby, jindal, raised, hindu, uses, story, ch...      0\n",
      "4      4  [satan, 2, russia, unvelis, image, terrifying,...      1\n",
      "5      5  [time, christian, group, sues, amazon, splc, d...      1\n",
      "   index                                               text  class\n",
      "0      0  [comment, expected, barack, obama, members, fy...      1\n",
      "1      1                    [post, votes, hillary, already]      1\n",
      "2      2  [demonstrators, gathered, last, night, exercis...      1\n",
      "3      3  [dozen, politically, active, pastors, came, pr...      0\n",
      "4      4  [rs, 28, sarmat, missile, dubbed, satan, 2, re...      1\n"
     ]
    }
   ],
   "source": [
    "df_title = pd.read_pickle('./data/clean_title.pkl')\n",
    "df_text = pd.read_pickle('./data/clean_text.pkl')\n",
    "print(df_title.columns)\n",
    "print(df_text.columns)\n",
    "print(df_title.head())\n",
    "print(df_text.head())"
   ]
  },
  {
   "cell_type": "code",
   "execution_count": 56,
   "metadata": {},
   "outputs": [],
   "source": [
    "model_text = Word2Vec(df_text[\"text\"], vector_size=100, window=5, min_count=1, workers=4)\n",
    "model_title = Word2Vec(df_title[\"title\"], vector_size=100, window=5, min_count=1, workers=4)\n",
    "model_text.save(\"./data/model_text\")\n",
    "model_title.save(\"./data/model_title\")\n"
   ]
  },
  {
   "cell_type": "code",
   "execution_count": null,
   "metadata": {},
   "outputs": [],
   "source": []
  }
 ],
 "metadata": {
  "kernelspec": {
   "display_name": "ai-course",
   "language": "python",
   "name": "python3"
  },
  "language_info": {
   "codemirror_mode": {
    "name": "ipython",
    "version": 3
   },
   "file_extension": ".py",
   "mimetype": "text/x-python",
   "name": "python",
   "nbconvert_exporter": "python",
   "pygments_lexer": "ipython3",
   "version": "3.10.12"
  }
 },
 "nbformat": 4,
 "nbformat_minor": 2
}
