{
 "cells": [
  {
   "cell_type": "code",
   "execution_count": 93,
   "metadata": {},
   "outputs": [],
   "source": [
    "from sklearn.naive_bayes import GaussianNB\n",
    "from sklearn.svm import SVC\n",
    "from sklearn.neighbors import KNeighborsClassifier\n",
    "from sklearn.model_selection import train_test_split\n",
    "from sklearn.pipeline import make_pipeline\n",
    "from sklearn.preprocessing import StandardScaler\n",
    "import pickle\n",
    "import joblib\n",
    "import numpy as np"
   ]
  },
  {
   "cell_type": "code",
   "execution_count": 94,
   "metadata": {},
   "outputs": [
    {
     "name": "stdout",
     "output_type": "stream",
     "text": [
      "(64482, 11)\n",
      "(64482, 11)\n"
     ]
    },
    {
     "data": {
      "text/html": [
       "<div>\n",
       "<style scoped>\n",
       "    .dataframe tbody tr th:only-of-type {\n",
       "        vertical-align: middle;\n",
       "    }\n",
       "\n",
       "    .dataframe tbody tr th {\n",
       "        vertical-align: top;\n",
       "    }\n",
       "\n",
       "    .dataframe thead th {\n",
       "        text-align: right;\n",
       "    }\n",
       "</style>\n",
       "<table border=\"1\" class=\"dataframe\">\n",
       "  <thead>\n",
       "    <tr style=\"text-align: right;\">\n",
       "      <th></th>\n",
       "      <th>label</th>\n",
       "      <th>verbs_third_person</th>\n",
       "      <th>verbs_others</th>\n",
       "      <th>words_per_sentence_median</th>\n",
       "      <th>num_of_sentences</th>\n",
       "      <th>adverbs_rate</th>\n",
       "      <th>nouns_rate</th>\n",
       "      <th>adjectives_rate</th>\n",
       "      <th>verbs_third_person_rate</th>\n",
       "      <th>verbs_others_rate</th>\n",
       "      <th>automatic_readability</th>\n",
       "    </tr>\n",
       "  </thead>\n",
       "  <tbody>\n",
       "    <tr>\n",
       "      <th>0</th>\n",
       "      <td>1</td>\n",
       "      <td>85</td>\n",
       "      <td>38</td>\n",
       "      <td>13.0</td>\n",
       "      <td>60</td>\n",
       "      <td>0.300000</td>\n",
       "      <td>3.633333</td>\n",
       "      <td>1.666667</td>\n",
       "      <td>1.416667</td>\n",
       "      <td>0.633333</td>\n",
       "      <td>8.968798</td>\n",
       "    </tr>\n",
       "    <tr>\n",
       "      <th>3</th>\n",
       "      <td>0</td>\n",
       "      <td>137</td>\n",
       "      <td>35</td>\n",
       "      <td>19.0</td>\n",
       "      <td>62</td>\n",
       "      <td>0.451613</td>\n",
       "      <td>6.080645</td>\n",
       "      <td>2.403226</td>\n",
       "      <td>2.209677</td>\n",
       "      <td>0.564516</td>\n",
       "      <td>13.495336</td>\n",
       "    </tr>\n",
       "    <tr>\n",
       "      <th>4</th>\n",
       "      <td>1</td>\n",
       "      <td>27</td>\n",
       "      <td>4</td>\n",
       "      <td>25.0</td>\n",
       "      <td>13</td>\n",
       "      <td>0.384615</td>\n",
       "      <td>7.846154</td>\n",
       "      <td>3.538462</td>\n",
       "      <td>2.076923</td>\n",
       "      <td>0.307692</td>\n",
       "      <td>17.923524</td>\n",
       "    </tr>\n",
       "    <tr>\n",
       "      <th>5</th>\n",
       "      <td>1</td>\n",
       "      <td>16</td>\n",
       "      <td>13</td>\n",
       "      <td>14.0</td>\n",
       "      <td>15</td>\n",
       "      <td>0.333333</td>\n",
       "      <td>5.533333</td>\n",
       "      <td>2.266667</td>\n",
       "      <td>1.066667</td>\n",
       "      <td>0.866667</td>\n",
       "      <td>15.275581</td>\n",
       "    </tr>\n",
       "    <tr>\n",
       "      <th>8</th>\n",
       "      <td>1</td>\n",
       "      <td>22</td>\n",
       "      <td>16</td>\n",
       "      <td>18.0</td>\n",
       "      <td>15</td>\n",
       "      <td>0.133333</td>\n",
       "      <td>5.200000</td>\n",
       "      <td>1.533333</td>\n",
       "      <td>1.466667</td>\n",
       "      <td>1.066667</td>\n",
       "      <td>8.987693</td>\n",
       "    </tr>\n",
       "  </tbody>\n",
       "</table>\n",
       "</div>"
      ],
      "text/plain": [
       "   label  verbs_third_person  verbs_others  words_per_sentence_median  \\\n",
       "0      1                  85            38                       13.0   \n",
       "3      0                 137            35                       19.0   \n",
       "4      1                  27             4                       25.0   \n",
       "5      1                  16            13                       14.0   \n",
       "8      1                  22            16                       18.0   \n",
       "\n",
       "   num_of_sentences  adverbs_rate  nouns_rate  adjectives_rate  \\\n",
       "0                60      0.300000    3.633333         1.666667   \n",
       "3                62      0.451613    6.080645         2.403226   \n",
       "4                13      0.384615    7.846154         3.538462   \n",
       "5                15      0.333333    5.533333         2.266667   \n",
       "8                15      0.133333    5.200000         1.533333   \n",
       "\n",
       "   verbs_third_person_rate  verbs_others_rate  automatic_readability  \n",
       "0                 1.416667           0.633333               8.968798  \n",
       "3                 2.209677           0.564516              13.495336  \n",
       "4                 2.076923           0.307692              17.923524  \n",
       "5                 1.066667           0.866667              15.275581  \n",
       "8                 1.466667           1.066667               8.987693  "
      ]
     },
     "execution_count": 94,
     "metadata": {},
     "output_type": "execute_result"
    }
   ],
   "source": [
    "# import data\n",
    "with open(\"./data/content_features_cv.pkl\",\"rb\") as f:\n",
    "    content_features_df = pickle.load(f)\n",
    "    \n",
    "# drop nan values \n",
    "content_features_df = content_features_df.drop(\"smog\", axis=1) # due to alot of NaN\n",
    "content_features_df = content_features_df.drop(\"dale_chall\", axis=1) # due to alot of NaN\n",
    "content_features_df = content_features_df.dropna() # due to alot of NaN\n",
    "\n",
    "# drop values with 0 words per sentence\n",
    "print(content_features_df.shape)\n",
    "content_features_df = content_features_df[content_features_df[\"words_per_sentence_median\"] != 0]\n",
    "print(content_features_df.shape)\n",
    "\n",
    "content_features_df.head()\n"
   ]
  },
  {
   "cell_type": "code",
   "execution_count": 95,
   "metadata": {},
   "outputs": [
    {
     "name": "stdout",
     "output_type": "stream",
     "text": [
      "(51585, 11)\n",
      "(12897, 11)\n"
     ]
    }
   ],
   "source": [
    "train_dataset, test_dataset = train_test_split(content_features_df,test_size=0.2,train_size=0.8)\n",
    "print(train_dataset.shape)\n",
    "print(test_dataset.shape)\n",
    "\n",
    "\n",
    "train_dataset_x = train_dataset.drop(\"label\",axis=1).values\n",
    "train_dataset_y = train_dataset[\"label\"].values\n",
    "\n",
    "test_dataset_x = test_dataset.drop(\"label\",axis=1).values\n",
    "test_dataset_y = test_dataset[\"label\"].values\n"
   ]
  },
  {
   "cell_type": "code",
   "execution_count": 96,
   "metadata": {},
   "outputs": [
    {
     "name": "stdout",
     "output_type": "stream",
     "text": [
      "0.797859967434287\n"
     ]
    },
    {
     "data": {
      "text/plain": [
       "['./data/knn_pipeline_ari.joblib']"
      ]
     },
     "execution_count": 96,
     "metadata": {},
     "output_type": "execute_result"
    }
   ],
   "source": [
    "# output of best model\n",
    "knn_pipeline = make_pipeline(StandardScaler(), KNeighborsClassifier(1000, weights='distance',metric=\"l2\")) # best\n",
    "knn_pipeline.fit(train_dataset_x,train_dataset_y)\n",
    "score = knn_pipeline.score(test_dataset_x, test_dataset_y)\n",
    "print(score)\n",
    "joblib.dump(knn_pipeline, './data/knn_pipeline_ari.joblib')\n",
    "    "
   ]
  },
  {
   "cell_type": "code",
   "execution_count": 56,
   "metadata": {},
   "outputs": [
    {
     "name": "stdout",
     "output_type": "stream",
     "text": [
      "0.7738233697759169\n"
     ]
    }
   ],
   "source": [
    "svc_pipeline = make_pipeline(StandardScaler(), SVC(gamma=\"auto\",kernel=\"rbf\"))\n",
    "svc_pipeline.fit(train_dataset_x,train_dataset_y)\n",
    "score = svc_pipeline.score(test_dataset_x, test_dataset_y)\n",
    "print(score)"
   ]
  },
  {
   "cell_type": "code",
   "execution_count": 57,
   "metadata": {},
   "outputs": [
    {
     "name": "stdout",
     "output_type": "stream",
     "text": [
      "0.5540823447313329\n"
     ]
    }
   ],
   "source": [
    "svc_pipeline = make_pipeline(StandardScaler(), SVC(gamma=\"auto\",kernel=\"sigmoid\"))\n",
    "svc_pipeline.fit(train_dataset_x,train_dataset_y)\n",
    "score = svc_pipeline.score(test_dataset_x, test_dataset_y)\n",
    "print(score)"
   ]
  },
  {
   "cell_type": "code",
   "execution_count": 58,
   "metadata": {},
   "outputs": [
    {
     "name": "stdout",
     "output_type": "stream",
     "text": [
      "0.7301698069318446\n"
     ]
    }
   ],
   "source": [
    "svc_pipeline = make_pipeline(StandardScaler(), SVC(gamma=\"auto\",kernel=\"poly\"))\n",
    "svc_pipeline.fit(train_dataset_x,train_dataset_y)\n",
    "score = svc_pipeline.score(test_dataset_x, test_dataset_y)\n",
    "print(score)"
   ]
  },
  {
   "cell_type": "code",
   "execution_count": 59,
   "metadata": {},
   "outputs": [
    {
     "name": "stdout",
     "output_type": "stream",
     "text": [
      "0.7735132201287122\n"
     ]
    }
   ],
   "source": [
    "svc_pipeline = make_pipeline(StandardScaler(), SVC(gamma=\"auto\",kernel=\"rbf\",C=1.1))\n",
    "svc_pipeline.fit(train_dataset_x,train_dataset_y)\n",
    "score = svc_pipeline.score(test_dataset_x, test_dataset_y)\n",
    "print(score)"
   ]
  },
  {
   "cell_type": "code",
   "execution_count": 60,
   "metadata": {},
   "outputs": [
    {
     "name": "stdout",
     "output_type": "stream",
     "text": [
      "0.7739784445995193\n"
     ]
    }
   ],
   "source": [
    "svc_pipeline = make_pipeline(StandardScaler(), SVC(gamma=\"auto\",kernel=\"rbf\",C=1.5))\n",
    "svc_pipeline.fit(train_dataset_x,train_dataset_y)\n",
    "score = svc_pipeline.score(test_dataset_x, test_dataset_y)\n",
    "print(score)"
   ]
  },
  {
   "cell_type": "code",
   "execution_count": 61,
   "metadata": {},
   "outputs": [
    {
     "name": "stdout",
     "output_type": "stream",
     "text": [
      "0.7715747848336822\n"
     ]
    }
   ],
   "source": [
    "svc_pipeline = make_pipeline(StandardScaler(), SVC(gamma=\"auto\",kernel=\"rbf\",C=0.5))\n",
    "svc_pipeline.fit(train_dataset_x,train_dataset_y)\n",
    "score = svc_pipeline.score(test_dataset_x, test_dataset_y)\n",
    "print(score)"
   ]
  },
  {
   "cell_type": "code",
   "execution_count": 62,
   "metadata": {},
   "outputs": [
    {
     "name": "stdout",
     "output_type": "stream",
     "text": [
      "0.7669225401256106\n"
     ]
    }
   ],
   "source": [
    "svc_pipeline = make_pipeline(StandardScaler(), SVC(gamma=\"auto\",kernel=\"rbf\",C=0.1))\n",
    "svc_pipeline.fit(train_dataset_x,train_dataset_y)\n",
    "score = svc_pipeline.score(test_dataset_x, test_dataset_y)\n",
    "print(score)"
   ]
  },
  {
   "cell_type": "code",
   "execution_count": 63,
   "metadata": {},
   "outputs": [
    {
     "name": "stdout",
     "output_type": "stream",
     "text": [
      "0.6033961386368923\n"
     ]
    }
   ],
   "source": [
    "nb_pipeline = make_pipeline(StandardScaler(), GaussianNB())\n",
    "nb_pipeline.fit(train_dataset_x,train_dataset_y)\n",
    "score = nb_pipeline.score(test_dataset_x, test_dataset_y)\n",
    "print(score)"
   ]
  },
  {
   "cell_type": "code",
   "execution_count": 64,
   "metadata": {},
   "outputs": [
    {
     "name": "stdout",
     "output_type": "stream",
     "text": [
      "0.7475381871753121\n"
     ]
    }
   ],
   "source": [
    "knn_pipeline = make_pipeline(StandardScaler(), KNeighborsClassifier())\n",
    "knn_pipeline.fit(train_dataset_x,train_dataset_y)\n",
    "score = knn_pipeline.score(test_dataset_x, test_dataset_y)\n",
    "print(score)"
   ]
  },
  {
   "cell_type": "code",
   "execution_count": 65,
   "metadata": {},
   "outputs": [
    {
     "name": "stdout",
     "output_type": "stream",
     "text": [
      "0.8059238582616113\n"
     ]
    }
   ],
   "source": [
    "knn_pipeline = make_pipeline(StandardScaler(), KNeighborsClassifier(1000,weights='distance'))\n",
    "knn_pipeline.fit(train_dataset_x,train_dataset_y)\n",
    "score = knn_pipeline.score(test_dataset_x, test_dataset_y)\n",
    "print(score)"
   ]
  },
  {
   "cell_type": "code",
   "execution_count": 66,
   "metadata": {},
   "outputs": [
    {
     "name": "stdout",
     "output_type": "stream",
     "text": [
      "0.8046057222609909\n"
     ]
    }
   ],
   "source": [
    "knn_pipeline = make_pipeline(StandardScaler(), KNeighborsClassifier(2000, weights='distance',metric=\"l1\"))\n",
    "knn_pipeline.fit(train_dataset_x,train_dataset_y)\n",
    "score = knn_pipeline.score(test_dataset_x, test_dataset_y)\n",
    "print(score)"
   ]
  },
  {
   "cell_type": "code",
   "execution_count": 67,
   "metadata": {},
   "outputs": [
    {
     "name": "stdout",
     "output_type": "stream",
     "text": [
      "0.8008063890827324\n"
     ]
    }
   ],
   "source": [
    "knn_pipeline = make_pipeline(StandardScaler(), KNeighborsClassifier(3000, weights='distance',metric=\"l1\"))\n",
    "knn_pipeline.fit(train_dataset_x,train_dataset_y)\n",
    "score = knn_pipeline.score(test_dataset_x, test_dataset_y)\n",
    "print(score)"
   ]
  },
  {
   "cell_type": "code",
   "execution_count": 68,
   "metadata": {},
   "outputs": [
    {
     "name": "stdout",
     "output_type": "stream",
     "text": [
      "0.8059238582616113\n"
     ]
    }
   ],
   "source": [
    "knn_pipeline = make_pipeline(StandardScaler(), KNeighborsClassifier(1000, weights='distance',metric=\"l2\"))\n",
    "knn_pipeline.fit(train_dataset_x,train_dataset_y)\n",
    "score = knn_pipeline.score(test_dataset_x, test_dataset_y)\n",
    "print(score)"
   ]
  },
  {
   "cell_type": "code",
   "execution_count": 69,
   "metadata": {},
   "outputs": [
    {
     "name": "stdout",
     "output_type": "stream",
     "text": [
      "0.7997208653175157\n"
     ]
    }
   ],
   "source": [
    "knn_pipeline = make_pipeline(StandardScaler(), KNeighborsClassifier(2000, weights='distance',metric=\"l2\")) # best\n",
    "knn_pipeline.fit(train_dataset_x,train_dataset_y)\n",
    "score = knn_pipeline.score(test_dataset_x, test_dataset_y)\n",
    "print(score)"
   ]
  },
  {
   "cell_type": "code",
   "execution_count": 70,
   "metadata": {},
   "outputs": [
    {
     "name": "stdout",
     "output_type": "stream",
     "text": [
      "0.7992556408467085\n"
     ]
    }
   ],
   "source": [
    "knn_pipeline = make_pipeline(StandardScaler(), KNeighborsClassifier(1000, weights='distance',metric=\"cosine\"))\n",
    "knn_pipeline.fit(train_dataset_x,train_dataset_y)\n",
    "score = knn_pipeline.score(test_dataset_x, test_dataset_y)\n",
    "print(score)"
   ]
  },
  {
   "cell_type": "code",
   "execution_count": null,
   "metadata": {},
   "outputs": [],
   "source": []
  }
 ],
 "metadata": {
  "kernelspec": {
   "display_name": "ai-course",
   "language": "python",
   "name": "python3"
  },
  "language_info": {
   "codemirror_mode": {
    "name": "ipython",
    "version": 3
   },
   "file_extension": ".py",
   "mimetype": "text/x-python",
   "name": "python",
   "nbconvert_exporter": "python",
   "pygments_lexer": "ipython3",
   "version": "3.10.12"
  }
 },
 "nbformat": 4,
 "nbformat_minor": 2
}
