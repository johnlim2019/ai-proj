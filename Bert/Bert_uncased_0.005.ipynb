{
  "cells": [
    {
      "cell_type": "code",
      "execution_count": 28,
      "metadata": {
        "colab": {
          "base_uri": "https://localhost:8080/"
        },
        "id": "spYLKpdiYPPo",
        "outputId": "82825a56-fc51-4101-de4d-431558f0f408"
      },
      "outputs": [
        {
          "data": {
            "text/plain": [
              "True"
            ]
          },
          "execution_count": 28,
          "metadata": {},
          "output_type": "execute_result"
        }
      ],
      "source": [
        "import torch\n",
        "torch.cuda.is_available()"
      ]
    },
    {
      "cell_type": "code",
      "execution_count": 29,
      "metadata": {
        "colab": {
          "base_uri": "https://localhost:8080/"
        },
        "id": "HhBB9PDKX68h",
        "outputId": "d735590c-2443-400c-ae7c-bdb7ac955b4d"
      },
      "outputs": [
        {
          "name": "stdout",
          "output_type": "stream",
          "text": [
            "Requirement already satisfied: evaluate in /usr/local/lib/python3.10/dist-packages (0.4.1)\n",
            "Requirement already satisfied: datasets>=2.0.0 in /usr/local/lib/python3.10/dist-packages (from evaluate) (2.18.0)\n",
            "Requirement already satisfied: numpy>=1.17 in /usr/local/lib/python3.10/dist-packages (from evaluate) (1.25.2)\n",
            "Requirement already satisfied: dill in /usr/local/lib/python3.10/dist-packages (from evaluate) (0.3.8)\n",
            "Requirement already satisfied: pandas in /usr/local/lib/python3.10/dist-packages (from evaluate) (2.0.3)\n",
            "Requirement already satisfied: requests>=2.19.0 in /usr/local/lib/python3.10/dist-packages (from evaluate) (2.31.0)\n",
            "Requirement already satisfied: tqdm>=4.62.1 in /usr/local/lib/python3.10/dist-packages (from evaluate) (4.66.2)\n",
            "Requirement already satisfied: xxhash in /usr/local/lib/python3.10/dist-packages (from evaluate) (3.4.1)\n",
            "Requirement already satisfied: multiprocess in /usr/local/lib/python3.10/dist-packages (from evaluate) (0.70.16)\n",
            "Requirement already satisfied: fsspec[http]>=2021.05.0 in /usr/local/lib/python3.10/dist-packages (from evaluate) (2023.6.0)\n",
            "Requirement already satisfied: huggingface-hub>=0.7.0 in /usr/local/lib/python3.10/dist-packages (from evaluate) (0.20.3)\n",
            "Requirement already satisfied: packaging in /usr/local/lib/python3.10/dist-packages (from evaluate) (23.2)\n",
            "Requirement already satisfied: responses<0.19 in /usr/local/lib/python3.10/dist-packages (from evaluate) (0.18.0)\n",
            "Requirement already satisfied: filelock in /usr/local/lib/python3.10/dist-packages (from datasets>=2.0.0->evaluate) (3.13.3)\n",
            "Requirement already satisfied: pyarrow>=12.0.0 in /usr/local/lib/python3.10/dist-packages (from datasets>=2.0.0->evaluate) (14.0.2)\n",
            "Requirement already satisfied: pyarrow-hotfix in /usr/local/lib/python3.10/dist-packages (from datasets>=2.0.0->evaluate) (0.6)\n",
            "Requirement already satisfied: aiohttp in /usr/local/lib/python3.10/dist-packages (from datasets>=2.0.0->evaluate) (3.9.3)\n",
            "Requirement already satisfied: pyyaml>=5.1 in /usr/local/lib/python3.10/dist-packages (from datasets>=2.0.0->evaluate) (6.0.1)\n",
            "Requirement already satisfied: typing-extensions>=3.7.4.3 in /usr/local/lib/python3.10/dist-packages (from huggingface-hub>=0.7.0->evaluate) (4.10.0)\n",
            "Requirement already satisfied: charset-normalizer<4,>=2 in /usr/local/lib/python3.10/dist-packages (from requests>=2.19.0->evaluate) (3.3.2)\n",
            "Requirement already satisfied: idna<4,>=2.5 in /usr/local/lib/python3.10/dist-packages (from requests>=2.19.0->evaluate) (3.6)\n",
            "Requirement already satisfied: urllib3<3,>=1.21.1 in /usr/local/lib/python3.10/dist-packages (from requests>=2.19.0->evaluate) (2.0.7)\n",
            "Requirement already satisfied: certifi>=2017.4.17 in /usr/local/lib/python3.10/dist-packages (from requests>=2.19.0->evaluate) (2024.2.2)\n",
            "Requirement already satisfied: python-dateutil>=2.8.2 in /usr/local/lib/python3.10/dist-packages (from pandas->evaluate) (2.8.2)\n",
            "Requirement already satisfied: pytz>=2020.1 in /usr/local/lib/python3.10/dist-packages (from pandas->evaluate) (2023.4)\n",
            "Requirement already satisfied: tzdata>=2022.1 in /usr/local/lib/python3.10/dist-packages (from pandas->evaluate) (2024.1)\n",
            "Requirement already satisfied: aiosignal>=1.1.2 in /usr/local/lib/python3.10/dist-packages (from aiohttp->datasets>=2.0.0->evaluate) (1.3.1)\n",
            "Requirement already satisfied: attrs>=17.3.0 in /usr/local/lib/python3.10/dist-packages (from aiohttp->datasets>=2.0.0->evaluate) (23.2.0)\n",
            "Requirement already satisfied: frozenlist>=1.1.1 in /usr/local/lib/python3.10/dist-packages (from aiohttp->datasets>=2.0.0->evaluate) (1.4.1)\n",
            "Requirement already satisfied: multidict<7.0,>=4.5 in /usr/local/lib/python3.10/dist-packages (from aiohttp->datasets>=2.0.0->evaluate) (6.0.5)\n",
            "Requirement already satisfied: yarl<2.0,>=1.0 in /usr/local/lib/python3.10/dist-packages (from aiohttp->datasets>=2.0.0->evaluate) (1.9.4)\n",
            "Requirement already satisfied: async-timeout<5.0,>=4.0 in /usr/local/lib/python3.10/dist-packages (from aiohttp->datasets>=2.0.0->evaluate) (4.0.3)\n",
            "Requirement already satisfied: six>=1.5 in /usr/local/lib/python3.10/dist-packages (from python-dateutil>=2.8.2->pandas->evaluate) (1.16.0)\n",
            "Requirement already satisfied: datasets in /usr/local/lib/python3.10/dist-packages (2.18.0)\n",
            "Requirement already satisfied: filelock in /usr/local/lib/python3.10/dist-packages (from datasets) (3.13.3)\n",
            "Requirement already satisfied: numpy>=1.17 in /usr/local/lib/python3.10/dist-packages (from datasets) (1.25.2)\n",
            "Requirement already satisfied: pyarrow>=12.0.0 in /usr/local/lib/python3.10/dist-packages (from datasets) (14.0.2)\n",
            "Requirement already satisfied: pyarrow-hotfix in /usr/local/lib/python3.10/dist-packages (from datasets) (0.6)\n",
            "Requirement already satisfied: dill<0.3.9,>=0.3.0 in /usr/local/lib/python3.10/dist-packages (from datasets) (0.3.8)\n",
            "Requirement already satisfied: pandas in /usr/local/lib/python3.10/dist-packages (from datasets) (2.0.3)\n",
            "Requirement already satisfied: requests>=2.19.0 in /usr/local/lib/python3.10/dist-packages (from datasets) (2.31.0)\n",
            "Requirement already satisfied: tqdm>=4.62.1 in /usr/local/lib/python3.10/dist-packages (from datasets) (4.66.2)\n",
            "Requirement already satisfied: xxhash in /usr/local/lib/python3.10/dist-packages (from datasets) (3.4.1)\n",
            "Requirement already satisfied: multiprocess in /usr/local/lib/python3.10/dist-packages (from datasets) (0.70.16)\n",
            "Requirement already satisfied: fsspec[http]<=2024.2.0,>=2023.1.0 in /usr/local/lib/python3.10/dist-packages (from datasets) (2023.6.0)\n",
            "Requirement already satisfied: aiohttp in /usr/local/lib/python3.10/dist-packages (from datasets) (3.9.3)\n",
            "Requirement already satisfied: huggingface-hub>=0.19.4 in /usr/local/lib/python3.10/dist-packages (from datasets) (0.20.3)\n",
            "Requirement already satisfied: packaging in /usr/local/lib/python3.10/dist-packages (from datasets) (23.2)\n",
            "Requirement already satisfied: pyyaml>=5.1 in /usr/local/lib/python3.10/dist-packages (from datasets) (6.0.1)\n",
            "Requirement already satisfied: aiosignal>=1.1.2 in /usr/local/lib/python3.10/dist-packages (from aiohttp->datasets) (1.3.1)\n",
            "Requirement already satisfied: attrs>=17.3.0 in /usr/local/lib/python3.10/dist-packages (from aiohttp->datasets) (23.2.0)\n",
            "Requirement already satisfied: frozenlist>=1.1.1 in /usr/local/lib/python3.10/dist-packages (from aiohttp->datasets) (1.4.1)\n",
            "Requirement already satisfied: multidict<7.0,>=4.5 in /usr/local/lib/python3.10/dist-packages (from aiohttp->datasets) (6.0.5)\n",
            "Requirement already satisfied: yarl<2.0,>=1.0 in /usr/local/lib/python3.10/dist-packages (from aiohttp->datasets) (1.9.4)\n",
            "Requirement already satisfied: async-timeout<5.0,>=4.0 in /usr/local/lib/python3.10/dist-packages (from aiohttp->datasets) (4.0.3)\n",
            "Requirement already satisfied: typing-extensions>=3.7.4.3 in /usr/local/lib/python3.10/dist-packages (from huggingface-hub>=0.19.4->datasets) (4.10.0)\n",
            "Requirement already satisfied: charset-normalizer<4,>=2 in /usr/local/lib/python3.10/dist-packages (from requests>=2.19.0->datasets) (3.3.2)\n",
            "Requirement already satisfied: idna<4,>=2.5 in /usr/local/lib/python3.10/dist-packages (from requests>=2.19.0->datasets) (3.6)\n",
            "Requirement already satisfied: urllib3<3,>=1.21.1 in /usr/local/lib/python3.10/dist-packages (from requests>=2.19.0->datasets) (2.0.7)\n",
            "Requirement already satisfied: certifi>=2017.4.17 in /usr/local/lib/python3.10/dist-packages (from requests>=2.19.0->datasets) (2024.2.2)\n",
            "Requirement already satisfied: python-dateutil>=2.8.2 in /usr/local/lib/python3.10/dist-packages (from pandas->datasets) (2.8.2)\n",
            "Requirement already satisfied: pytz>=2020.1 in /usr/local/lib/python3.10/dist-packages (from pandas->datasets) (2023.4)\n",
            "Requirement already satisfied: tzdata>=2022.1 in /usr/local/lib/python3.10/dist-packages (from pandas->datasets) (2024.1)\n",
            "Requirement already satisfied: six>=1.5 in /usr/local/lib/python3.10/dist-packages (from python-dateutil>=2.8.2->pandas->datasets) (1.16.0)\n",
            "Requirement already satisfied: accelerate in /usr/local/lib/python3.10/dist-packages (0.29.2)\n",
            "Requirement already satisfied: numpy>=1.17 in /usr/local/lib/python3.10/dist-packages (from accelerate) (1.25.2)\n",
            "Requirement already satisfied: packaging>=20.0 in /usr/local/lib/python3.10/dist-packages (from accelerate) (23.2)\n",
            "Requirement already satisfied: psutil in /usr/local/lib/python3.10/dist-packages (from accelerate) (5.9.5)\n",
            "Requirement already satisfied: pyyaml in /usr/local/lib/python3.10/dist-packages (from accelerate) (6.0.1)\n",
            "Requirement already satisfied: torch>=1.10.0 in /usr/local/lib/python3.10/dist-packages (from accelerate) (2.2.1+cu121)\n",
            "Requirement already satisfied: huggingface-hub in /usr/local/lib/python3.10/dist-packages (from accelerate) (0.20.3)\n",
            "Requirement already satisfied: safetensors>=0.3.1 in /usr/local/lib/python3.10/dist-packages (from accelerate) (0.4.2)\n",
            "Requirement already satisfied: filelock in /usr/local/lib/python3.10/dist-packages (from torch>=1.10.0->accelerate) (3.13.3)\n",
            "Requirement already satisfied: typing-extensions>=4.8.0 in /usr/local/lib/python3.10/dist-packages (from torch>=1.10.0->accelerate) (4.10.0)\n",
            "Requirement already satisfied: sympy in /usr/local/lib/python3.10/dist-packages (from torch>=1.10.0->accelerate) (1.12)\n",
            "Requirement already satisfied: networkx in /usr/local/lib/python3.10/dist-packages (from torch>=1.10.0->accelerate) (3.2.1)\n",
            "Requirement already satisfied: jinja2 in /usr/local/lib/python3.10/dist-packages (from torch>=1.10.0->accelerate) (3.1.3)\n",
            "Requirement already satisfied: fsspec in /usr/local/lib/python3.10/dist-packages (from torch>=1.10.0->accelerate) (2023.6.0)\n",
            "Requirement already satisfied: nvidia-cuda-nvrtc-cu12==12.1.105 in /usr/local/lib/python3.10/dist-packages (from torch>=1.10.0->accelerate) (12.1.105)\n",
            "Requirement already satisfied: nvidia-cuda-runtime-cu12==12.1.105 in /usr/local/lib/python3.10/dist-packages (from torch>=1.10.0->accelerate) (12.1.105)\n",
            "Requirement already satisfied: nvidia-cuda-cupti-cu12==12.1.105 in /usr/local/lib/python3.10/dist-packages (from torch>=1.10.0->accelerate) (12.1.105)\n",
            "Requirement already satisfied: nvidia-cudnn-cu12==8.9.2.26 in /usr/local/lib/python3.10/dist-packages (from torch>=1.10.0->accelerate) (8.9.2.26)\n",
            "Requirement already satisfied: nvidia-cublas-cu12==12.1.3.1 in /usr/local/lib/python3.10/dist-packages (from torch>=1.10.0->accelerate) (12.1.3.1)\n",
            "Requirement already satisfied: nvidia-cufft-cu12==11.0.2.54 in /usr/local/lib/python3.10/dist-packages (from torch>=1.10.0->accelerate) (11.0.2.54)\n",
            "Requirement already satisfied: nvidia-curand-cu12==10.3.2.106 in /usr/local/lib/python3.10/dist-packages (from torch>=1.10.0->accelerate) (10.3.2.106)\n",
            "Requirement already satisfied: nvidia-cusolver-cu12==11.4.5.107 in /usr/local/lib/python3.10/dist-packages (from torch>=1.10.0->accelerate) (11.4.5.107)\n",
            "Requirement already satisfied: nvidia-cusparse-cu12==12.1.0.106 in /usr/local/lib/python3.10/dist-packages (from torch>=1.10.0->accelerate) (12.1.0.106)\n",
            "Requirement already satisfied: nvidia-nccl-cu12==2.19.3 in /usr/local/lib/python3.10/dist-packages (from torch>=1.10.0->accelerate) (2.19.3)\n",
            "Requirement already satisfied: nvidia-nvtx-cu12==12.1.105 in /usr/local/lib/python3.10/dist-packages (from torch>=1.10.0->accelerate) (12.1.105)\n",
            "Requirement already satisfied: triton==2.2.0 in /usr/local/lib/python3.10/dist-packages (from torch>=1.10.0->accelerate) (2.2.0)\n",
            "Requirement already satisfied: nvidia-nvjitlink-cu12 in /usr/local/lib/python3.10/dist-packages (from nvidia-cusolver-cu12==11.4.5.107->torch>=1.10.0->accelerate) (12.4.127)\n",
            "Requirement already satisfied: requests in /usr/local/lib/python3.10/dist-packages (from huggingface-hub->accelerate) (2.31.0)\n",
            "Requirement already satisfied: tqdm>=4.42.1 in /usr/local/lib/python3.10/dist-packages (from huggingface-hub->accelerate) (4.66.2)\n",
            "Requirement already satisfied: MarkupSafe>=2.0 in /usr/local/lib/python3.10/dist-packages (from jinja2->torch>=1.10.0->accelerate) (2.1.5)\n",
            "Requirement already satisfied: charset-normalizer<4,>=2 in /usr/local/lib/python3.10/dist-packages (from requests->huggingface-hub->accelerate) (3.3.2)\n",
            "Requirement already satisfied: idna<4,>=2.5 in /usr/local/lib/python3.10/dist-packages (from requests->huggingface-hub->accelerate) (3.6)\n",
            "Requirement already satisfied: urllib3<3,>=1.21.1 in /usr/local/lib/python3.10/dist-packages (from requests->huggingface-hub->accelerate) (2.0.7)\n",
            "Requirement already satisfied: certifi>=2017.4.17 in /usr/local/lib/python3.10/dist-packages (from requests->huggingface-hub->accelerate) (2024.2.2)\n",
            "Requirement already satisfied: mpmath>=0.19 in /usr/local/lib/python3.10/dist-packages (from sympy->torch>=1.10.0->accelerate) (1.3.0)\n",
            "Requirement already satisfied: transformers in /usr/local/lib/python3.10/dist-packages (4.39.3)\n",
            "Requirement already satisfied: filelock in /usr/local/lib/python3.10/dist-packages (from transformers) (3.13.3)\n",
            "Requirement already satisfied: huggingface-hub<1.0,>=0.19.3 in /usr/local/lib/python3.10/dist-packages (from transformers) (0.20.3)\n",
            "Requirement already satisfied: numpy>=1.17 in /usr/local/lib/python3.10/dist-packages (from transformers) (1.25.2)\n",
            "Requirement already satisfied: packaging>=20.0 in /usr/local/lib/python3.10/dist-packages (from transformers) (23.2)\n",
            "Requirement already satisfied: pyyaml>=5.1 in /usr/local/lib/python3.10/dist-packages (from transformers) (6.0.1)\n",
            "Requirement already satisfied: regex!=2019.12.17 in /usr/local/lib/python3.10/dist-packages (from transformers) (2023.12.25)\n",
            "Requirement already satisfied: requests in /usr/local/lib/python3.10/dist-packages (from transformers) (2.31.0)\n",
            "Requirement already satisfied: tokenizers<0.19,>=0.14 in /usr/local/lib/python3.10/dist-packages (from transformers) (0.15.2)\n",
            "Requirement already satisfied: safetensors>=0.4.1 in /usr/local/lib/python3.10/dist-packages (from transformers) (0.4.2)\n",
            "Requirement already satisfied: tqdm>=4.27 in /usr/local/lib/python3.10/dist-packages (from transformers) (4.66.2)\n",
            "Requirement already satisfied: fsspec>=2023.5.0 in /usr/local/lib/python3.10/dist-packages (from huggingface-hub<1.0,>=0.19.3->transformers) (2023.6.0)\n",
            "Requirement already satisfied: typing-extensions>=3.7.4.3 in /usr/local/lib/python3.10/dist-packages (from huggingface-hub<1.0,>=0.19.3->transformers) (4.10.0)\n",
            "Requirement already satisfied: charset-normalizer<4,>=2 in /usr/local/lib/python3.10/dist-packages (from requests->transformers) (3.3.2)\n",
            "Requirement already satisfied: idna<4,>=2.5 in /usr/local/lib/python3.10/dist-packages (from requests->transformers) (3.6)\n",
            "Requirement already satisfied: urllib3<3,>=1.21.1 in /usr/local/lib/python3.10/dist-packages (from requests->transformers) (2.0.7)\n",
            "Requirement already satisfied: certifi>=2017.4.17 in /usr/local/lib/python3.10/dist-packages (from requests->transformers) (2024.2.2)\n"
          ]
        }
      ],
      "source": [
        "!pip install -U evaluate\n",
        "!pip install -U datasets\n",
        "!pip install -U accelerate\n",
        "!pip install -U transformers\n",
        "!pip install -q mlflow nlp 2>/dev/null\n",
        "\n",
        "import numpy as np\n",
        "import pandas as pd\n",
        "import re\n",
        "import evaluate\n",
        "import accelerate\n",
        "from datasets import load_dataset\n",
        "from transformers import AutoTokenizer, pipeline\n",
        "from transformers import TextDataset, LineByLineTextDataset, DataCollatorForLanguageModeling\n",
        "from transformers import AutoModelForSequenceClassification, TrainingArguments, Trainer\n",
        "from sklearn.model_selection import train_test_split\n",
        "from nlp import Dataset"
      ]
    },
    {
      "cell_type": "code",
      "execution_count": 30,
      "metadata": {
        "colab": {
          "base_uri": "https://localhost:8080/",
          "height": 268
        },
        "id": "RZzr7EnIVJ_c",
        "outputId": "f162f4e8-edae-4181-ff4b-9b65404502fb"
      },
      "outputs": [
        {
          "name": "stdout",
          "output_type": "stream",
          "text": [
            "Drive already mounted at /content/drive; to attempt to forcibly remount, call drive.mount(\"/content/drive\", force_remount=True).\n",
            "(72134, 3)\n",
            "(72134, 2)\n"
          ]
        },
        {
          "name": "stderr",
          "output_type": "stream",
          "text": [
            "<ipython-input-30-ca2ef281cd03>:8: SettingWithCopyWarning: \n",
            "A value is trying to be set on a copy of a slice from a DataFrame\n",
            "\n",
            "See the caveats in the documentation: https://pandas.pydata.org/pandas-docs/stable/user_guide/indexing.html#returning-a-view-versus-a-copy\n",
            "  df[\"title\"].fillna('Null', inplace=True)\n"
          ]
        },
        {
          "data": {
            "application/vnd.google.colaboratory.intrinsic+json": {
              "summary": "{\n  \"name\": \"df\",\n  \"rows\": 2,\n  \"fields\": [\n    {\n      \"column\": 61370,\n      \"properties\": {\n        \"dtype\": \"string\",\n        \"num_unique_values\": 2,\n        \"samples\": [\n          1,\n          \"ARNOLD SCHWARZENEGGER Sends A Message To Liberals Whining About Trump [Video]\\n\\n\\n \"\n        ],\n        \"semantic_type\": \"\",\n        \"description\": \"\"\n      }\n    },\n    {\n      \"column\": 2189,\n      \"properties\": {\n        \"dtype\": \"string\",\n        \"num_unique_values\": 2,\n        \"samples\": [\n          1,\n          \"WOW! \\u201cWe Mexicans Need To Kill Donald Trump Before He Becomes President\\u2026Cross The Border And Go And Kill Trump And His Supporters\\u201d [VIDEO]\\n\\n\\nAnd now a message of peace and unity from one of our neighbors to the South:  We, Mexicans, have to kill Donald J. Trump before he becomes President. He is a threat to every single one of us. There are many Mexican Americans living in the U.S. right now and I m asking them to kill Donald Trump before he becomes President. The one in Mexico who have the means, I m asking you to cross the border and go and kill Donald Trump, and as many of his supporters as possible. Anywhere he goes just try to bomb the place, shoot up the place, do something. B..b but he looked like such a nice boy. Don t call him  illegal he just wanted a better life he s just a victim This punk isn t the only one threatening the life of Trump. Watch this video that exposes the truth about how the media ignores these threats:\"\n        ],\n        \"semantic_type\": \"\",\n        \"description\": \"\"\n      }\n    },\n    {\n      \"column\": 60609,\n      \"properties\": {\n        \"dtype\": \"string\",\n        \"num_unique_values\": 2,\n        \"samples\": [\n          0,\n          \"Jimmy Carter recovers from dehydration scare in Canada\\n\\n\\nWINNIPEG, Manitoba (Reuters) - Former U.S. President Jimmy Carter, appearing fully recovered from dehydration suffered while helping to build a home for charity in Canada, was released from an overnight hospital stay on Friday and addressed the project\\u2019s closing ceremony. Carter, 92, collapsed while working on Thursday at the Winnipeg construction site for Habitat for Humanity, which promotes affordable home ownership, and was taken to St. Boniface General Hospital for medical treatment and tests. By Friday morning, Carter was smiling as he returned to the building site to help kick off the project\\u2019s last day. Hours later, he and his wife, Rosalynn Carter, 89, attended closing ceremonies at the Canadian Museum for Human Rights in Manitoba\\u2019s capital, receiving a rousing ovation from the crowd. Dressed in blue jeans, a T-shirt and light-weight jacket, a relaxed, fit-looking Carter climbed a short flight of steps to the stage to salute Habitat\\u2019s members for their contributions. \\u201cI look upon all the volunteers, in a very sincere way, as human rights heroes, and I thank you for it,\\u201d he said, and joked that his \\u201cbringing attention to this Habitat project was completely unintentional.\\u201d The former first lady told the crowd her husband received a clean bill of health after an extensive battery of tests during his brief hospitalization, including from one test designed to detect heart damage. The results showed \\u201cthere has never been any kind of damage at all to Jimmy Carter\\u2019s heart,\\u201d she said. \\u201cI knew he had a good heart.\\u201d Thursday\\u2019s health scare generated an outpouring of support for Carter, a Democrat who served in the White House from January 1977 to January 1981 and has lived longer after his term in office than any other president in U.S. history. A high point of his presidency was Carter\\u2019s role in brokering the 1978 Camp David Accords that ushered in peace between Israel and Egypt.  But having left office profoundly unpopular, he is widely regarded as a better former president than he was a president, and received the Nobel Peace Prize in 2002 for his humanitarian work. Carter disclosed in August 2015 that he had been diagnosed with a form of skin cancer called melanoma that had spread to his brain and elsewhere and had been spotted during liver surgery. But months later, Carter told the Maranatha Baptist Church, where he teaches Sunday school in his home town of Plains, Georgia, that his latest brain scan showed no sign of the disease. Carter was in Canada for a project to build 150 new homes for needy families, celebrating the country\\u2019s 150th independence anniversary. \"\n        ],\n        \"semantic_type\": \"\",\n        \"description\": \"\"\n      }\n    },\n    {\n      \"column\": 51565,\n      \"properties\": {\n        \"dtype\": \"string\",\n        \"num_unique_values\": 2,\n        \"samples\": [\n          0,\n          \"2 Friars\\u2019 Mission: Reviving a Brooklyn Church in a Religious \\u2018Dead Zone\\u2019 - The New York Times\\n\\n\\nThe two Franciscan friars, complete with   robes, stood behind the bar outside the    church taking cash and slinging cans of Coors and    in Greenpoint, Brooklyn. Drinks in hand, over 200 people, many wearing black chokers, macram\\u00e9 bikini tops and denim overall shorts, crowded into the pews on a recent Thursday night, the pop of beer cans punctuating their arrival. But they were not waiting for a sermon  \\u2014   they were waiting for Josiah Wise, who goes by the name serpentwithfeet, an RB singer whose songs have heavy gospel overtones. This was not a typical church meeting, but the San Damiano Mission is no longer a typical church. On the brink of closing the church, the Diocese of Brooklyn called in the friars, Nicholas Spano, a deacon, and the Rev. Raphael Zwolenkiewicz, who are reintroducing Catholicism to the neighborhood in unconventional ways. \\u201cWe\\u2019re not here to be an invisible presence, but something very tangible,\\u201d Father Zwolenkiewicz, 65, said. \\u201cWhether it\\u2019s services in the church or out in front of the church just hanging out, or even on the corner, we\\u2019ll be in our vestments and saying hello to people as they walk by. \\u201d On the border of Williamsburg and Greenpoint, where Sunday Mass often takes a back seat to brunch and shopping, the church had seen its membership dwindle. \\u201cThat area in Brooklyn, like many other areas in the Brooklyn Diocese, is undergoing a dynamic change in demographics,\\u201d the Rev. Msgr. Joseph Grimaldi, the Brooklyn vicar for the diocese, said last month. \\u201cWilliamsburg is one of the largest areas that many millennials have settled in, and a good number of them are baptized Catholics, but have not really practiced their faith. \\u201d \\u201cWith 30 people, you can\\u2019t sustain a church,\\u201d Father Grimaldi said, \\u201cbut in this case we came up with a novel approach. \\u201d The friars, members of the First Order of St. Francis, took over the former Holy Family Slovak Church on Nassau Avenue in 2015. First, they changed its name to the San Damiano Mission. Then they looked around. Masses were still being celebrated when most of the neighborhood was asleep, and the oak doors were chained and padlocked much of the time. \\u201cAll of our images said, \\u2018We\\u2019re gone and closed,\\u2019\\u201d Mr. Spano, 35, said. They replaced the oak doors with glass ones. \\u201cThere\\u2019s a lot of foot traffic here Wednesday through Sunday between 10:30 p. m. and 4 a. m.,\\u201d Mr. Spano said. \\u201cTo have the church not look its best at that time doesn\\u2019t help us. \\u201d On a good Sunday, as many as 50 people now attend Mass. It is not a huge number, \\u201cbut it is a difference,\\u201d he said. St. Francis of Assisi was called upon by God to \\u201crebuild my church for it is in ruin,\\u201d Father Zwolenkiewicz said. \\u201cSo it\\u2019s the same idea that we were invited to come here and to reach out to the neighborhood and people who are here, to rejuvenate and to restore part of this community. \\u201d Mr. Spano developed proposals to turn the church into an arts hub and a focal point for the community. The friars wear their robes in public and can often be found running errands and grabbing their morning coffee in the neighborhood. Many are surprised to see the friars, they said, and some even mistake them for actors from a nearby film and television studio. They frequently attend the concerts put on by the Lot Radio station, which operates out of a converted shipping container across the street. The groups have joined forces to raise money to restore a $226, 000 pipe organ for the church by holding shows inside the mission, like the one featuring serpentwithfeet. Sabrina Tamar, 27, has lived near the mission for 10 years. \\u201cMost people weren\\u2019t aware of this at first, but there\\u2019s definitely a sense of community I feel hasn\\u2019t been in this neighborhood in a while,\\u201d she said before taking her seat at the concert. \\u201cIt\\u2019s wonderful. The friars are so tolerant and welcoming. \\u201d Other residents agreed. \\u201cThe friars know religion is a dead zone in this neighborhood, so if you want people to participate, you have to not preach,\\u201d one resident, Nikki Cohen, 30, said. She said she discovered the church through the radio station and the concert series. \\u201cThis is a social place,\\u201d she said, \\u201ca community place you can come and hang out. \\u201d For Aaron Sutula, the church beckoned. Mr. Sutula, 34, attends church only on Christmas. But he said he walked by one night and the mission was empty, but its lights were on, so he stepped inside and lit a candle. \\u201cMy grandfather had just died the year before,\\u201d Mr. Sutula said. \\u201cThey don\\u2019t have real candles because it\\u2019s New York City, so you just hit a button and it turns on the light. But it was nice. \\u201d The friars have also paired with a Lutheran church to offer some services to homeless people, including making showers and barbers available every other Monday at the mission. At a recent Sunday Mass, only about 25 people were in the pews. On this particular Sunday, a party at the Lot Radio the night before had kept some parishioners home from services, Mr. Spano said. Toward the end of the Mass, Mr. Spano made several announcements, including an update on the pipe organ. They hope to have it back by Easter, he said, though once the organ is reinstalled, the fog machine used for concerts will have to go.\"\n        ],\n        \"semantic_type\": \"\",\n        \"description\": \"\"\n      }\n    },\n    {\n      \"column\": 39431,\n      \"properties\": {\n        \"dtype\": \"string\",\n        \"num_unique_values\": 2,\n        \"samples\": [\n          1,\n          \"Boy With Autism Makes His First Friend Ever And His Mom Can\\u2019t Stop Crying\\n\\n\\nApproximately 1 in 68 children has an autism spectrum disorder, making the disorder more common than it used to be and a force to be reckoned with. There are even service dogs that are specially... \"\n        ],\n        \"semantic_type\": \"\",\n        \"description\": \"\"\n      }\n    }\n  ]\n}",
              "type": "dataframe"
            },
            "text/html": [
              "\n",
              "  <div id=\"df-ee4232bc-d5ef-48d6-a6b1-380b8beed646\" class=\"colab-df-container\">\n",
              "    <div>\n",
              "<style scoped>\n",
              "    .dataframe tbody tr th:only-of-type {\n",
              "        vertical-align: middle;\n",
              "    }\n",
              "\n",
              "    .dataframe tbody tr th {\n",
              "        vertical-align: top;\n",
              "    }\n",
              "\n",
              "    .dataframe thead th {\n",
              "        text-align: right;\n",
              "    }\n",
              "</style>\n",
              "<table border=\"1\" class=\"dataframe\">\n",
              "  <thead>\n",
              "    <tr style=\"text-align: right;\">\n",
              "      <th></th>\n",
              "      <th>61370</th>\n",
              "      <th>2189</th>\n",
              "      <th>60609</th>\n",
              "      <th>51565</th>\n",
              "      <th>39431</th>\n",
              "    </tr>\n",
              "  </thead>\n",
              "  <tbody>\n",
              "    <tr>\n",
              "      <th>title</th>\n",
              "      <td>ARNOLD SCHWARZENEGGER Sends A Message To Liber...</td>\n",
              "      <td>WOW! “We Mexicans Need To Kill Donald Trump Be...</td>\n",
              "      <td>Jimmy Carter recovers from dehydration scare i...</td>\n",
              "      <td>2 Friars’ Mission: Reviving a Brooklyn Church ...</td>\n",
              "      <td>Boy With Autism Makes His First Friend Ever An...</td>\n",
              "    </tr>\n",
              "    <tr>\n",
              "      <th>label</th>\n",
              "      <td>1</td>\n",
              "      <td>1</td>\n",
              "      <td>0</td>\n",
              "      <td>0</td>\n",
              "      <td>1</td>\n",
              "    </tr>\n",
              "  </tbody>\n",
              "</table>\n",
              "</div>\n",
              "    <div class=\"colab-df-buttons\">\n",
              "\n",
              "  <div class=\"colab-df-container\">\n",
              "    <button class=\"colab-df-convert\" onclick=\"convertToInteractive('df-ee4232bc-d5ef-48d6-a6b1-380b8beed646')\"\n",
              "            title=\"Convert this dataframe to an interactive table.\"\n",
              "            style=\"display:none;\">\n",
              "\n",
              "  <svg xmlns=\"http://www.w3.org/2000/svg\" height=\"24px\" viewBox=\"0 -960 960 960\">\n",
              "    <path d=\"M120-120v-720h720v720H120Zm60-500h600v-160H180v160Zm220 220h160v-160H400v160Zm0 220h160v-160H400v160ZM180-400h160v-160H180v160Zm440 0h160v-160H620v160ZM180-180h160v-160H180v160Zm440 0h160v-160H620v160Z\"/>\n",
              "  </svg>\n",
              "    </button>\n",
              "\n",
              "  <style>\n",
              "    .colab-df-container {\n",
              "      display:flex;\n",
              "      gap: 12px;\n",
              "    }\n",
              "\n",
              "    .colab-df-convert {\n",
              "      background-color: #E8F0FE;\n",
              "      border: none;\n",
              "      border-radius: 50%;\n",
              "      cursor: pointer;\n",
              "      display: none;\n",
              "      fill: #1967D2;\n",
              "      height: 32px;\n",
              "      padding: 0 0 0 0;\n",
              "      width: 32px;\n",
              "    }\n",
              "\n",
              "    .colab-df-convert:hover {\n",
              "      background-color: #E2EBFA;\n",
              "      box-shadow: 0px 1px 2px rgba(60, 64, 67, 0.3), 0px 1px 3px 1px rgba(60, 64, 67, 0.15);\n",
              "      fill: #174EA6;\n",
              "    }\n",
              "\n",
              "    .colab-df-buttons div {\n",
              "      margin-bottom: 4px;\n",
              "    }\n",
              "\n",
              "    [theme=dark] .colab-df-convert {\n",
              "      background-color: #3B4455;\n",
              "      fill: #D2E3FC;\n",
              "    }\n",
              "\n",
              "    [theme=dark] .colab-df-convert:hover {\n",
              "      background-color: #434B5C;\n",
              "      box-shadow: 0px 1px 3px 1px rgba(0, 0, 0, 0.15);\n",
              "      filter: drop-shadow(0px 1px 2px rgba(0, 0, 0, 0.3));\n",
              "      fill: #FFFFFF;\n",
              "    }\n",
              "  </style>\n",
              "\n",
              "    <script>\n",
              "      const buttonEl =\n",
              "        document.querySelector('#df-ee4232bc-d5ef-48d6-a6b1-380b8beed646 button.colab-df-convert');\n",
              "      buttonEl.style.display =\n",
              "        google.colab.kernel.accessAllowed ? 'block' : 'none';\n",
              "\n",
              "      async function convertToInteractive(key) {\n",
              "        const element = document.querySelector('#df-ee4232bc-d5ef-48d6-a6b1-380b8beed646');\n",
              "        const dataTable =\n",
              "          await google.colab.kernel.invokeFunction('convertToInteractive',\n",
              "                                                    [key], {});\n",
              "        if (!dataTable) return;\n",
              "\n",
              "        const docLinkHtml = 'Like what you see? Visit the ' +\n",
              "          '<a target=\"_blank\" href=https://colab.research.google.com/notebooks/data_table.ipynb>data table notebook</a>'\n",
              "          + ' to learn more about interactive tables.';\n",
              "        element.innerHTML = '';\n",
              "        dataTable['output_type'] = 'display_data';\n",
              "        await google.colab.output.renderOutput(dataTable, element);\n",
              "        const docLink = document.createElement('div');\n",
              "        docLink.innerHTML = docLinkHtml;\n",
              "        element.appendChild(docLink);\n",
              "      }\n",
              "    </script>\n",
              "  </div>\n",
              "\n",
              "\n",
              "<div id=\"df-8612a30d-83cb-4a6c-b38e-ff2b9dd68724\">\n",
              "  <button class=\"colab-df-quickchart\" onclick=\"quickchart('df-8612a30d-83cb-4a6c-b38e-ff2b9dd68724')\"\n",
              "            title=\"Suggest charts\"\n",
              "            style=\"display:none;\">\n",
              "\n",
              "<svg xmlns=\"http://www.w3.org/2000/svg\" height=\"24px\"viewBox=\"0 0 24 24\"\n",
              "     width=\"24px\">\n",
              "    <g>\n",
              "        <path d=\"M19 3H5c-1.1 0-2 .9-2 2v14c0 1.1.9 2 2 2h14c1.1 0 2-.9 2-2V5c0-1.1-.9-2-2-2zM9 17H7v-7h2v7zm4 0h-2V7h2v10zm4 0h-2v-4h2v4z\"/>\n",
              "    </g>\n",
              "</svg>\n",
              "  </button>\n",
              "\n",
              "<style>\n",
              "  .colab-df-quickchart {\n",
              "      --bg-color: #E8F0FE;\n",
              "      --fill-color: #1967D2;\n",
              "      --hover-bg-color: #E2EBFA;\n",
              "      --hover-fill-color: #174EA6;\n",
              "      --disabled-fill-color: #AAA;\n",
              "      --disabled-bg-color: #DDD;\n",
              "  }\n",
              "\n",
              "  [theme=dark] .colab-df-quickchart {\n",
              "      --bg-color: #3B4455;\n",
              "      --fill-color: #D2E3FC;\n",
              "      --hover-bg-color: #434B5C;\n",
              "      --hover-fill-color: #FFFFFF;\n",
              "      --disabled-bg-color: #3B4455;\n",
              "      --disabled-fill-color: #666;\n",
              "  }\n",
              "\n",
              "  .colab-df-quickchart {\n",
              "    background-color: var(--bg-color);\n",
              "    border: none;\n",
              "    border-radius: 50%;\n",
              "    cursor: pointer;\n",
              "    display: none;\n",
              "    fill: var(--fill-color);\n",
              "    height: 32px;\n",
              "    padding: 0;\n",
              "    width: 32px;\n",
              "  }\n",
              "\n",
              "  .colab-df-quickchart:hover {\n",
              "    background-color: var(--hover-bg-color);\n",
              "    box-shadow: 0 1px 2px rgba(60, 64, 67, 0.3), 0 1px 3px 1px rgba(60, 64, 67, 0.15);\n",
              "    fill: var(--button-hover-fill-color);\n",
              "  }\n",
              "\n",
              "  .colab-df-quickchart-complete:disabled,\n",
              "  .colab-df-quickchart-complete:disabled:hover {\n",
              "    background-color: var(--disabled-bg-color);\n",
              "    fill: var(--disabled-fill-color);\n",
              "    box-shadow: none;\n",
              "  }\n",
              "\n",
              "  .colab-df-spinner {\n",
              "    border: 2px solid var(--fill-color);\n",
              "    border-color: transparent;\n",
              "    border-bottom-color: var(--fill-color);\n",
              "    animation:\n",
              "      spin 1s steps(1) infinite;\n",
              "  }\n",
              "\n",
              "  @keyframes spin {\n",
              "    0% {\n",
              "      border-color: transparent;\n",
              "      border-bottom-color: var(--fill-color);\n",
              "      border-left-color: var(--fill-color);\n",
              "    }\n",
              "    20% {\n",
              "      border-color: transparent;\n",
              "      border-left-color: var(--fill-color);\n",
              "      border-top-color: var(--fill-color);\n",
              "    }\n",
              "    30% {\n",
              "      border-color: transparent;\n",
              "      border-left-color: var(--fill-color);\n",
              "      border-top-color: var(--fill-color);\n",
              "      border-right-color: var(--fill-color);\n",
              "    }\n",
              "    40% {\n",
              "      border-color: transparent;\n",
              "      border-right-color: var(--fill-color);\n",
              "      border-top-color: var(--fill-color);\n",
              "    }\n",
              "    60% {\n",
              "      border-color: transparent;\n",
              "      border-right-color: var(--fill-color);\n",
              "    }\n",
              "    80% {\n",
              "      border-color: transparent;\n",
              "      border-right-color: var(--fill-color);\n",
              "      border-bottom-color: var(--fill-color);\n",
              "    }\n",
              "    90% {\n",
              "      border-color: transparent;\n",
              "      border-bottom-color: var(--fill-color);\n",
              "    }\n",
              "  }\n",
              "</style>\n",
              "\n",
              "  <script>\n",
              "    async function quickchart(key) {\n",
              "      const quickchartButtonEl =\n",
              "        document.querySelector('#' + key + ' button');\n",
              "      quickchartButtonEl.disabled = true;  // To prevent multiple clicks.\n",
              "      quickchartButtonEl.classList.add('colab-df-spinner');\n",
              "      try {\n",
              "        const charts = await google.colab.kernel.invokeFunction(\n",
              "            'suggestCharts', [key], {});\n",
              "      } catch (error) {\n",
              "        console.error('Error during call to suggestCharts:', error);\n",
              "      }\n",
              "      quickchartButtonEl.classList.remove('colab-df-spinner');\n",
              "      quickchartButtonEl.classList.add('colab-df-quickchart-complete');\n",
              "    }\n",
              "    (() => {\n",
              "      let quickchartButtonEl =\n",
              "        document.querySelector('#df-8612a30d-83cb-4a6c-b38e-ff2b9dd68724 button');\n",
              "      quickchartButtonEl.style.display =\n",
              "        google.colab.kernel.accessAllowed ? 'block' : 'none';\n",
              "    })();\n",
              "  </script>\n",
              "</div>\n",
              "\n",
              "    </div>\n",
              "  </div>\n"
            ],
            "text/plain": [
              "                                                   61370  \\\n",
              "title  ARNOLD SCHWARZENEGGER Sends A Message To Liber...   \n",
              "label                                                  1   \n",
              "\n",
              "                                                   2189   \\\n",
              "title  WOW! “We Mexicans Need To Kill Donald Trump Be...   \n",
              "label                                                  1   \n",
              "\n",
              "                                                   60609  \\\n",
              "title  Jimmy Carter recovers from dehydration scare i...   \n",
              "label                                                  0   \n",
              "\n",
              "                                                   51565  \\\n",
              "title  2 Friars’ Mission: Reviving a Brooklyn Church ...   \n",
              "label                                                  0   \n",
              "\n",
              "                                                   39431  \n",
              "title  Boy With Autism Makes His First Friend Ever An...  \n",
              "label                                                  1  "
            ]
          },
          "execution_count": 30,
          "metadata": {},
          "output_type": "execute_result"
        }
      ],
      "source": [
        "from google.colab import drive\n",
        "drive.mount('/content/drive')\n",
        "df = pd.read_csv(\"/content/drive/MyDrive/Colab Notebooks/data/WELFake_Dataset.csv\").drop(['Unnamed: 0'], axis=1)\n",
        "print(df.shape)\n",
        "\n",
        "df['title'] = df['title'] + '\\n\\n\\n' + df['text']\n",
        "df = df[['title', 'label']]\n",
        "df[\"title\"].fillna('Null', inplace=True)\n",
        "# df = df[~df['title'].isnull()]\n",
        "print(df.shape)\n",
        "df.sample(5).T"
      ]
    },
    {
      "cell_type": "code",
      "execution_count": 31,
      "metadata": {
        "colab": {
          "base_uri": "https://localhost:8080/"
        },
        "id": "sY7begth8Eta",
        "outputId": "22927e1d-3c17-42c9-d6cf-de37279777c0"
      },
      "outputs": [
        {
          "name": "stdout",
          "output_type": "stream",
          "text": [
            "['Elon Musk’s Tesla Stock Up $2 Billion Since Joining Trump’s Team\\n\\n\\nAlthough Tesla CEO Elon Musk shocked Silicon Valley by breaking ranks to become an official member of the White House Manufacturing Jobs Initiative, the value of his Tesla stock is up by over $2 billion since the election of Donald Trump as President. [After a dizzying week of executive orders covering Obamacare, trade and immigration, President Trump held an approval rating of 55 percent of likely voters according to the Rasmussen Reports daily Presidential Tracking Poll. That is only slightly below the 59 percent level of President Obama when he left office.  Voters welcomed President Trump’s decision to scrap the   Partnership (TPP)   deal and agree that the North American Free Trade Agreement (NAFTA) with Mexico and Canada needs to be reworked. Although supporters argue free trade makes products cheaper for U. S. consumers, Americans believe  —   by a whopping 73 percent to 16 percent margin  —    it is more important to keep manufacturing jobs in the United States than keep prices low for U. S. consumers. Americans strongly believe in buying U. S. made goods. To emphasize which way the nation is moving, the White House announced the creation of a   Manufacturing Jobs Initiative to develop the “how best to promote job growth and get Americans back to work again. ” Participants include a number of Fortune 100 CEOs the   Deputy Chief of Staff, representing labor unions plus Elon Musk, Intel’s Brian Krzanich, and Michael Dell to represent  . Breitbart News reported earlier this week that Musk suffered huge Silicon Valley   after he lit up the blogosphere by tweeting that former ExxonMobil CEO Rex Tillerson “has the potential to be an excellent Sec of State. ” The left’s social justice warriors lashed out at Musk with vicious colorful language that cannot be reported. Rumors also flew that Musk was a   to support Trump in exchange for a carbon tax. Musk’s showing up on an official White House committee on January 27 generated another Twitter storm. But the latest comments were more mournful: “dude, what are you doing? You are losing #credibility by the minute. Come back to the #light ! ”. Musk replied, “Yeah, am hearing this from a lot of people  it’s getting me down. I’m just trying to make a positive contribution  hope good comes of it. ” But when it comes to U. S. employment and manufacturing, Musk’s companies are near or at the top as the   players. From a base of just 899 Tesla employees in 2010, Tesla now has roughly 25, 000 U. S. workers   SpaceX has 4, 000 U. S. employees   Gigafactory expects to hire 6, 500 American workers when completed and his development stage Hyperloop One has 200 employees. The Trump   Musk charm offensive has been a home run for Tesla. With analysts at Morgan Stanley and other Wall Street firms applauding the effort, Tesla’s stock price is up by 33 percent since the November 8 elections. Before Donald Trump became President, Musk already had amassed a $13. 2 billion net worth. The biggest piece of his fortune are the 33. 73 million Tesla shares and vested options exercisable within 60 days that amount to a 22. 5 percent ownership stake in the company. Since November 8, Musk’s net worth from Tesla alone is up by a stunning $2, 028, 000, 000, or over $2 billion rounded off.'\n",
            " 'Wharton Business School Backers Seek Distance From Donald Trump - The New York Times\\n\\n\\nDonald J. Trump often cites his undergraduate degree from University of Pennsylvania’s prestigious Wharton business school as evidence that he is a pretty smart guy and singularly qualified to be president. But some in the Wharton community would prefer the presumptive Republican presidential nominee simply leave his alma mater out of his campaign. In an open letter to Mr. Trump, Wharton backers wrote that they have been “deeply disappointed” in his candidacy and “outraged that an affiliation with our school is being used to legitimize prejudice and intolerance. ” “Although we do not aim to make any political endorsements with this letter, we do express our unequivocal stance against the xenophobia, sexism, racism, and other forms of bigotry that you have actively and implicitly endorsed in your campaign,” said the letter, which was posted to Medium. com and as of Monday morning carried the signatures of about 2, 000 Wharton students, alumni, faculty members and other supporters. For Mr. Trump, a 1968 graduate who saw some of his children later follow him to the school, Wharton has long held a special significance to him as the educational beginnings of his career in real estate. And it’s a credential that he has used to promote his intelligence, often remarking about how only the best students are accepted. Mr. Trump’s campaign spokeswoman did not respond to a request for comment on the letter. He has disputed assertions that he is prejudiced, saying that he is the “least racist person there is. ” A year ago, in the early stages of his presidential campaign, Mr. Trump plugged his education at Wharton to distinguish himself as the astute businessman in the crowded Republican field. “I’m really smart,” he said during a speech in Phoenix. “Went to the Wharton School of Finance. Even then, a long time ago, like the hardest, or one of the hardest, schools to get into. ” In the letter to Mr. Trump, the Wharton supporters said they “can understand why, in seeking America’s highest office, you have used your degree from Wharton to promote and lend legitimacy to your candidacy. ” The letter said that his presidential campaign afforded him the opportunity “to make the Wharton community even prouder of our school and values. ” But the letter asserted that Mr. Trump had squandered that chance by promoting intolerance toward a number of groups, contrary to the values of the diverse Wharton community. “We represent the groups that you have repeatedly denigrated, as well as their steadfast friends, family and allies,” the letter said. The letter closed with a wholesale rejection of Mr. Trump’s use of his “education at Wharton as a platform for promoting prejudice and intolerance. ”'\n",
            " 'Border Patrol Agents Arrest Smuggler After Rollover Crash\\n\\n\\nBorder Patrol agents from the Yuma and El Centro Sectors teamed up to arrest a human smuggler. The suspect fled and eventually crashed —  rolling the vehicle and injuring his passengers. [At about 4:25 a. m. on January 16, the agents observed six illegal aliens scale the international boundary fence located by a   plant in southern California, information obtained by Breitbart Texas from U. S. Customs and Border Protection officials revealed. The illegal entry was detected and witnessed by agents utilizing a monitoring camera system. The six migrants climbed into a white Acura Integra alongside Interstate 8.  The responding agents observed the suspected smuggler driving eastbound on the interstate. The driver of the white Acura suddenly took the Greys Well exit and abruptly   under an overpass. One of the agents from the Yuma Sector attempted to stop the Acura. The driver failed to yield and sped off. The agents from the Yuma Sector and the Calexico Stations eventually lost sight of the suspect’s vehicle. A continued search revealed the suspect had lost control of his car and rolled over. While the driver of the Acura refused medical attention, the six illegal aliens were transported to an area hospital. The migrants sustained minor,   threatening injuries. The driver, a U. S. citizen, was arrested and could face prosecution for human smuggling. The six illegal immigrants were turned over to the Yuma Sector agents. They will be processed according to the guidelines of the Yuma Sector, CBP officials stated. While the illegal aliens were able to scale the fence near the   plant, technology enabled agents respond tactically. The use of fencing and camera technology enables agents to more efficiently be dispatched to actual illegal border crossings and drug smuggling incidents. Bob Price serves as associate editor and senior political news contributor for Breitbart Texas. He is a founding member of the Breitbart Texas team. Follow him on Twitter @BobPriceBBTX.']\n"
          ]
        }
      ],
      "source": [
        "# split test and training dataset\n",
        "x_train, x_test, y_train, y_test = train_test_split(df[\"title\"], df[\"label\"], test_size=0.2, shuffle=True, random_state=42)\n",
        "print(x_train.values[0:3])"
      ]
    },
    {
      "cell_type": "code",
      "execution_count": 32,
      "metadata": {
        "colab": {
          "base_uri": "https://localhost:8080/"
        },
        "id": "D5P_SvIlZCLS",
        "outputId": "87f918ad-cc87-4f97-9d54-c83eedc16e80"
      },
      "outputs": [
        {
          "name": "stdout",
          "output_type": "stream",
          "text": [
            "                                                   title  label\n",
            "60264  Elon Musk’s Tesla Stock Up $2 Billion Since Jo...      0\n",
            "42050  Wharton Business School Backers Seek Distance ...      0\n",
            "62289  Border Patrol Agents Arrest Smuggler After Rol...      0\n",
            "Dataset(features: {'title': Value(dtype='string', id=None), 'label': Value(dtype='int64', id=None), '__index_level_0__': Value(dtype='int64', id=None)}, num_rows: 57707)\n"
          ]
        }
      ],
      "source": [
        "# prepare dataset for training\n",
        "df_train = pd.DataFrame(columns=[\"title\", \"label\"])\n",
        "df_test = pd.DataFrame(columns=[\"title\", \"label\"])\n",
        "df_train[\"title\"] = x_train\n",
        "df_train[\"label\"] = y_train\n",
        "df_test[\"title\"] = x_test\n",
        "df_test[\"label\"] = y_test\n",
        "print(df_train[0:3])\n",
        "\n",
        "df_train = Dataset.from_pandas(df_train)\n",
        "df_test = Dataset.from_pandas(df_test)\n",
        "print(df_train)"
      ]
    },
    {
      "cell_type": "code",
      "execution_count": 33,
      "metadata": {
        "colab": {
          "base_uri": "https://localhost:8080/",
          "height": 81,
          "referenced_widgets": [
            "554c50cae6bc46d98dc91dd74b952aba",
            "2fc8686fa60f4049bac78a06507dd97c",
            "927569e0e30d498fa0dd39d6d4210676",
            "02ab28f4f7684c00b3f99a4bba127dbe",
            "67470f31cf7a425b9256b96f01558c10",
            "bca61c3348fb4b32949e3715976c2cf0",
            "fb29fa77b5c14300886f6b4cc813620a",
            "2535c41dc58446989d44c22a15a1b587",
            "841066f04eee41bb83a9216fe630b939",
            "0af865dc3716491891faeea6c41f88c8",
            "92f9aa777f0540f2aebd2749238424c9",
            "5072bdced5bd4c0dbccb4f3301273f15",
            "33f76be426e24a93800b5ff45e64034d",
            "b38b6ca913ec40a0815af556f6696d10",
            "a9213725ab964b62b4a64053d03a6ee3",
            "8f797711188248538a29c6b1231f551b",
            "b47a5cc1be4a45218324c39101c82c7f",
            "28a06f52a04141a4ba97fc023b60a231",
            "cbe46c55e67b42ea8263319389963f8a",
            "7450744dce594c02b0d1eb0df9b96ad0",
            "f9998d9529d54bdb910a8416809f4ad7",
            "d3020982095c4eaa9bd5c91a4e9f1968"
          ]
        },
        "id": "3mW6veDR40EW",
        "outputId": "95a87ef3-102c-473e-dd9b-7e7edba071f5"
      },
      "outputs": [
        {
          "data": {
            "application/vnd.jupyter.widget-view+json": {
              "model_id": "554c50cae6bc46d98dc91dd74b952aba",
              "version_major": 2,
              "version_minor": 0
            },
            "text/plain": [
              "  0%|          | 0/58 [00:00<?, ?it/s]"
            ]
          },
          "metadata": {},
          "output_type": "display_data"
        },
        {
          "data": {
            "application/vnd.jupyter.widget-view+json": {
              "model_id": "5072bdced5bd4c0dbccb4f3301273f15",
              "version_major": 2,
              "version_minor": 0
            },
            "text/plain": [
              "  0%|          | 0/15 [00:00<?, ?it/s]"
            ]
          },
          "metadata": {},
          "output_type": "display_data"
        }
      ],
      "source": [
        "model_checkpoint = \"google/bert_uncased_L-2_H-128_A-2\"\n",
        "max_len = 512\n",
        "\n",
        "tokenizer = AutoTokenizer.from_pretrained(model_checkpoint, use_fast=True)\n",
        "\n",
        "def preprocess_function(examples):\n",
        "    return tokenizer(examples[\"title\"], max_length=max_len, padding=\"max_length\", truncation=True)\n",
        "\n",
        "df_train = df_train.map(preprocess_function, batched=True)\n",
        "df_test = df_test.map(preprocess_function, batched=True)\n"
      ]
    },
    {
      "cell_type": "code",
      "execution_count": 34,
      "metadata": {
        "colab": {
          "base_uri": "https://localhost:8080/"
        },
        "id": "EswPRa709vuW",
        "outputId": "7d81645e-e3ec-4f50-baf0-426b3d25cd3c"
      },
      "outputs": [
        {
          "name": "stderr",
          "output_type": "stream",
          "text": [
            "Some weights of BertForSequenceClassification were not initialized from the model checkpoint at google/bert_uncased_L-2_H-128_A-2 and are newly initialized: ['classifier.bias', 'classifier.weight']\n",
            "You should probably TRAIN this model on a down-stream task to be able to use it for predictions and inference.\n"
          ]
        },
        {
          "data": {
            "text/plain": [
              "Embedding(30522, 128, padding_idx=0)"
            ]
          },
          "execution_count": 34,
          "metadata": {},
          "output_type": "execute_result"
        }
      ],
      "source": [
        "# model = AutoModelForSequenceClassification.from_pretrained(model_checkpoint, num_labels=2, hidden_dropout_prob=0.1, attention_probs_dropout_prob=0.1)\n",
        "model = AutoModelForSequenceClassification.from_pretrained(model_checkpoint, num_labels=2, hidden_dropout_prob=0.1)\n",
        "model.resize_token_embeddings(len(tokenizer)) # need to resize due to new tokens added"
      ]
    },
    {
      "cell_type": "code",
      "execution_count": 35,
      "metadata": {
        "id": "LD_get9F93ML"
      },
      "outputs": [],
      "source": [
        "# metric_name = 'f1'\n",
        "metric_name = 'accuracy'\n",
        "model_name = model_checkpoint.split(\"/\")[-1]\n",
        "\n",
        "args = TrainingArguments(\n",
        "    f\"./snapshots/{model_name}-finetuned\",\n",
        "    evaluation_strategy = \"epoch\",\n",
        "    save_strategy = \"epoch\",\n",
        "    save_total_limit = 3,\n",
        "    learning_rate=0.005,\n",
        "    # learning_rate=2e-5,\n",
        "    per_device_train_batch_size=8,\n",
        "    per_device_eval_batch_size=8,\n",
        "    num_train_epochs=2,\n",
        "    weight_decay=0.01,\n",
        "    load_best_model_at_end=True,\n",
        "    metric_for_best_model=metric_name,\n",
        "    push_to_hub=False,\n",
        "    fp16=True\n",
        ")"
      ]
    },
    {
      "cell_type": "code",
      "execution_count": 36,
      "metadata": {
        "id": "jTzCI1e7-BYG"
      },
      "outputs": [],
      "source": [
        "# Computation of evaluation metric\n",
        "metric = evaluate.load(metric_name)\n",
        "\n",
        "def compute_metrics(eval_pred):\n",
        "    predictions, labels = eval_pred\n",
        "    predictions = np.argmax(predictions, axis=-1)\n",
        "    # for f1 metric\n",
        "    # return metric.compute(predictions=predictions, references=labels, average=\"micro\")\n",
        "    # for accuracy metric\n",
        "    return metric.compute(predictions=predictions, references=labels)\n"
      ]
    },
    {
      "cell_type": "code",
      "execution_count": 37,
      "metadata": {
        "colab": {
          "base_uri": "https://localhost:8080/"
        },
        "id": "fR_gakQy-FSW",
        "outputId": "9fc927fe-0181-4ddf-896e-c81572016a9f"
      },
      "outputs": [
        {
          "name": "stderr",
          "output_type": "stream",
          "text": [
            "/usr/local/lib/python3.10/dist-packages/accelerate/accelerator.py:436: FutureWarning: Passing the following arguments to `Accelerator` is deprecated and will be removed in version 1.0 of Accelerate: dict_keys(['dispatch_batches', 'split_batches', 'even_batches', 'use_seedable_sampler']). Please pass an `accelerate.DataLoaderConfiguration` instead: \n",
            "dataloader_config = DataLoaderConfiguration(dispatch_batches=None, split_batches=False, even_batches=True, use_seedable_sampler=True)\n",
            "  warnings.warn(\n"
          ]
        }
      ],
      "source": [
        "trainer = Trainer(\n",
        "    model,\n",
        "    args,\n",
        "    train_dataset=df_train,\n",
        "    eval_dataset=df_test,\n",
        "    tokenizer=tokenizer,\n",
        "    compute_metrics=compute_metrics\n",
        ")"
      ]
    },
    {
      "cell_type": "code",
      "execution_count": 38,
      "metadata": {
        "colab": {
          "base_uri": "https://localhost:8080/",
          "height": 138
        },
        "id": "YL5hdoih-Kmq",
        "outputId": "f14c3266-e6ac-4af5-e8aa-16c74f51e1e6"
      },
      "outputs": [
        {
          "data": {
            "text/html": [
              "\n",
              "    <div>\n",
              "      \n",
              "      <progress value='14428' max='14428' style='width:300px; height:20px; vertical-align: middle;'></progress>\n",
              "      [14428/14428 06:18, Epoch 2/2]\n",
              "    </div>\n",
              "    <table border=\"1\" class=\"dataframe\">\n",
              "  <thead>\n",
              " <tr style=\"text-align: left;\">\n",
              "      <th>Epoch</th>\n",
              "      <th>Training Loss</th>\n",
              "      <th>Validation Loss</th>\n",
              "      <th>Accuracy</th>\n",
              "    </tr>\n",
              "  </thead>\n",
              "  <tbody>\n",
              "    <tr>\n",
              "      <td>1</td>\n",
              "      <td>0.718400</td>\n",
              "      <td>0.737190</td>\n",
              "      <td>0.508630</td>\n",
              "    </tr>\n",
              "    <tr>\n",
              "      <td>2</td>\n",
              "      <td>0.700000</td>\n",
              "      <td>0.692867</td>\n",
              "      <td>0.508630</td>\n",
              "    </tr>\n",
              "  </tbody>\n",
              "</table><p>"
            ],
            "text/plain": [
              "<IPython.core.display.HTML object>"
            ]
          },
          "metadata": {},
          "output_type": "display_data"
        }
      ],
      "source": [
        "train_log = trainer.train()"
      ]
    },
    {
      "cell_type": "code",
      "execution_count": 39,
      "metadata": {
        "colab": {
          "base_uri": "https://localhost:8080/",
          "height": 141
        },
        "id": "ZlHMh8Qlg0Fs",
        "outputId": "19c91dba-a647-4c46-cae8-ecc77aa3192a"
      },
      "outputs": [
        {
          "data": {
            "text/html": [
              "\n",
              "    <div>\n",
              "      \n",
              "      <progress value='1804' max='1804' style='width:300px; height:20px; vertical-align: middle;'></progress>\n",
              "      [1804/1804 00:25]\n",
              "    </div>\n",
              "    "
            ],
            "text/plain": [
              "<IPython.core.display.HTML object>"
            ]
          },
          "metadata": {},
          "output_type": "display_data"
        },
        {
          "data": {
            "text/plain": [
              "{'eval_loss': 0.737189531326294,\n",
              " 'eval_accuracy': 0.5086296527344563,\n",
              " 'eval_runtime': 25.3091,\n",
              " 'eval_samples_per_second': 570.032,\n",
              " 'eval_steps_per_second': 71.279,\n",
              " 'epoch': 2.0}"
            ]
          },
          "execution_count": 39,
          "metadata": {},
          "output_type": "execute_result"
        }
      ],
      "source": [
        "trainer.evaluate()"
      ]
    },
    {
      "cell_type": "code",
      "execution_count": 40,
      "metadata": {
        "colab": {
          "base_uri": "https://localhost:8080/"
        },
        "id": "wmfwQdBy-OlR",
        "outputId": "b31ce51c-2dc3-4b4a-ca6c-7e6bfe0e1dad"
      },
      "outputs": [
        {
          "name": "stdout",
          "output_type": "stream",
          "text": [
            "{'accuracy': 0.5086296527344563}\n"
          ]
        }
      ],
      "source": [
        "classifier = pipeline(\"text-classification\", model=model, tokenizer=tokenizer, device=\"cuda:0\")\n",
        "results = classifier(df_test[\"title\"], max_length=max_len, padding=\"max_length\", truncation=True)\n",
        "dfResults = pd.DataFrame.from_dict(results)\n",
        "dfResults['label'] = dfResults['label'].str.replace('LABEL_','')\n",
        "metric = metric.compute(predictions=dfResults['label'].tolist(), references=df_test[\"label\"])\n",
        "print(metric)"
      ]
    }
  ],
  "metadata": {
    "accelerator": "GPU",
    "colab": {
      "gpuType": "T4",
      "provenance": []
    },
    "kernelspec": {
      "display_name": "Python 3",
      "name": "python3"
    },
    "language_info": {
      "name": "python"
    },
    "widgets": {
      "application/vnd.jupyter.widget-state+json": {
        "02ab28f4f7684c00b3f99a4bba127dbe": {
          "model_module": "@jupyter-widgets/controls",
          "model_module_version": "1.5.0",
          "model_name": "HTMLModel",
          "state": {
            "_dom_classes": [],
            "_model_module": "@jupyter-widgets/controls",
            "_model_module_version": "1.5.0",
            "_model_name": "HTMLModel",
            "_view_count": null,
            "_view_module": "@jupyter-widgets/controls",
            "_view_module_version": "1.5.0",
            "_view_name": "HTMLView",
            "description": "",
            "description_tooltip": null,
            "layout": "IPY_MODEL_0af865dc3716491891faeea6c41f88c8",
            "placeholder": "​",
            "style": "IPY_MODEL_92f9aa777f0540f2aebd2749238424c9",
            "value": " 58/58 [03:52&lt;00:00,  3.42s/it]"
          }
        },
        "0af865dc3716491891faeea6c41f88c8": {
          "model_module": "@jupyter-widgets/base",
          "model_module_version": "1.2.0",
          "model_name": "LayoutModel",
          "state": {
            "_model_module": "@jupyter-widgets/base",
            "_model_module_version": "1.2.0",
            "_model_name": "LayoutModel",
            "_view_count": null,
            "_view_module": "@jupyter-widgets/base",
            "_view_module_version": "1.2.0",
            "_view_name": "LayoutView",
            "align_content": null,
            "align_items": null,
            "align_self": null,
            "border": null,
            "bottom": null,
            "display": null,
            "flex": null,
            "flex_flow": null,
            "grid_area": null,
            "grid_auto_columns": null,
            "grid_auto_flow": null,
            "grid_auto_rows": null,
            "grid_column": null,
            "grid_gap": null,
            "grid_row": null,
            "grid_template_areas": null,
            "grid_template_columns": null,
            "grid_template_rows": null,
            "height": null,
            "justify_content": null,
            "justify_items": null,
            "left": null,
            "margin": null,
            "max_height": null,
            "max_width": null,
            "min_height": null,
            "min_width": null,
            "object_fit": null,
            "object_position": null,
            "order": null,
            "overflow": null,
            "overflow_x": null,
            "overflow_y": null,
            "padding": null,
            "right": null,
            "top": null,
            "visibility": null,
            "width": null
          }
        },
        "2535c41dc58446989d44c22a15a1b587": {
          "model_module": "@jupyter-widgets/base",
          "model_module_version": "1.2.0",
          "model_name": "LayoutModel",
          "state": {
            "_model_module": "@jupyter-widgets/base",
            "_model_module_version": "1.2.0",
            "_model_name": "LayoutModel",
            "_view_count": null,
            "_view_module": "@jupyter-widgets/base",
            "_view_module_version": "1.2.0",
            "_view_name": "LayoutView",
            "align_content": null,
            "align_items": null,
            "align_self": null,
            "border": null,
            "bottom": null,
            "display": null,
            "flex": null,
            "flex_flow": null,
            "grid_area": null,
            "grid_auto_columns": null,
            "grid_auto_flow": null,
            "grid_auto_rows": null,
            "grid_column": null,
            "grid_gap": null,
            "grid_row": null,
            "grid_template_areas": null,
            "grid_template_columns": null,
            "grid_template_rows": null,
            "height": null,
            "justify_content": null,
            "justify_items": null,
            "left": null,
            "margin": null,
            "max_height": null,
            "max_width": null,
            "min_height": null,
            "min_width": null,
            "object_fit": null,
            "object_position": null,
            "order": null,
            "overflow": null,
            "overflow_x": null,
            "overflow_y": null,
            "padding": null,
            "right": null,
            "top": null,
            "visibility": null,
            "width": null
          }
        },
        "28a06f52a04141a4ba97fc023b60a231": {
          "model_module": "@jupyter-widgets/controls",
          "model_module_version": "1.5.0",
          "model_name": "DescriptionStyleModel",
          "state": {
            "_model_module": "@jupyter-widgets/controls",
            "_model_module_version": "1.5.0",
            "_model_name": "DescriptionStyleModel",
            "_view_count": null,
            "_view_module": "@jupyter-widgets/base",
            "_view_module_version": "1.2.0",
            "_view_name": "StyleView",
            "description_width": ""
          }
        },
        "2fc8686fa60f4049bac78a06507dd97c": {
          "model_module": "@jupyter-widgets/controls",
          "model_module_version": "1.5.0",
          "model_name": "HTMLModel",
          "state": {
            "_dom_classes": [],
            "_model_module": "@jupyter-widgets/controls",
            "_model_module_version": "1.5.0",
            "_model_name": "HTMLModel",
            "_view_count": null,
            "_view_module": "@jupyter-widgets/controls",
            "_view_module_version": "1.5.0",
            "_view_name": "HTMLView",
            "description": "",
            "description_tooltip": null,
            "layout": "IPY_MODEL_bca61c3348fb4b32949e3715976c2cf0",
            "placeholder": "​",
            "style": "IPY_MODEL_fb29fa77b5c14300886f6b4cc813620a",
            "value": "100%"
          }
        },
        "33f76be426e24a93800b5ff45e64034d": {
          "model_module": "@jupyter-widgets/controls",
          "model_module_version": "1.5.0",
          "model_name": "HTMLModel",
          "state": {
            "_dom_classes": [],
            "_model_module": "@jupyter-widgets/controls",
            "_model_module_version": "1.5.0",
            "_model_name": "HTMLModel",
            "_view_count": null,
            "_view_module": "@jupyter-widgets/controls",
            "_view_module_version": "1.5.0",
            "_view_name": "HTMLView",
            "description": "",
            "description_tooltip": null,
            "layout": "IPY_MODEL_b47a5cc1be4a45218324c39101c82c7f",
            "placeholder": "​",
            "style": "IPY_MODEL_28a06f52a04141a4ba97fc023b60a231",
            "value": "100%"
          }
        },
        "5072bdced5bd4c0dbccb4f3301273f15": {
          "model_module": "@jupyter-widgets/controls",
          "model_module_version": "1.5.0",
          "model_name": "HBoxModel",
          "state": {
            "_dom_classes": [],
            "_model_module": "@jupyter-widgets/controls",
            "_model_module_version": "1.5.0",
            "_model_name": "HBoxModel",
            "_view_count": null,
            "_view_module": "@jupyter-widgets/controls",
            "_view_module_version": "1.5.0",
            "_view_name": "HBoxView",
            "box_style": "",
            "children": [
              "IPY_MODEL_33f76be426e24a93800b5ff45e64034d",
              "IPY_MODEL_b38b6ca913ec40a0815af556f6696d10",
              "IPY_MODEL_a9213725ab964b62b4a64053d03a6ee3"
            ],
            "layout": "IPY_MODEL_8f797711188248538a29c6b1231f551b"
          }
        },
        "554c50cae6bc46d98dc91dd74b952aba": {
          "model_module": "@jupyter-widgets/controls",
          "model_module_version": "1.5.0",
          "model_name": "HBoxModel",
          "state": {
            "_dom_classes": [],
            "_model_module": "@jupyter-widgets/controls",
            "_model_module_version": "1.5.0",
            "_model_name": "HBoxModel",
            "_view_count": null,
            "_view_module": "@jupyter-widgets/controls",
            "_view_module_version": "1.5.0",
            "_view_name": "HBoxView",
            "box_style": "",
            "children": [
              "IPY_MODEL_2fc8686fa60f4049bac78a06507dd97c",
              "IPY_MODEL_927569e0e30d498fa0dd39d6d4210676",
              "IPY_MODEL_02ab28f4f7684c00b3f99a4bba127dbe"
            ],
            "layout": "IPY_MODEL_67470f31cf7a425b9256b96f01558c10"
          }
        },
        "67470f31cf7a425b9256b96f01558c10": {
          "model_module": "@jupyter-widgets/base",
          "model_module_version": "1.2.0",
          "model_name": "LayoutModel",
          "state": {
            "_model_module": "@jupyter-widgets/base",
            "_model_module_version": "1.2.0",
            "_model_name": "LayoutModel",
            "_view_count": null,
            "_view_module": "@jupyter-widgets/base",
            "_view_module_version": "1.2.0",
            "_view_name": "LayoutView",
            "align_content": null,
            "align_items": null,
            "align_self": null,
            "border": null,
            "bottom": null,
            "display": null,
            "flex": null,
            "flex_flow": null,
            "grid_area": null,
            "grid_auto_columns": null,
            "grid_auto_flow": null,
            "grid_auto_rows": null,
            "grid_column": null,
            "grid_gap": null,
            "grid_row": null,
            "grid_template_areas": null,
            "grid_template_columns": null,
            "grid_template_rows": null,
            "height": null,
            "justify_content": null,
            "justify_items": null,
            "left": null,
            "margin": null,
            "max_height": null,
            "max_width": null,
            "min_height": null,
            "min_width": null,
            "object_fit": null,
            "object_position": null,
            "order": null,
            "overflow": null,
            "overflow_x": null,
            "overflow_y": null,
            "padding": null,
            "right": null,
            "top": null,
            "visibility": null,
            "width": null
          }
        },
        "7450744dce594c02b0d1eb0df9b96ad0": {
          "model_module": "@jupyter-widgets/controls",
          "model_module_version": "1.5.0",
          "model_name": "ProgressStyleModel",
          "state": {
            "_model_module": "@jupyter-widgets/controls",
            "_model_module_version": "1.5.0",
            "_model_name": "ProgressStyleModel",
            "_view_count": null,
            "_view_module": "@jupyter-widgets/base",
            "_view_module_version": "1.2.0",
            "_view_name": "StyleView",
            "bar_color": null,
            "description_width": ""
          }
        },
        "841066f04eee41bb83a9216fe630b939": {
          "model_module": "@jupyter-widgets/controls",
          "model_module_version": "1.5.0",
          "model_name": "ProgressStyleModel",
          "state": {
            "_model_module": "@jupyter-widgets/controls",
            "_model_module_version": "1.5.0",
            "_model_name": "ProgressStyleModel",
            "_view_count": null,
            "_view_module": "@jupyter-widgets/base",
            "_view_module_version": "1.2.0",
            "_view_name": "StyleView",
            "bar_color": null,
            "description_width": ""
          }
        },
        "8f797711188248538a29c6b1231f551b": {
          "model_module": "@jupyter-widgets/base",
          "model_module_version": "1.2.0",
          "model_name": "LayoutModel",
          "state": {
            "_model_module": "@jupyter-widgets/base",
            "_model_module_version": "1.2.0",
            "_model_name": "LayoutModel",
            "_view_count": null,
            "_view_module": "@jupyter-widgets/base",
            "_view_module_version": "1.2.0",
            "_view_name": "LayoutView",
            "align_content": null,
            "align_items": null,
            "align_self": null,
            "border": null,
            "bottom": null,
            "display": null,
            "flex": null,
            "flex_flow": null,
            "grid_area": null,
            "grid_auto_columns": null,
            "grid_auto_flow": null,
            "grid_auto_rows": null,
            "grid_column": null,
            "grid_gap": null,
            "grid_row": null,
            "grid_template_areas": null,
            "grid_template_columns": null,
            "grid_template_rows": null,
            "height": null,
            "justify_content": null,
            "justify_items": null,
            "left": null,
            "margin": null,
            "max_height": null,
            "max_width": null,
            "min_height": null,
            "min_width": null,
            "object_fit": null,
            "object_position": null,
            "order": null,
            "overflow": null,
            "overflow_x": null,
            "overflow_y": null,
            "padding": null,
            "right": null,
            "top": null,
            "visibility": null,
            "width": null
          }
        },
        "927569e0e30d498fa0dd39d6d4210676": {
          "model_module": "@jupyter-widgets/controls",
          "model_module_version": "1.5.0",
          "model_name": "FloatProgressModel",
          "state": {
            "_dom_classes": [],
            "_model_module": "@jupyter-widgets/controls",
            "_model_module_version": "1.5.0",
            "_model_name": "FloatProgressModel",
            "_view_count": null,
            "_view_module": "@jupyter-widgets/controls",
            "_view_module_version": "1.5.0",
            "_view_name": "ProgressView",
            "bar_style": "success",
            "description": "",
            "description_tooltip": null,
            "layout": "IPY_MODEL_2535c41dc58446989d44c22a15a1b587",
            "max": 58,
            "min": 0,
            "orientation": "horizontal",
            "style": "IPY_MODEL_841066f04eee41bb83a9216fe630b939",
            "value": 58
          }
        },
        "92f9aa777f0540f2aebd2749238424c9": {
          "model_module": "@jupyter-widgets/controls",
          "model_module_version": "1.5.0",
          "model_name": "DescriptionStyleModel",
          "state": {
            "_model_module": "@jupyter-widgets/controls",
            "_model_module_version": "1.5.0",
            "_model_name": "DescriptionStyleModel",
            "_view_count": null,
            "_view_module": "@jupyter-widgets/base",
            "_view_module_version": "1.2.0",
            "_view_name": "StyleView",
            "description_width": ""
          }
        },
        "a9213725ab964b62b4a64053d03a6ee3": {
          "model_module": "@jupyter-widgets/controls",
          "model_module_version": "1.5.0",
          "model_name": "HTMLModel",
          "state": {
            "_dom_classes": [],
            "_model_module": "@jupyter-widgets/controls",
            "_model_module_version": "1.5.0",
            "_model_name": "HTMLModel",
            "_view_count": null,
            "_view_module": "@jupyter-widgets/controls",
            "_view_module_version": "1.5.0",
            "_view_name": "HTMLView",
            "description": "",
            "description_tooltip": null,
            "layout": "IPY_MODEL_f9998d9529d54bdb910a8416809f4ad7",
            "placeholder": "​",
            "style": "IPY_MODEL_d3020982095c4eaa9bd5c91a4e9f1968",
            "value": " 15/15 [00:53&lt;00:00,  3.05s/it]"
          }
        },
        "b38b6ca913ec40a0815af556f6696d10": {
          "model_module": "@jupyter-widgets/controls",
          "model_module_version": "1.5.0",
          "model_name": "FloatProgressModel",
          "state": {
            "_dom_classes": [],
            "_model_module": "@jupyter-widgets/controls",
            "_model_module_version": "1.5.0",
            "_model_name": "FloatProgressModel",
            "_view_count": null,
            "_view_module": "@jupyter-widgets/controls",
            "_view_module_version": "1.5.0",
            "_view_name": "ProgressView",
            "bar_style": "success",
            "description": "",
            "description_tooltip": null,
            "layout": "IPY_MODEL_cbe46c55e67b42ea8263319389963f8a",
            "max": 15,
            "min": 0,
            "orientation": "horizontal",
            "style": "IPY_MODEL_7450744dce594c02b0d1eb0df9b96ad0",
            "value": 15
          }
        },
        "b47a5cc1be4a45218324c39101c82c7f": {
          "model_module": "@jupyter-widgets/base",
          "model_module_version": "1.2.0",
          "model_name": "LayoutModel",
          "state": {
            "_model_module": "@jupyter-widgets/base",
            "_model_module_version": "1.2.0",
            "_model_name": "LayoutModel",
            "_view_count": null,
            "_view_module": "@jupyter-widgets/base",
            "_view_module_version": "1.2.0",
            "_view_name": "LayoutView",
            "align_content": null,
            "align_items": null,
            "align_self": null,
            "border": null,
            "bottom": null,
            "display": null,
            "flex": null,
            "flex_flow": null,
            "grid_area": null,
            "grid_auto_columns": null,
            "grid_auto_flow": null,
            "grid_auto_rows": null,
            "grid_column": null,
            "grid_gap": null,
            "grid_row": null,
            "grid_template_areas": null,
            "grid_template_columns": null,
            "grid_template_rows": null,
            "height": null,
            "justify_content": null,
            "justify_items": null,
            "left": null,
            "margin": null,
            "max_height": null,
            "max_width": null,
            "min_height": null,
            "min_width": null,
            "object_fit": null,
            "object_position": null,
            "order": null,
            "overflow": null,
            "overflow_x": null,
            "overflow_y": null,
            "padding": null,
            "right": null,
            "top": null,
            "visibility": null,
            "width": null
          }
        },
        "bca61c3348fb4b32949e3715976c2cf0": {
          "model_module": "@jupyter-widgets/base",
          "model_module_version": "1.2.0",
          "model_name": "LayoutModel",
          "state": {
            "_model_module": "@jupyter-widgets/base",
            "_model_module_version": "1.2.0",
            "_model_name": "LayoutModel",
            "_view_count": null,
            "_view_module": "@jupyter-widgets/base",
            "_view_module_version": "1.2.0",
            "_view_name": "LayoutView",
            "align_content": null,
            "align_items": null,
            "align_self": null,
            "border": null,
            "bottom": null,
            "display": null,
            "flex": null,
            "flex_flow": null,
            "grid_area": null,
            "grid_auto_columns": null,
            "grid_auto_flow": null,
            "grid_auto_rows": null,
            "grid_column": null,
            "grid_gap": null,
            "grid_row": null,
            "grid_template_areas": null,
            "grid_template_columns": null,
            "grid_template_rows": null,
            "height": null,
            "justify_content": null,
            "justify_items": null,
            "left": null,
            "margin": null,
            "max_height": null,
            "max_width": null,
            "min_height": null,
            "min_width": null,
            "object_fit": null,
            "object_position": null,
            "order": null,
            "overflow": null,
            "overflow_x": null,
            "overflow_y": null,
            "padding": null,
            "right": null,
            "top": null,
            "visibility": null,
            "width": null
          }
        },
        "cbe46c55e67b42ea8263319389963f8a": {
          "model_module": "@jupyter-widgets/base",
          "model_module_version": "1.2.0",
          "model_name": "LayoutModel",
          "state": {
            "_model_module": "@jupyter-widgets/base",
            "_model_module_version": "1.2.0",
            "_model_name": "LayoutModel",
            "_view_count": null,
            "_view_module": "@jupyter-widgets/base",
            "_view_module_version": "1.2.0",
            "_view_name": "LayoutView",
            "align_content": null,
            "align_items": null,
            "align_self": null,
            "border": null,
            "bottom": null,
            "display": null,
            "flex": null,
            "flex_flow": null,
            "grid_area": null,
            "grid_auto_columns": null,
            "grid_auto_flow": null,
            "grid_auto_rows": null,
            "grid_column": null,
            "grid_gap": null,
            "grid_row": null,
            "grid_template_areas": null,
            "grid_template_columns": null,
            "grid_template_rows": null,
            "height": null,
            "justify_content": null,
            "justify_items": null,
            "left": null,
            "margin": null,
            "max_height": null,
            "max_width": null,
            "min_height": null,
            "min_width": null,
            "object_fit": null,
            "object_position": null,
            "order": null,
            "overflow": null,
            "overflow_x": null,
            "overflow_y": null,
            "padding": null,
            "right": null,
            "top": null,
            "visibility": null,
            "width": null
          }
        },
        "d3020982095c4eaa9bd5c91a4e9f1968": {
          "model_module": "@jupyter-widgets/controls",
          "model_module_version": "1.5.0",
          "model_name": "DescriptionStyleModel",
          "state": {
            "_model_module": "@jupyter-widgets/controls",
            "_model_module_version": "1.5.0",
            "_model_name": "DescriptionStyleModel",
            "_view_count": null,
            "_view_module": "@jupyter-widgets/base",
            "_view_module_version": "1.2.0",
            "_view_name": "StyleView",
            "description_width": ""
          }
        },
        "f9998d9529d54bdb910a8416809f4ad7": {
          "model_module": "@jupyter-widgets/base",
          "model_module_version": "1.2.0",
          "model_name": "LayoutModel",
          "state": {
            "_model_module": "@jupyter-widgets/base",
            "_model_module_version": "1.2.0",
            "_model_name": "LayoutModel",
            "_view_count": null,
            "_view_module": "@jupyter-widgets/base",
            "_view_module_version": "1.2.0",
            "_view_name": "LayoutView",
            "align_content": null,
            "align_items": null,
            "align_self": null,
            "border": null,
            "bottom": null,
            "display": null,
            "flex": null,
            "flex_flow": null,
            "grid_area": null,
            "grid_auto_columns": null,
            "grid_auto_flow": null,
            "grid_auto_rows": null,
            "grid_column": null,
            "grid_gap": null,
            "grid_row": null,
            "grid_template_areas": null,
            "grid_template_columns": null,
            "grid_template_rows": null,
            "height": null,
            "justify_content": null,
            "justify_items": null,
            "left": null,
            "margin": null,
            "max_height": null,
            "max_width": null,
            "min_height": null,
            "min_width": null,
            "object_fit": null,
            "object_position": null,
            "order": null,
            "overflow": null,
            "overflow_x": null,
            "overflow_y": null,
            "padding": null,
            "right": null,
            "top": null,
            "visibility": null,
            "width": null
          }
        },
        "fb29fa77b5c14300886f6b4cc813620a": {
          "model_module": "@jupyter-widgets/controls",
          "model_module_version": "1.5.0",
          "model_name": "DescriptionStyleModel",
          "state": {
            "_model_module": "@jupyter-widgets/controls",
            "_model_module_version": "1.5.0",
            "_model_name": "DescriptionStyleModel",
            "_view_count": null,
            "_view_module": "@jupyter-widgets/base",
            "_view_module_version": "1.2.0",
            "_view_name": "StyleView",
            "description_width": ""
          }
        }
      }
    }
  },
  "nbformat": 4,
  "nbformat_minor": 0
}
