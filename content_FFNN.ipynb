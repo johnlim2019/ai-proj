{
 "cells": [
  {
   "cell_type": "code",
   "execution_count": 146,
   "metadata": {},
   "outputs": [],
   "source": [
    "from torch import nn \n",
    "import pickle\n",
    "import torch\n",
    "gpu = torch.device(\"mps\")"
   ]
  },
  {
   "cell_type": "code",
   "execution_count": 147,
   "metadata": {},
   "outputs": [],
   "source": [
    "class TextClassificationModel(nn.Module):\n",
    "    def __init__(self, x_size, hidden_layer_size, dropout, activation_fn):\n",
    "        super(TextClassificationModel, self).__init__()\n",
    "        self.first_layer = nn.Linear(x_size, hidden_layer_size)\n",
    "        self.hidden_layer = nn.Linear(hidden_layer_size, hidden_layer_size)\n",
    "        self.output_projection_1 = nn.Linear(hidden_layer_size, 1)\n",
    "        self.activation = activation_fn\n",
    "        self.normalisation = nn.BatchNorm1d(hidden_layer_size)\n",
    "        self.dropout = nn.Dropout1d(dropout)\n",
    "        self.sigmoid = nn.Sigmoid()\n",
    "        self.x_size = x_size\n",
    "\n",
    "    def forward(self, x):\n",
    "        x = self.first_layer(x)\n",
    "        for i in range(14):\n",
    "            x = self.hidden_layer(x)\n",
    "            x = self.normalisation(x)\n",
    "            x = self.activation(x)\n",
    "            x = self.dropout(x)\n",
    "\n",
    "        out = self.output_projection_1(x)\n",
    "        out_distribution = self.sigmoid(out)\n",
    "        return out_distribution"
   ]
  },
  {
   "cell_type": "code",
   "execution_count": 148,
   "metadata": {},
   "outputs": [],
   "source": [
    "def train(\n",
    "    train_dataloader, test_dataloader, loss_function, num_epochs, model, model_optimiser, batch_size\n",
    "):\n",
    "    # A counter for the number of gradient updates we've performed.\n",
    "    num_iter = 0\n",
    "\n",
    "    # Iterate `num_epochs` times.\n",
    "    for epoch in range(num_epochs):\n",
    "        print(\"Starting epoch {}\".format(epoch + 1))\n",
    "        # Iterate over the train_dataloader, unpacking the images and labels\n",
    "        for data, labels in train_dataloader:\n",
    "            # If we're using the GPU, move reshaped_images and labels to the GPU.\n",
    "            if gpu:\n",
    "                data = data.to(gpu)\n",
    "                labels = labels.to(gpu)\n",
    "\n",
    "            # Run the forward pass through the model to get predicted log distribution.\n",
    "            predicted = model(data)\n",
    "\n",
    "            # reshape\n",
    "            labels = torch.unsqueeze(labels, 1)\n",
    "   \n",
    "            # Calculate the loss\n",
    "            batch_loss = loss_function(predicted, labels)\n",
    "\n",
    "            # Clear the gradients as we prepare to backprop.\n",
    "            model_optimiser.zero_grad()\n",
    "\n",
    "            # Backprop (backward pass), which calculates gradients.\n",
    "            batch_loss.backward()\n",
    "\n",
    "            # Take a gradient step to update parameters.\n",
    "            model_optimiser.step()\n",
    "\n",
    "            # Increment gradient update counter.\n",
    "            num_iter += 1\n",
    "\n",
    "            # Calculate test set loss and accuracy every 500 gradient updates\n",
    "            # It's standard to have this as a separate evaluate function, but\n",
    "            # we'll place it inline for didactic purposes.\n",
    "            if num_iter % 500 == 0:\n",
    "                # Set model to eval mode, which turns off dropout.\n",
    "                model.eval()\n",
    "                # Counters for the num of examples we get right / total num of examples.\n",
    "                num_correct = 0\n",
    "                total_examples = 0\n",
    "                total_test_loss = 0\n",
    "\n",
    "                with torch.no_grad():\n",
    "                    # Iterate over the test dataloader\n",
    "                    for test_data, test_labels in test_dataloader:\n",
    "\n",
    "                        # If we're using the GPU, move tensors to the GPU.\n",
    "                        if gpu:\n",
    "                            test_data = test_data.to(gpu)\n",
    "                            test_labels = test_labels.to(gpu)\n",
    "                        \n",
    "                        # reshape\n",
    "                        test_labels = torch.unsqueeze(test_labels, 1)\n",
    "\n",
    "                        # Run the forward pass to get predicted distribution.\n",
    "                        predicted = model(test_data)\n",
    "                               \n",
    "                        # Calculate loss for this test batch. This is averaged, so multiply\n",
    "                        # by the number of examples in batch to get a total.\n",
    "                        total_test_loss += loss_function(predicted, test_labels)\n",
    "\n",
    "                        # Get predicted labels (argmax)\n",
    "                        predicted_labels = (predicted.data > 0.5).int()\n",
    "\n",
    "                        # Count the number of examples in this batch\n",
    "                        total_examples += test_labels.size(0)\n",
    "\n",
    "                        # Count the total number of correctly predicted labels.\n",
    "                        # predicted == labels generates a ByteTensor in indices where\n",
    "                        # predicted and labels match, so we can sum to get the num correct.\n",
    "                        num_correct += torch.sum(predicted_labels == test_labels.data)\n",
    "                        \n",
    "                accuracy = num_correct / total_examples\n",
    "                average_test_loss = total_test_loss / total_examples\n",
    "                print(\n",
    "                    \"Iteration {}. Test Loss {}. Test Accuracy {}. Total Examples {}\".format(\n",
    "                        num_iter, average_test_loss, accuracy, total_examples\n",
    "                    )\n",
    "                )\n",
    "                # Set the model back to train mode, which activates dropout again.\n",
    "                model.train()\n",
    "    return model"
   ]
  },
  {
   "cell_type": "code",
   "execution_count": 149,
   "metadata": {},
   "outputs": [
    {
     "name": "stdout",
     "output_type": "stream",
     "text": [
      "(72134, 17)\n"
     ]
    }
   ],
   "source": [
    "# open data \n",
    "with open(\"./data/content_features_cv.pkl\",\"rb\") as f:\n",
    "    content_features_df = pickle.load(f)\n",
    "    \n",
    "content_features_df.head()\n",
    "print(content_features_df.shape)"
   ]
  },
  {
   "cell_type": "code",
   "execution_count": 150,
   "metadata": {},
   "outputs": [
    {
     "name": "stdout",
     "output_type": "stream",
     "text": [
      "torch.Size([72134, 16])\n",
      "torch.Size([72134])\n"
     ]
    }
   ],
   "source": [
    "# create dataloader \n",
    "labels = content_features_df[\"label\"].values\n",
    "features = content_features_df.drop(\"label\",axis=1).values\n",
    "\n",
    "features_tensor = torch.tensor(features, dtype=torch.float32)\n",
    "labels_tensor = torch.tensor(labels, dtype=torch.float32)\n",
    "\n",
    "dataset = torch.utils.data.TensorDataset(features_tensor,labels_tensor)\n",
    "print(features_tensor.shape)\n",
    "print(labels_tensor.shape)"
   ]
  },
  {
   "cell_type": "code",
   "execution_count": 151,
   "metadata": {},
   "outputs": [],
   "source": [
    "batch_size = 32\n",
    "train_size = int(0.8 * len(dataset))\n",
    "test_size = len(dataset) - train_size\n",
    "train_dataset,test_dataset = torch.utils.data.random_split(dataset, [train_size, test_size])\n",
    "train_dataloader = torch.utils.data.DataLoader(train_dataset, batch_size=batch_size)\n",
    "test_dataloader = torch.utils.data.DataLoader(test_dataset, batch_size=batch_size)"
   ]
  },
  {
   "cell_type": "code",
   "execution_count": 152,
   "metadata": {},
   "outputs": [
    {
     "name": "stdout",
     "output_type": "stream",
     "text": [
      "57707\n"
     ]
    },
    {
     "data": {
      "text/plain": [
       "TextClassificationModel(\n",
       "  (first_layer): Linear(in_features=16, out_features=512, bias=True)\n",
       "  (hidden_layer): Linear(in_features=512, out_features=512, bias=True)\n",
       "  (output_projection_1): Linear(in_features=512, out_features=1, bias=True)\n",
       "  (activation): ReLU()\n",
       "  (normalisation): BatchNorm1d(512, eps=1e-05, momentum=0.1, affine=True, track_running_stats=True)\n",
       "  (dropout): Dropout1d(p=0.5, inplace=False)\n",
       "  (sigmoid): Sigmoid()\n",
       ")"
      ]
     },
     "execution_count": 152,
     "metadata": {},
     "output_type": "execute_result"
    }
   ],
   "source": [
    "# model object\n",
    "sequence_length = len(train_dataset)\n",
    "print(sequence_length)\n",
    "model = TextClassificationModel(\n",
    "    x_size=16, hidden_layer_size=512, dropout=0.5, activation_fn=nn.ReLU()\n",
    ")\n",
    "loss = nn.BCELoss()\n",
    "optimiser = torch.optim.Adam(model.parameters(), lr=0.005)\n",
    "model.to(gpu)"
   ]
  },
  {
   "cell_type": "code",
   "execution_count": 153,
   "metadata": {},
   "outputs": [
    {
     "name": "stdout",
     "output_type": "stream",
     "text": [
      "Starting epoch 1\n",
      "Iteration 500. Test Loss 0.021658388897776604. Test Accuracy 0.5132043957710266. Total Examples 14427\n",
      "Iteration 1000. Test Loss 0.02165759913623333. Test Accuracy 0.5132043957710266. Total Examples 14427\n",
      "Iteration 1500. Test Loss 0.021657491102814674. Test Accuracy 0.5132043957710266. Total Examples 14427\n"
     ]
    },
    {
     "data": {
      "text/plain": [
       "TextClassificationModel(\n",
       "  (first_layer): Linear(in_features=16, out_features=512, bias=True)\n",
       "  (hidden_layer): Linear(in_features=512, out_features=512, bias=True)\n",
       "  (output_projection_1): Linear(in_features=512, out_features=1, bias=True)\n",
       "  (activation): ReLU()\n",
       "  (normalisation): BatchNorm1d(512, eps=1e-05, momentum=0.1, affine=True, track_running_stats=True)\n",
       "  (dropout): Dropout1d(p=0.5, inplace=False)\n",
       "  (sigmoid): Sigmoid()\n",
       ")"
      ]
     },
     "execution_count": 153,
     "metadata": {},
     "output_type": "execute_result"
    }
   ],
   "source": [
    "num_epochs = 1\n",
    "train(\n",
    "    train_dataloader, \n",
    "    test_dataloader, \n",
    "    loss, \n",
    "    num_epochs, \n",
    "    model, \n",
    "    optimiser,\n",
    "    batch_size\n",
    ")\n"
   ]
  },
  {
   "cell_type": "code",
   "execution_count": null,
   "metadata": {},
   "outputs": [],
   "source": []
  }
 ],
 "metadata": {
  "kernelspec": {
   "display_name": "ai-course",
   "language": "python",
   "name": "python3"
  },
  "language_info": {
   "codemirror_mode": {
    "name": "ipython",
    "version": 3
   },
   "file_extension": ".py",
   "mimetype": "text/x-python",
   "name": "python",
   "nbconvert_exporter": "python",
   "pygments_lexer": "ipython3",
   "version": "3.10.12"
  }
 },
 "nbformat": 4,
 "nbformat_minor": 2
}
