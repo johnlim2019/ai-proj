{
 "cells": [
  {
   "cell_type": "code",
   "execution_count": 1,
   "metadata": {},
   "outputs": [
    {
     "name": "stdout",
     "output_type": "stream",
     "text": [
      "PyTorch version:\n",
      "2.2.0\n",
      "GPU Detected:\n",
      "True\n"
     ]
    }
   ],
   "source": [
    "import torch\n",
    "import pickle\n",
    "from torch import nn\n",
    "from torch.utils.data import DataLoader\n",
    "\n",
    "print(\"PyTorch version:\")\n",
    "print(torch.__version__)\n",
    "print(\"GPU Detected:\")\n",
    "# print(torch.cuda.is_available())\n",
    "print(torch.backends.mps.is_available())\n",
    "\n",
    "# defining a shortcut function for later:\n",
    "import os\n",
    "\n",
    "# gpu = torch.device(\"cuda:0\")\n",
    "gpu = torch.device(\"mps\")"
   ]
  },
  {
   "cell_type": "code",
   "execution_count": 2,
   "metadata": {},
   "outputs": [],
   "source": [
    "with open(\"./data/train_merged\", \"rb\") as f:\n",
    "    train_text = pickle.load(f)\n",
    "with open(\"./data/test_merged\", \"rb\") as f:\n",
    "    test_text = pickle.load(f)\n",
    "    \n",
    "\n",
    "batch_size=32\n",
    "train_text_data = DataLoader(train_text, batch_size=batch_size, shuffle=True)\n",
    "test_text_data = DataLoader(test_text, batch_size=batch_size, shuffle=True)"
   ]
  },
  {
   "cell_type": "code",
   "execution_count": 3,
   "metadata": {},
   "outputs": [
    {
     "name": "stdout",
     "output_type": "stream",
     "text": [
      "5770\n",
      "1442\n"
     ]
    }
   ],
   "source": [
    "print(len(train_text_data.dataset))\n",
    "print(len(test_text_data.dataset))"
   ]
  },
  {
   "cell_type": "code",
   "execution_count": 4,
   "metadata": {},
   "outputs": [
    {
     "name": "stdout",
     "output_type": "stream",
     "text": [
      "shape: torch.Size([32, 1001, 300])\n",
      "32\n"
     ]
    }
   ],
   "source": [
    "# check batch dimension\n",
    "batch_size = train_text_data.batch_size\n",
    "for data, label in train_text_data:\n",
    "    print(\"shape: {0}\".format(data.size()))\n",
    "    break\n",
    "sequence_length = data.size()[1]\n",
    "print(batch_size)\n",
    "\n",
    "# set batch first true. "
   ]
  },
  {
   "cell_type": "code",
   "execution_count": 5,
   "metadata": {},
   "outputs": [],
   "source": [
    "class RNNClassifier(nn.Module):\n",
    "    def __init__(\n",
    "        self, hidden_size, input_size, num_layers, num_classes, dropout, activation_fn\n",
    "    ):\n",
    "        super(RNNClassifier, self).__init__()\n",
    "        self.gru = nn.GRU(\n",
    "            input_size, hidden_size, num_layers, dropout=dropout, batch_first=True\n",
    "        )\n",
    "        self.fc = nn.Linear(hidden_size * sequence_length, num_classes)\n",
    "        self.nonlinearity = activation_fn\n",
    "\n",
    "    def forward(self, x):\n",
    "        # Initialize hidden state with random values.\n",
    "        h0 = torch.randn(self.gru.num_layers, x.size(0), self.gru.hidden_size).to(gpu)\n",
    "\n",
    "        out, _ = self.gru(x, h0)\n",
    "        out = out.reshape(out.shape[0], -1)\n",
    "        out = self.fc(out)\n",
    "\n",
    "        out_distribution = nn.functional.log_softmax(out, dim=-1)\n",
    "        return out_distribution\n",
    "\n",
    "\n",
    "def train(\n",
    "    train_dataloader, test_dataloader, nll_criterion, num_epochs, ffnn, ffnn_optimizer\n",
    "):\n",
    "    # A counter for the number of gradient updates we've performed.\n",
    "    num_iter = 0\n",
    "\n",
    "    # Iterate `num_epochs` times.\n",
    "    for epoch in range(num_epochs):\n",
    "        print(\"Starting epoch {}\".format(epoch + 1))\n",
    "        # Iterate over the train_dataloader, unpacking the images and labels\n",
    "        for data, labels in train_dataloader:\n",
    "            # If we're using the GPU, move reshaped_images and labels to the GPU.\n",
    "            if gpu:\n",
    "                data = data.to(gpu)\n",
    "                labels = labels.to(gpu)\n",
    "\n",
    "            # Run the forward pass through the model to get predicted log distribution.\n",
    "            predicted = ffnn(data)\n",
    "\n",
    "            # Calculate the loss\n",
    "            batch_loss = nll_criterion(predicted, labels)\n",
    "\n",
    "            # Clear the gradients as we prepare to backprop.\n",
    "            ffnn_optimizer.zero_grad()\n",
    "\n",
    "            # Backprop (backward pass), which calculates gradients.\n",
    "            batch_loss.backward()\n",
    "\n",
    "            # Take a gradient step to update parameters.\n",
    "            ffnn_optimizer.step()\n",
    "\n",
    "            # Increment gradient update counter.\n",
    "            num_iter += 1\n",
    "\n",
    "            # Calculate test set loss and accuracy every 100 gradient updates\n",
    "            # It's standard to have this as a separate evaluate function, but\n",
    "            # we'll place it inline for didactic purposes.\n",
    "            if num_iter % 100 == 0:\n",
    "                # Set model to eval mode, which turns off dropout.\n",
    "                ffnn.eval()\n",
    "                # Counters for the num of examples we get right / total num of examples.\n",
    "                num_correct = 0\n",
    "                total_examples = 0\n",
    "                total_test_loss = 0\n",
    "\n",
    "                with torch.no_grad():\n",
    "                    # Iterate over the test dataloader\n",
    "                    for test_data, test_labels in test_dataloader:\n",
    "\n",
    "                        # If we're using the GPU, move tensors to the GPU.\n",
    "                        if gpu:\n",
    "                            test_data = test_data.to(gpu)\n",
    "                            test_labels = test_labels.to(gpu)\n",
    "\n",
    "                        # Run the forward pass to get predicted distribution.\n",
    "                        predicted = ffnn(test_data)\n",
    "\n",
    "                        # Calculate loss for this test batch. This is averaged, so multiply\n",
    "                        # by the number of examples in batch to get a total.\n",
    "                        total_test_loss += nll_criterion(\n",
    "                            predicted, test_labels\n",
    "                        ).data * test_labels.size(0)\n",
    "\n",
    "                        # Get predicted labels (argmax)\n",
    "                        _, predicted_labels = torch.max(predicted.data, 1)\n",
    "\n",
    "                        # Count the number of examples in this batch\n",
    "                        total_examples += test_labels.size(0)\n",
    "\n",
    "                        # Count the total number of correctly predicted labels.\n",
    "                        # predicted == labels generates a ByteTensor in indices where\n",
    "                        # predicted and labels match, so we can sum to get the num correct.\n",
    "                        num_correct += torch.sum(predicted_labels == test_labels.data)\n",
    "                accuracy = 100 * num_correct / total_examples\n",
    "                average_test_loss = total_test_loss / total_examples\n",
    "                print(\n",
    "                    \"Iteration {}. Test Loss {}. Test Accuracy {}.\".format(\n",
    "                        num_iter, average_test_loss, accuracy\n",
    "                    )\n",
    "                )\n",
    "                # Set the model back to train mode, which activates dropout again.\n",
    "                ffnn.train()"
   ]
  },
  {
   "cell_type": "code",
   "execution_count": 6,
   "metadata": {},
   "outputs": [
    {
     "name": "stderr",
     "output_type": "stream",
     "text": [
      "/Users/limjohn/.pyenv/versions/3.10.12/envs/ai-course/lib/python3.10/site-packages/torch/nn/modules/rnn.py:83: UserWarning: dropout option adds dropout after all but last recurrent layer, so non-zero dropout expects num_layers greater than 1, but got dropout=0.5 and num_layers=1\n",
      "  warnings.warn(\"dropout option adds dropout after all but last \"\n",
      "/Users/limjohn/.pyenv/versions/3.10.12/envs/ai-course/lib/python3.10/site-packages/tqdm/auto.py:21: TqdmWarning: IProgress not found. Please update jupyter and ipywidgets. See https://ipywidgets.readthedocs.io/en/stable/user_install.html\n",
      "  from .autonotebook import tqdm as notebook_tqdm\n"
     ]
    },
    {
     "data": {
      "text/plain": [
       "RNNClassifier(\n",
       "  (gru): GRU(300, 300, batch_first=True, dropout=0.5)\n",
       "  (fc): Linear(in_features=300300, out_features=2, bias=True)\n",
       "  (nonlinearity): ReLU()\n",
       ")"
      ]
     },
     "execution_count": 6,
     "metadata": {},
     "output_type": "execute_result"
    }
   ],
   "source": [
    "activation_fn = nn.ReLU()\n",
    "model = RNNClassifier(\n",
    "    hidden_size=300, input_size=300, num_layers=1, num_classes=2, dropout=0.5, activation_fn=activation_fn\n",
    ")\n",
    "nll_criterion = nn.NLLLoss()\n",
    "optimiser = torch.optim.Adam(model.parameters(),lr=0.00005)\n",
    "model.to(gpu)"
   ]
  },
  {
   "cell_type": "code",
   "execution_count": 7,
   "metadata": {},
   "outputs": [
    {
     "name": "stdout",
     "output_type": "stream",
     "text": [
      "batch size:32\n",
      "Starting epoch 1\n",
      "Iteration 100. Test Loss 0.2759212255477905. Test Accuracy 89.32038879394531.\n",
      "Starting epoch 2\n",
      "Iteration 200. Test Loss 0.20969322323799133. Test Accuracy 91.1234359741211.\n",
      "Iteration 300. Test Loss 0.19367587566375732. Test Accuracy 92.02496337890625.\n",
      "Starting epoch 3\n",
      "Iteration 400. Test Loss 0.17116908729076385. Test Accuracy 93.34258270263672.\n",
      "Iteration 500. Test Loss 0.1728503704071045. Test Accuracy 93.13453674316406.\n",
      "Starting epoch 4\n",
      "Iteration 600. Test Loss 0.1691211313009262. Test Accuracy 93.41192626953125.\n",
      "Iteration 700. Test Loss 0.16025646030902863. Test Accuracy 93.48127746582031.\n",
      "Starting epoch 5\n",
      "Iteration 800. Test Loss 0.17392055690288544. Test Accuracy 93.55062103271484.\n",
      "Iteration 900. Test Loss 0.1614162176847458. Test Accuracy 93.7586669921875.\n",
      "Starting epoch 6\n",
      "Iteration 1000. Test Loss 0.1685205101966858. Test Accuracy 93.41192626953125.\n",
      "Starting epoch 7\n",
      "Iteration 1100. Test Loss 0.17373643815517426. Test Accuracy 93.6199722290039.\n",
      "Iteration 1200. Test Loss 0.17652103304862976. Test Accuracy 93.55062103271484.\n",
      "Starting epoch 8\n",
      "Iteration 1300. Test Loss 0.18576201796531677. Test Accuracy 93.55062103271484.\n",
      "Iteration 1400. Test Loss 0.18328404426574707. Test Accuracy 93.48127746582031.\n",
      "Starting epoch 9\n",
      "Iteration 1500. Test Loss 0.19226564466953278. Test Accuracy 93.41192626953125.\n",
      "Iteration 1600. Test Loss 0.19397956132888794. Test Accuracy 93.7586669921875.\n",
      "Starting epoch 10\n",
      "Iteration 1700. Test Loss 0.18447498977184296. Test Accuracy 94.3134536743164.\n",
      "Iteration 1800. Test Loss 0.19061610102653503. Test Accuracy 93.7586669921875.\n"
     ]
    }
   ],
   "source": [
    "num_epochs = 10\n",
    "print(f\"batch size:{batch_size}\")\n",
    "train(\n",
    "    train_text_data, \n",
    "    test_text_data, \n",
    "    nll_criterion, \n",
    "    num_epochs, \n",
    "    model, \n",
    "    optimiser\n",
    ")\n"
   ]
  },
  {
   "cell_type": "markdown",
   "metadata": {},
   "source": [
    "Iteration 1800. Test Loss 0.17262473702430725. Test Accuracy 93.48127746582031.\n",
    "batch size 32 lr 0.00001 drop out 0.5 inner nodes 256\n",
    "\n",
    "Iteration 1800. Test Loss 0.2566724419593811. Test Accuracy 95.21498107910156.\n",
    "batch size 32 lr 0.0005 drop out 0.5 inner nodes 256\n",
    "\n",
    "Iteration 1800. Test Loss 0.2761397361755371. Test Accuracy 94.86824035644531.\n",
    "batch size 32 lr 0.0001 drop out 0.4 inner nodes 300\n",
    "\n",
    "Iteration 1800. Test Loss 0.2023600935935974. Test Accuracy 95.2843246459961.\n",
    "batch size 32 lr 0.0001 drop out 0.5 inner nodes 300\n",
    "\n",
    "Iteration 1800. Test Loss 0.16241158545017242. Test Accuracy 95.49237060546875.\n",
    "batch size 32 lr 0.00005 drop out 0.5 inner nodes 300\n",
    "\n"
   ]
  },
  {
   "cell_type": "markdown",
   "metadata": {},
   "source": [
    "915 mins 90% accuracy 5 epochs no batch.\n",
    "\n",
    "Some issue with the loss function.\n",
    "```\n",
    "Starting epoch 1\n",
    "Iteration 500. Test Loss 1.7329039573669434. Test Accuracy 77.62973022460938.\n",
    "Iteration 1000. Test Loss 2.110083818435669. Test Accuracy 84.50210571289062.\n",
    "Iteration 1500. Test Loss 1.8402926921844482. Test Accuracy 85.0631103515625.\n",
    "Iteration 2000. Test Loss 3.071587562561035. Test Accuracy 84.2917251586914.\n",
    "Iteration 2500. Test Loss 2.9173219203948975. Test Accuracy 86.81626892089844.\n",
    "Iteration 3000. Test Loss 4.660653591156006. Test Accuracy 84.71248626708984.\n",
    "Iteration 3500. Test Loss 3.0766427516937256. Test Accuracy 85.0631103515625.\n",
    "Iteration 4000. Test Loss 2.9936556816101074. Test Accuracy 86.9565200805664.\n",
    "Iteration 4500. Test Loss 4.268098831176758. Test Accuracy 86.11500549316406.\n",
    "Iteration 5000. Test Loss 3.2028002738952637. Test Accuracy 88.07854461669922.\n",
    "Iteration 5500. Test Loss 3.206970691680908. Test Accuracy 87.8681640625.\n",
    "Starting epoch 2\n",
    "Iteration 6000. Test Loss 3.411480665206909. Test Accuracy 88.56942749023438.\n",
    "Iteration 6500. Test Loss 3.215914249420166. Test Accuracy 87.37728118896484.\n",
    "Iteration 7000. Test Loss 3.1972854137420654. Test Accuracy 88.70967864990234.\n",
    "Iteration 7500. Test Loss 4.611752510070801. Test Accuracy 84.57222747802734.\n",
    "Iteration 8000. Test Loss 3.449533462524414. Test Accuracy 88.2889175415039.\n",
    "Iteration 8500. Test Loss 4.394710063934326. Test Accuracy 89.34081268310547.\n",
    "Iteration 9000. Test Loss 3.9236555099487305. Test Accuracy 89.34081268310547.\n",
    "Iteration 9500. Test Loss 3.7748982906341553. Test Accuracy 88.56942749023438.\n",
    "Iteration 10000. Test Loss 4.514174461364746. Test Accuracy 86.9565200805664.\n",
    "Iteration 10500. Test Loss 3.833115339279175. Test Accuracy 87.44740295410156.\n",
    "Iteration 11000. Test Loss 4.04207181930542. Test Accuracy 87.51753234863281.\n",
    "Starting epoch 3\n",
    "Iteration 11500. Test Loss 5.0256757736206055. Test Accuracy 88.70967864990234.\n",
    "Iteration 12000. Test Loss 4.844799518585205. Test Accuracy 87.93828582763672.\n",
    "Iteration 12500. Test Loss 4.611722946166992. Test Accuracy 89.06031036376953.\n",
    "Iteration 13000. Test Loss 6.31632661819458. Test Accuracy 87.3071517944336.\n",
    "Iteration 13500. Test Loss 6.104625225067139. Test Accuracy 87.72791290283203.\n",
    "Iteration 14000. Test Loss 5.693385601043701. Test Accuracy 88.00841522216797.\n",
    "Iteration 14500. Test Loss 5.045144557952881. Test Accuracy 89.34081268310547.\n",
    "Iteration 15000. Test Loss 5.350050449371338. Test Accuracy 88.6395492553711.\n",
    "Iteration 15500. Test Loss 5.098731517791748. Test Accuracy 88.56942749023438.\n",
    "Iteration 16000. Test Loss 5.727728366851807. Test Accuracy 85.9747543334961.\n",
    "Iteration 16500. Test Loss 4.773247241973877. Test Accuracy 89.83169555664062.\n",
    "Iteration 17000. Test Loss 4.9621405601501465. Test Accuracy 89.55119323730469.\n",
    "Starting epoch 4\n",
    "Iteration 17500. Test Loss 6.257537841796875. Test Accuracy 88.35904693603516.\n",
    "Iteration 18000. Test Loss 6.823083400726318. Test Accuracy 87.02664947509766.\n",
    "Iteration 18500. Test Loss 6.571444034576416. Test Accuracy 88.07854461669922.\n",
    "Iteration 19000. Test Loss 6.781907558441162. Test Accuracy 88.49929809570312.\n",
    "Iteration 19500. Test Loss 6.27226448059082. Test Accuracy 89.06031036376953.\n",
    "Iteration 20000. Test Loss 6.661423206329346. Test Accuracy 88.21879577636719.\n",
    "Iteration 20500. Test Loss 6.769895076751709. Test Accuracy 89.69144439697266.\n",
    "Iteration 21000. Test Loss 5.5185651779174805. Test Accuracy 90.18232727050781.\n",
    "Iteration 21500. Test Loss 7.558089256286621. Test Accuracy 89.06031036376953.\n",
    "Iteration 22000. Test Loss 6.829961776733398. Test Accuracy 89.55119323730469.\n",
    "Iteration 22500. Test Loss 5.848672389984131. Test Accuracy 90.32257843017578.\n",
    "Starting epoch 5\n",
    "Iteration 23000. Test Loss 5.5816650390625. Test Accuracy 89.55119323730469.\n",
    "Iteration 23500. Test Loss 7.699804782867432. Test Accuracy 87.3071517944336.\n",
    "Iteration 24000. Test Loss 6.057502746582031. Test Accuracy 89.27069091796875.\n",
    "Iteration 24500. Test Loss 6.385693550109863. Test Accuracy 89.55119323730469.\n",
    "Iteration 25000. Test Loss 6.076298713684082. Test Accuracy 90.04207611083984.\n",
    "Iteration 25500. Test Loss 6.222282409667969. Test Accuracy 89.55119323730469.\n",
    "Iteration 26000. Test Loss 6.031567096710205. Test Accuracy 89.90182495117188.\n",
    "Iteration 26500. Test Loss 7.921655654907227. Test Accuracy 90.25245666503906.\n",
    "Iteration 27000. Test Loss 7.22239875793457. Test Accuracy 90.32257843017578.\n",
    "Iteration 27500. Test Loss 7.10892391204834. Test Accuracy 90.532958984375.\n",
    "Iteration 28000. Test Loss 6.968836784362793. Test Accuracy 89.55119323730469.\n",
    "Iteration 28500. Test Loss 6.57443904876709. Test Accuracy 90.18232727050781.\n",
    "```\n",
    "915 mins 90% accuracy"
   ]
  },
  {
   "cell_type": "markdown",
   "metadata": {},
   "source": []
  },
  {
   "cell_type": "markdown",
   "metadata": {},
   "source": []
  }
 ],
 "metadata": {
  "kernelspec": {
   "display_name": "ai-course",
   "language": "python",
   "name": "python3"
  },
  "language_info": {
   "codemirror_mode": {
    "name": "ipython",
    "version": 3
   },
   "file_extension": ".py",
   "mimetype": "text/x-python",
   "name": "python",
   "nbconvert_exporter": "python",
   "pygments_lexer": "ipython3",
   "version": "3.10.12"
  }
 },
 "nbformat": 4,
 "nbformat_minor": 2
}
