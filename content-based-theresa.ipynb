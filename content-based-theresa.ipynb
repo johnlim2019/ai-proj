{
  "cells": [
    {
      "cell_type": "code",
      "execution_count": null,
      "metadata": {
        "id": "uJnPRMzviivZ"
      },
      "outputs": [],
      "source": [
        "import numpy as np\n",
        "import pandas as pd\n",
        "import torch\n",
        "import re\n",
        "from sklearn.pipeline import Pipeline, FeatureUnion\n",
        "from sklearn.feature_extraction.text import CountVectorizer\n",
        "from sklearn.svm import LinearSVC\n",
        "from sklearn.naive_bayes import MultinomialNB\n",
        "from sklearn.feature_extraction.text import TfidfTransformer\n",
        "from sklearn.multiclass import OneVsRestClassifier\n",
        "from sklearn.preprocessing import FunctionTransformer"
      ]
    },
    {
      "cell_type": "code",
      "execution_count": null,
      "metadata": {
        "colab": {
          "base_uri": "https://localhost:8080/"
        },
        "id": "jWNQiKlWkgS9",
        "outputId": "96b60517-19fb-4b25-f0c8-009423f66408"
      },
      "outputs": [
        {
          "name": "stdout",
          "output_type": "stream",
          "text": [
            "Index(['Unnamed: 0', 'title', 'text', 'label'], dtype='object')\n",
            "(72134, 4)\n",
            "<class 'str'>\n"
          ]
        }
      ],
      "source": [
        "df = pd.read_csv(\"/content/drive/MyDrive/Colab Notebooks/data/WELFake_Dataset.csv\")\n",
        "print(df.columns)\n",
        "print(df.shape)\n",
        "print(type(df.loc[7,\"text\"]))\n",
        "\n",
        "text_iterator = df['text']\n",
        "title_iterator = df['title']"
      ]
    },
    {
      "cell_type": "code",
      "execution_count": null,
      "metadata": {
        "colab": {
          "base_uri": "https://localhost:8080/"
        },
        "id": "Zzj2mt6y2whk",
        "outputId": "bd4a4dfa-f98a-4c64-c01f-f7994cf85e35"
      },
      "outputs": [
        {
          "name": "stdout",
          "output_type": "stream",
          "text": [
            "72134\n",
            "72134\n",
            "now most of the demonstrators gathered last night were exercising their constitutional and protected right to peaceful protest in order to raise issues and create change loretta lynch aka eric holder in a skirt\n"
          ]
        }
      ],
      "source": [
        "def process_text(text_iterator):\n",
        "    text_processed = []\n",
        "    for text in text_iterator:\n",
        "        try:\n",
        "            # remove punctuation\n",
        "            t = re.sub(\"[^a-zA-Z0-9]\", \" \", text)\n",
        "            # remove multiple spaces\n",
        "            t = re.sub(r\" +\", \" \", t)\n",
        "            # remove newline\n",
        "            t = re.sub(r\"\\n\", \" \", t)\n",
        "            # clear trailing whitespaces\n",
        "            t = t.strip()\n",
        "            # lowercase\n",
        "            t = t.lower()\n",
        "            # tokenise\n",
        "            # t = t.split(\" \")\n",
        "            # drop empty string\n",
        "            # t = list(filter(lambda x: x != \"\", t))\n",
        "            if len(t) == 0:\n",
        "                text_processed.append(\"\")\n",
        "            else:\n",
        "                text_processed.append(t)\n",
        "        except:\n",
        "            text_processed.append(\"\")\n",
        "            continue\n",
        "    return text_processed\n",
        "\n",
        "\n",
        "text_processed = process_text(text_iterator)\n",
        "title_processed = process_text(title_iterator)\n",
        "\n",
        "print(len(text_processed))\n",
        "print(len(title_processed))\n",
        "print(text_processed[2])"
      ]
    },
    {
      "cell_type": "code",
      "execution_count": null,
      "metadata": {
        "id": "10ejZniS3NNa"
      },
      "outputs": [],
      "source": [
        "df_output = pd.DataFrame(columns=[\"title\", \"text\", \"class\"])\n",
        "df_output[\"title\"] = title_processed\n",
        "df_output[\"text\"] = text_processed\n",
        "df_output[\"class\"] = df[\"label\"]"
      ]
    },
    {
      "cell_type": "code",
      "execution_count": null,
      "metadata": {
        "colab": {
          "base_uri": "https://localhost:8080/"
        },
        "id": "xE3ryPL_3qe6",
        "outputId": "3d63ad7c-693d-4df6-97ac-413d42cf6af5"
      },
      "outputs": [
        {
          "name": "stdout",
          "output_type": "stream",
          "text": [
            "['no comment is expected from barack obama members of the fyf911 or fukyoflag and blacklivesmatter movements called for the lynching and hanging of white people and cops they encouraged others on a radio show tuesday night to turn the tide and kill white people and cops to send a message about the killing of black people in america one of the f yoflag organizers is called sunshine she has a radio blog show hosted from texas called sunshine s f ing opinion radio show a snapshot of her fyf911 lolatwhitefear twitter page at 9 53 p m shows that she was urging supporters to call now fyf911 tonight we continue to dismantle the illusion of white below is a snapshot twitter radio call invite fyf911the radio show aired at 10 00 p m eastern standard time during the show callers clearly call for lynching and killing of white people a 2 39 minute clip from the radio show can be heard here it was provided to breitbart texas by someone who would like to be referred to as hannibal he has already received death threats as a result of interrupting fyf911 conference calls an unidentified black man said when those mother f kers are by themselves that s when when we should start f ing them up like they do us when a bunch of them ni ers takin one of us out that s how we should roll up he said cause we already roll up in gangs anyway there should be six or seven black mother f ckers see that white person and then lynch their ass let s turn the tables they conspired that if cops started losing people then there will be a state of emergency he speculated that one of two things would happen a big ass r s war or ni ers they are going to start backin up we are already getting killed out here so what the f k we got to lose sunshine could be heard saying yep that s true that s so f king true he said we need to turn the tables on them our kids are getting shot out here somebody needs to become a sacrifice on their side he said everybody ain t down for that s t or whatever but like i say everybody has a different position of war he continued because they don t give a f k anyway he said again we might as well utilized them for that s t and turn the tables on these n ers he said that way we can start lookin like we ain t havin that many casualties and there can be more causalities on their side instead of ours they are out their killing black people black lives don t matter that s what those mother f kers so we got to make it matter to them find a mother f ker that is alone snap his ass and then f in hang him from a damn tree take a picture of it and then send it to the mother f kers we just need one example and then people will start watchin this will turn the tables on s t he said he said this will start a trickle down effect he said that when one white person is hung and then they are just flat hanging that will start the trickle down effect he continued black people are good at starting trends he said that was how to get the upper hand another black man spoke up saying they needed to kill cops that are killing us the first black male said that will be the best method right there breitbart texas previously reported how sunshine was upset when racist white people infiltrated and disrupted one of her conference calls she subsequently released the phone number of one of the infiltrators the veteran immediately started receiving threatening calls one of the f yoflag movement supporters allegedly told a veteran who infiltrated their publicly posted conference call we are going to rape and gut your pregnant wife and your f ing piece of sh t unborn creature will be hung from a tree breitbart texas previously encountered sunshine at a sandra bland protest at the waller county jail in texas where she said all white people should be killed she told journalists and photographers you see this nappy ass hair on my head that means i am one of those more militant negroes she said she was at the protest because these redneck mother f kers murdered sandra bland because she had nappy hair like me fyf911 black radicals say they will be holding the imperial powers that are actually responsible for the terrorist attacks on september 11th accountable on that day as reported by breitbart texas there are several websites and twitter handles for the movement palmetto star describes himself as one of the head organizers he said in a youtube video that supporters will be burning their symbols of the illusion of their superiority their false white supremacy like the american flag the british flag police uniforms and ku klux klan hoods sierra mcgrone or nocturnus libertus posted you too can help a young afrikan clean their a with the rag of oppression she posted two photos one that appears to be herself and a photo of a black man wiping their naked butts with the american flag for entire story breitbart news'\n",
            " 'did they post their votes for hillary already'\n",
            " 'now most of the demonstrators gathered last night were exercising their constitutional and protected right to peaceful protest in order to raise issues and create change loretta lynch aka eric holder in a skirt']\n",
            "[[0]\n",
            " [1]\n",
            " [0]\n",
            " [0]\n",
            " [1]\n",
            " [0]\n",
            " [1]\n",
            " [1]\n",
            " [1]\n",
            " [0]]\n"
          ]
        }
      ],
      "source": [
        "x_train = np.array(df_output[\"text\"][:10000])\n",
        "y_train = []\n",
        "ls = []\n",
        "for i in df_output[\"class\"][:10000]:\n",
        "  ls.append(i)\n",
        "  y_train.append(ls)\n",
        "  ls = []\n",
        "y_train = np.array(y_train)\n",
        "\n",
        "\n",
        "x_test = np.array(df_output[\"text\"][10001:11001])\n",
        "y_test = []\n",
        "ls = []\n",
        "for i in df_output[\"class\"][10001:11001]:\n",
        "  ls.append(i)\n",
        "  y_test.append(ls)\n",
        "  ls = []\n",
        "y_test = np.array(y_test)\n",
        "\n",
        "print(x_train[0:3])\n",
        "print(y_test[0:10])"
      ]
    },
    {
      "cell_type": "code",
      "execution_count": null,
      "metadata": {
        "id": "L5cCKPs24bZy"
      },
      "outputs": [],
      "source": [
        "def get_text_length(x):\n",
        "    return np.array([len(t) for t in x]).reshape(-1, 1)"
      ]
    },
    {
      "cell_type": "code",
      "execution_count": null,
      "metadata": {
        "id": "8guqa9cc4eSb"
      },
      "outputs": [],
      "source": [
        "classifier = Pipeline([\n",
        "    ('features', FeatureUnion([\n",
        "        ('text', Pipeline([\n",
        "            ('vectorizer', CountVectorizer(min_df=1,max_df=2)),\n",
        "            ('tfidf', TfidfTransformer()),\n",
        "        ])),\n",
        "        ('length', Pipeline([\n",
        "            ('count', FunctionTransformer(get_text_length, validate=False)),\n",
        "        ]))\n",
        "    ])),\n",
        "    ('clf', MultinomialNB())])"
      ]
    },
    {
      "cell_type": "code",
      "execution_count": null,
      "metadata": {
        "colab": {
          "base_uri": "https://localhost:8080/"
        },
        "id": "lN6OP4Az4frx",
        "outputId": "d4d6e00e-60e6-4095-9572-37970b3cac54"
      },
      "outputs": [
        {
          "name": "stdout",
          "output_type": "stream",
          "text": [
            "586\n",
            "0.586\n"
          ]
        }
      ],
      "source": [
        "classifier.fit(x_train, y_train.ravel())\n",
        "predicted = classifier.predict(x_test)\n",
        "# predicted\n",
        "\n",
        "num_correct = 0\n",
        "for i in range(len(predicted)):\n",
        "  if predicted[i] == y_test[i]:\n",
        "    num_correct += 1\n",
        "\n",
        "print(num_correct)\n",
        "print(num_correct/len(y_test))"
      ]
    },
    {
      "cell_type": "code",
      "execution_count": null,
      "metadata": {
        "colab": {
          "base_uri": "https://localhost:8080/"
        },
        "id": "waiHEyknBxYu",
        "outputId": "be9b0ff2-8163-4add-a21c-307c41e6e461"
      },
      "outputs": [
        {
          "name": "stdout",
          "output_type": "stream",
          "text": [
            "649\n",
            "0.649\n"
          ]
        }
      ],
      "source": [
        "# normal bag of words model without including length\n",
        "classifier2 = Pipeline([\n",
        "    ('vectorizer', CountVectorizer(min_df=1,max_df=2)),\n",
        "    ('tfidf', TfidfTransformer()),\n",
        "    ('clf', MultinomialNB())])\n",
        "classifier2.fit(x_train, y_train.ravel())\n",
        "\n",
        "predicted2 = classifier2.predict(x_test)\n",
        "num_correct = 0\n",
        "for i in range(len(predicted2)):\n",
        "  if predicted2[i] == y_test[i]:\n",
        "    num_correct += 1\n",
        "\n",
        "print(num_correct)\n",
        "print(num_correct/len(y_test))"
      ]
    }
  ],
  "metadata": {
    "colab": {
      "provenance": []
    },
    "kernelspec": {
      "display_name": "Python 3",
      "name": "python3"
    },
    "language_info": {
      "name": "python",
      "version": "3.10.12"
    }
  },
  "nbformat": 4,
  "nbformat_minor": 0
}
