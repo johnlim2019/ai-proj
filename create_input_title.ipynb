{
 "cells": [
  {
   "cell_type": "markdown",
   "metadata": {},
   "source": [
    "Vocab"
   ]
  },
  {
   "cell_type": "code",
   "execution_count": 4,
   "metadata": {},
   "outputs": [],
   "source": [
    "import pandas as pd\n",
    "from gensim.models import KeyedVectors\n",
    "import torch\n",
    "from torch.nn.utils.rnn import pad_sequence\n",
    "from torch.utils.data import TensorDataset, random_split\n",
    "import pickle\n",
    "import matplotlib.pyplot as plt"
   ]
  },
  {
   "cell_type": "code",
   "execution_count": 5,
   "metadata": {},
   "outputs": [],
   "source": [
    "df_text = pd.read_pickle('./data/clean_title.pkl')\n",
    "merged_keyed_vectors = KeyedVectors.load_word2vec_format(\"./data/model_text\")\n",
    "\n"
   ]
  },
  {
   "cell_type": "code",
   "execution_count": 6,
   "metadata": {},
   "outputs": [
    {
     "name": "stdout",
     "output_type": "stream",
     "text": [
      "0\n",
      "9.0\n",
      "47\n",
      "14.0\n"
     ]
    },
    {
     "data": {
      "text/plain": [
       "(array([4.0000e+00, 0.0000e+00, 7.8000e+01, 0.0000e+00, 2.9900e+02,\n",
       "        0.0000e+00, 5.7500e+02, 0.0000e+00, 1.3010e+03, 0.0000e+00,\n",
       "        2.3060e+03, 0.0000e+00, 4.8160e+03, 0.0000e+00, 9.3560e+03,\n",
       "        0.0000e+00, 0.0000e+00, 1.2520e+04, 0.0000e+00, 1.2012e+04,\n",
       "        0.0000e+00, 9.7040e+03, 0.0000e+00, 6.8850e+03, 0.0000e+00,\n",
       "        4.1420e+03, 0.0000e+00, 2.3910e+03, 0.0000e+00, 1.5400e+03,\n",
       "        0.0000e+00, 1.0650e+03, 0.0000e+00, 0.0000e+00, 7.3800e+02,\n",
       "        0.0000e+00, 5.3300e+02, 0.0000e+00, 3.8100e+02, 0.0000e+00,\n",
       "        2.6900e+02, 0.0000e+00, 1.5900e+02, 0.0000e+00, 1.1300e+02,\n",
       "        0.0000e+00, 9.3000e+01, 0.0000e+00, 5.9000e+01, 0.0000e+00,\n",
       "        0.0000e+00, 2.1000e+01, 0.0000e+00, 2.3000e+01, 0.0000e+00,\n",
       "        1.1000e+01, 0.0000e+00, 1.3000e+01, 0.0000e+00, 5.0000e+00,\n",
       "        0.0000e+00, 3.0000e+00, 0.0000e+00, 4.0000e+00, 0.0000e+00,\n",
       "        3.0000e+00, 0.0000e+00, 0.0000e+00, 0.0000e+00, 0.0000e+00,\n",
       "        2.0000e+00, 0.0000e+00, 0.0000e+00, 0.0000e+00, 1.0000e+00,\n",
       "        0.0000e+00, 0.0000e+00, 0.0000e+00, 0.0000e+00, 0.0000e+00,\n",
       "        0.0000e+00, 0.0000e+00, 0.0000e+00, 0.0000e+00, 0.0000e+00,\n",
       "        0.0000e+00, 0.0000e+00, 0.0000e+00, 0.0000e+00, 1.0000e+00,\n",
       "        0.0000e+00, 0.0000e+00, 0.0000e+00, 0.0000e+00, 0.0000e+00,\n",
       "        0.0000e+00, 0.0000e+00, 0.0000e+00, 0.0000e+00, 1.0000e+00]),\n",
       " array([ 0.  ,  0.47,  0.94,  1.41,  1.88,  2.35,  2.82,  3.29,  3.76,\n",
       "         4.23,  4.7 ,  5.17,  5.64,  6.11,  6.58,  7.05,  7.52,  7.99,\n",
       "         8.46,  8.93,  9.4 ,  9.87, 10.34, 10.81, 11.28, 11.75, 12.22,\n",
       "        12.69, 13.16, 13.63, 14.1 , 14.57, 15.04, 15.51, 15.98, 16.45,\n",
       "        16.92, 17.39, 17.86, 18.33, 18.8 , 19.27, 19.74, 20.21, 20.68,\n",
       "        21.15, 21.62, 22.09, 22.56, 23.03, 23.5 , 23.97, 24.44, 24.91,\n",
       "        25.38, 25.85, 26.32, 26.79, 27.26, 27.73, 28.2 , 28.67, 29.14,\n",
       "        29.61, 30.08, 30.55, 31.02, 31.49, 31.96, 32.43, 32.9 , 33.37,\n",
       "        33.84, 34.31, 34.78, 35.25, 35.72, 36.19, 36.66, 37.13, 37.6 ,\n",
       "        38.07, 38.54, 39.01, 39.48, 39.95, 40.42, 40.89, 41.36, 41.83,\n",
       "        42.3 , 42.77, 43.24, 43.71, 44.18, 44.65, 45.12, 45.59, 46.06,\n",
       "        46.53, 47.  ]),\n",
       " <BarContainer object of 100 artists>)"
      ]
     },
     "execution_count": 6,
     "metadata": {},
     "output_type": "execute_result"
    },
    {
     "data": {
      "image/png": "[encoded data removed]",
      "text/plain": [
       "<Figure size 640x480 with 1 Axes>"
      ]
     },
     "metadata": {},
     "output_type": "display_data"
    }
   ],
   "source": [
    "lengths = df_text['title'].apply(len)\n",
    "\n",
    "# Calculate the median length\n",
    "median_length = lengths.median()\n",
    "max_length = lengths.max()\n",
    "min_length = lengths.min()\n",
    "\n",
    "truncate_length = max_length\n",
    "\n",
    "print(min_length)\n",
    "print(median_length)\n",
    "print(max_length)\n",
    "print(lengths.quantile(0.95))\n",
    "\n",
    "\n",
    "plt.hist(lengths,bins=100)\n"
   ]
  },
  {
   "cell_type": "code",
   "execution_count": 8,
   "metadata": {},
   "outputs": [
    {
     "name": "stdout",
     "output_type": "stream",
     "text": [
      "7142\n"
     ]
    },
    {
     "name": "stderr",
     "output_type": "stream",
     "text": [
      "/var/folders/nf/g_pc_4zd2sx16tjwwb4r4fhm0000gn/T/ipykernel_96503/2894886352.py:10: UserWarning: Creating a tensor from a list of numpy.ndarrays is extremely slow. Please consider converting the list to a single numpy.ndarray with numpy.array() before converting to a tensor. (Triggered internally at /Users/runner/work/pytorch/pytorch/pytorch/torch/csrc/utils/tensor_new.cpp:278.)\n",
      "  return torch.tensor(vectors)\n"
     ]
    },
    {
     "name": "stdout",
     "output_type": "stream",
     "text": [
      "torch.Size([7142, 30, 300])\n",
      "torch.Size([7142])\n"
     ]
    }
   ],
   "source": [
    "# test with smaller amount of data\n",
    "FRACTION = 0.01\n",
    "size = int(df_text.shape[0] * FRACTION)\n",
    "print(size)\n",
    "\n",
    "\n",
    "# make tensors\n",
    "def text_to_tensor(text_list, merged_keyed_vectors,truncate_length):\n",
    "    vectors = [merged_keyed_vectors[word] for word in text_list[:truncate_length+1] if word in merged_keyed_vectors]\n",
    "    return torch.tensor(vectors)\n",
    "\n",
    "\n",
    "def stack_tensor(df: pd.DataFrame, col_name, word_model,truncate_length):\n",
    "    tensor_ls = []\n",
    "    label_ls = []\n",
    "    for row in df.itertuples(index=False):\n",
    "        # print(row[df.columns.get_loc('class')])\n",
    "        # print(row[df.columns.get_loc(col_name)])\n",
    "        label_ls.append(row[df.columns.get_loc(\"class\")])\n",
    "        tensor_ls.append(text_to_tensor(row[df.columns.get_loc(col_name)], word_model, truncate_length=truncate_length))\n",
    "    padded_ls = pad_sequence(tensor_ls, batch_first=True)\n",
    "    return torch.tensor(label_ls), torch.stack(tuple(padded_ls))\n",
    "\n",
    "\n",
    "text_labels_tensor, text_tensor = stack_tensor(\n",
    "    df_text.iloc[:size, :], \n",
    "    col_name=\"title\", \n",
    "    word_model=merged_keyed_vectors,\n",
    "    truncate_length=truncate_length\n",
    ")\n",
    "print(text_tensor.size())\n",
    "print(text_labels_tensor.size())\n",
    "text_dataset = TensorDataset(text_tensor, text_labels_tensor)"
   ]
  },
  {
   "cell_type": "code",
   "execution_count": 9,
   "metadata": {},
   "outputs": [
    {
     "name": "stdout",
     "output_type": "stream",
     "text": [
      "total_size 7142\n",
      "train_size 5714\n",
      "test_size 1428\n"
     ]
    }
   ],
   "source": [
    "def split(tensor_dataset, test_split=0.2):\n",
    "    test_size = int(len(tensor_dataset) * test_split)\n",
    "    train_size = int(len(tensor_dataset) - test_size)\n",
    "    train_data, test_data = random_split(tensor_dataset, [train_size, test_size])\n",
    "    print(f'total_size {len(tensor_dataset)}')\n",
    "    print(f'train_size {len(train_data)}')\n",
    "    print(f'test_size {len(test_data)}')\n",
    "    return train_data, test_data\n",
    "\n",
    "train_text_tensor, test_text_tensor = split(text_dataset,0.2)\n",
    "\n",
    "with open(\"./data/train_title\",\"wb\") as f:\n",
    "    pickle.dump(train_text_tensor,f)\n",
    "with open(\"./data/test_title\",\"wb\") as f:\n",
    "    pickle.dump(test_text_tensor,f)\n"
   ]
  },
  {
   "cell_type": "code",
   "execution_count": null,
   "metadata": {},
   "outputs": [],
   "source": []
  }
 ],
 "metadata": {
  "kernelspec": {
   "display_name": "ai-course",
   "language": "python",
   "name": "python3"
  },
  "language_info": {
   "codemirror_mode": {
    "name": "ipython",
    "version": 3
   },
   "file_extension": ".py",
   "mimetype": "text/x-python",
   "name": "python",
   "nbconvert_exporter": "python",
   "pygments_lexer": "ipython3",
   "version": "3.10.12"
  }
 },
 "nbformat": 4,
 "nbformat_minor": 2
}
