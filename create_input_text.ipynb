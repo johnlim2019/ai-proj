{
 "cells": [
  {
   "cell_type": "markdown",
   "metadata": {},
   "source": [
    "Vocab"
   ]
  },
  {
   "cell_type": "code",
   "execution_count": 1,
   "metadata": {},
   "outputs": [],
   "source": [
    "import pandas as pd\n",
    "from gensim.models import KeyedVectors\n",
    "import torch\n",
    "from torch.nn.utils.rnn import pad_sequence\n",
    "from torch.utils.data import TensorDataset, random_split\n",
    "import pickle\n",
    "import matplotlib.pyplot as plt"
   ]
  },
  {
   "cell_type": "code",
   "execution_count": 2,
   "metadata": {},
   "outputs": [],
   "source": [
    "df_text = pd.read_pickle('./data/clean_text.pkl')\n",
    "merged_keyed_vectors = KeyedVectors.load_word2vec_format(\"./data/model_text\")\n",
    "\n"
   ]
  },
  {
   "cell_type": "code",
   "execution_count": 3,
   "metadata": {},
   "outputs": [
    {
     "name": "stdout",
     "output_type": "stream",
     "text": [
      "0\n",
      "236.0\n",
      "12428\n",
      "806.0\n"
     ]
    },
    {
     "data": {
      "text/plain": [
       "(array([1.5982e+04, 2.2089e+04, 1.3977e+04, 7.3530e+03, 4.4190e+03,\n",
       "        2.9970e+03, 1.6880e+03, 8.8100e+02, 4.5000e+02, 3.3100e+02,\n",
       "        1.9300e+02, 1.9900e+02, 1.1200e+02, 8.6000e+01, 8.1000e+01,\n",
       "        7.1000e+01, 4.9000e+01, 4.5000e+01, 4.6000e+01, 4.9000e+01,\n",
       "        2.7000e+01, 2.3000e+01, 1.4000e+01, 2.4000e+01, 2.4000e+01,\n",
       "        1.4000e+01, 1.5000e+01, 4.0000e+00, 7.0000e+00, 1.2000e+01,\n",
       "        6.0000e+00, 5.0000e+00, 2.0000e+00, 9.0000e+00, 3.0000e+00,\n",
       "        7.0000e+00, 8.0000e+00, 1.0000e+00, 5.0000e+00, 3.0000e+00,\n",
       "        3.0000e+00, 3.0000e+00, 1.0000e+00, 2.0000e+00, 0.0000e+00,\n",
       "        3.0000e+00, 0.0000e+00, 1.0000e+00, 0.0000e+00, 1.0000e+00,\n",
       "        0.0000e+00, 0.0000e+00, 0.0000e+00, 1.0000e+00, 1.0000e+00,\n",
       "        0.0000e+00, 0.0000e+00, 0.0000e+00, 0.0000e+00, 0.0000e+00,\n",
       "        0.0000e+00, 1.0000e+00, 0.0000e+00, 0.0000e+00, 0.0000e+00,\n",
       "        2.0000e+00, 0.0000e+00, 0.0000e+00, 0.0000e+00, 0.0000e+00,\n",
       "        0.0000e+00, 0.0000e+00, 0.0000e+00, 3.0000e+00, 1.0000e+00,\n",
       "        0.0000e+00, 0.0000e+00, 0.0000e+00, 0.0000e+00, 0.0000e+00,\n",
       "        0.0000e+00, 0.0000e+00, 0.0000e+00, 2.0000e+00, 0.0000e+00,\n",
       "        0.0000e+00, 1.0000e+00, 0.0000e+00, 0.0000e+00, 0.0000e+00,\n",
       "        0.0000e+00, 0.0000e+00, 0.0000e+00, 0.0000e+00, 0.0000e+00,\n",
       "        0.0000e+00, 0.0000e+00, 0.0000e+00, 0.0000e+00, 1.0000e+00]),\n",
       " array([    0.  ,   124.28,   248.56,   372.84,   497.12,   621.4 ,\n",
       "          745.68,   869.96,   994.24,  1118.52,  1242.8 ,  1367.08,\n",
       "         1491.36,  1615.64,  1739.92,  1864.2 ,  1988.48,  2112.76,\n",
       "         2237.04,  2361.32,  2485.6 ,  2609.88,  2734.16,  2858.44,\n",
       "         2982.72,  3107.  ,  3231.28,  3355.56,  3479.84,  3604.12,\n",
       "         3728.4 ,  3852.68,  3976.96,  4101.24,  4225.52,  4349.8 ,\n",
       "         4474.08,  4598.36,  4722.64,  4846.92,  4971.2 ,  5095.48,\n",
       "         5219.76,  5344.04,  5468.32,  5592.6 ,  5716.88,  5841.16,\n",
       "         5965.44,  6089.72,  6214.  ,  6338.28,  6462.56,  6586.84,\n",
       "         6711.12,  6835.4 ,  6959.68,  7083.96,  7208.24,  7332.52,\n",
       "         7456.8 ,  7581.08,  7705.36,  7829.64,  7953.92,  8078.2 ,\n",
       "         8202.48,  8326.76,  8451.04,  8575.32,  8699.6 ,  8823.88,\n",
       "         8948.16,  9072.44,  9196.72,  9321.  ,  9445.28,  9569.56,\n",
       "         9693.84,  9818.12,  9942.4 , 10066.68, 10190.96, 10315.24,\n",
       "        10439.52, 10563.8 , 10688.08, 10812.36, 10936.64, 11060.92,\n",
       "        11185.2 , 11309.48, 11433.76, 11558.04, 11682.32, 11806.6 ,\n",
       "        11930.88, 12055.16, 12179.44, 12303.72, 12428.  ]),\n",
       " <BarContainer object of 100 artists>)"
      ]
     },
     "execution_count": 3,
     "metadata": {},
     "output_type": "execute_result"
    },
    {
     "data": {
      "image/png": "[encoded data removed]",
      "text/plain": [
       "<Figure size 640x480 with 1 Axes>"
      ]
     },
     "metadata": {},
     "output_type": "display_data"
    }
   ],
   "source": [
    "lengths = df_text['text'].apply(len)\n",
    "\n",
    "# Calculate the median length\n",
    "median_length = lengths.median()\n",
    "max_length = lengths.max()\n",
    "min_length = lengths.min()\n",
    "\n",
    "truncate_length = int(lengths.quantile(0.95))\n",
    "\n",
    "print(min_length)\n",
    "print(median_length)\n",
    "print(max_length)\n",
    "print(lengths.quantile(0.95))\n",
    "\n",
    "\n",
    "plt.hist(lengths,bins=100)\n"
   ]
  },
  {
   "cell_type": "code",
   "execution_count": 4,
   "metadata": {},
   "outputs": [
    {
     "name": "stdout",
     "output_type": "stream",
     "text": [
      "7133\n"
     ]
    },
    {
     "name": "stderr",
     "output_type": "stream",
     "text": [
      "/var/folders/nf/g_pc_4zd2sx16tjwwb4r4fhm0000gn/T/ipykernel_24680/2052607707.py:10: UserWarning: Creating a tensor from a list of numpy.ndarrays is extremely slow. Please consider converting the list to a single numpy.ndarray with numpy.array() before converting to a tensor. (Triggered internally at /Users/runner/work/pytorch/pytorch/pytorch/torch/csrc/utils/tensor_new.cpp:278.)\n",
      "  return torch.tensor(vectors)\n"
     ]
    },
    {
     "name": "stdout",
     "output_type": "stream",
     "text": [
      "torch.Size([7133, 807, 300])\n",
      "torch.Size([7133])\n"
     ]
    }
   ],
   "source": [
    "# test with smaller amount of data\n",
    "FRACTION = 0.1\n",
    "size = int(df_text.shape[0] * FRACTION)\n",
    "print(size)\n",
    "\n",
    "\n",
    "# make tensors\n",
    "def text_to_tensor(text_list, merged_keyed_vectors,truncate_length):\n",
    "    vectors = [merged_keyed_vectors[word] for word in text_list[:truncate_length+1] if word in merged_keyed_vectors]\n",
    "    return torch.tensor(vectors)\n",
    "\n",
    "\n",
    "def stack_tensor(df: pd.DataFrame, col_name, word_model,truncate_length):\n",
    "    tensor_ls = []\n",
    "    label_ls = []\n",
    "    for row in df.itertuples(index=False):\n",
    "        # print(row[df.columns.get_loc('class')])\n",
    "        # print(row[df.columns.get_loc(col_name)])\n",
    "        label_ls.append(row[df.columns.get_loc(\"class\")])\n",
    "        tensor_ls.append(text_to_tensor(row[df.columns.get_loc(col_name)], word_model, truncate_length=truncate_length))\n",
    "    padded_ls = pad_sequence(tensor_ls, batch_first=True)\n",
    "    return torch.tensor(label_ls), torch.stack(tuple(padded_ls))\n",
    "\n",
    "\n",
    "text_labels_tensor, text_tensor = stack_tensor(\n",
    "    df_text.iloc[:size, :], \n",
    "    col_name=\"text\", \n",
    "    word_model=merged_keyed_vectors,\n",
    "    truncate_length=truncate_length\n",
    ")\n",
    "print(text_tensor.size())\n",
    "print(text_labels_tensor.size())\n",
    "text_dataset = TensorDataset(text_tensor, text_labels_tensor)"
   ]
  },
  {
   "cell_type": "code",
   "execution_count": 5,
   "metadata": {},
   "outputs": [
    {
     "name": "stdout",
     "output_type": "stream",
     "text": [
      "total_size 7133\n",
      "train_size 5707\n",
      "test_size 1426\n"
     ]
    }
   ],
   "source": [
    "def split(tensor_dataset, test_split=0.2):\n",
    "    test_size = int(len(tensor_dataset) * test_split)\n",
    "    train_size = int(len(tensor_dataset) - test_size)\n",
    "    train_data, test_data = random_split(tensor_dataset, [train_size, test_size])\n",
    "    print(f'total_size {len(tensor_dataset)}')\n",
    "    print(f'train_size {len(train_data)}')\n",
    "    print(f'test_size {len(test_data)}')\n",
    "    return train_data, test_data\n",
    "\n",
    "train_text_tensor, test_text_tensor = split(text_dataset,0.2)\n",
    "\n",
    "with open(\"./data/train_text\",\"wb\") as f:\n",
    "    pickle.dump(train_text_tensor,f)\n",
    "with open(\"./data/test_text\",\"wb\") as f:\n",
    "    pickle.dump(test_text_tensor,f)\n"
   ]
  },
  {
   "cell_type": "code",
   "execution_count": null,
   "metadata": {},
   "outputs": [],
   "source": []
  }
 ],
 "metadata": {
  "kernelspec": {
   "display_name": "ai-course",
   "language": "python",
   "name": "python3"
  },
  "language_info": {
   "codemirror_mode": {
    "name": "ipython",
    "version": 3
   },
   "file_extension": ".py",
   "mimetype": "text/x-python",
   "name": "python",
   "nbconvert_exporter": "python",
   "pygments_lexer": "ipython3",
   "version": "3.10.12"
  }
 },
 "nbformat": 4,
 "nbformat_minor": 2
}
